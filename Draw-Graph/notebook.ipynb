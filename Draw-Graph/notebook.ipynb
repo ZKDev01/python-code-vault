{
 "cells": [
  {
   "cell_type": "markdown",
   "metadata": {},
   "source": [
    "# Coloración de un Grafo\n",
    "\n",
    "Tenemos un grafo $G = (V,E)$ \n",
    "\n",
    "explicación de conceptos básicos del algoritmo de coloración\n",
    "\n",
    "Para la implementación de la solución se realiza un algoritmo look-ahead, precisamente el algoritmo forward checking para encontrar la solución al problema (si existe)"
   ]
  },
  {
   "cell_type": "code",
   "execution_count": 5,
   "metadata": {},
   "outputs": [],
   "source": [
    "def make_list_of_pairs(v: list[str], c: list[int]):\n",
    "  pairs = []\n",
    "  for element in v:\n",
    "    for color in c:\n",
    "      pairs.append((element, color))\n",
    "  return pairs\n",
    "\n",
    "def call_forward_checking(v: list[str], e: list, c: list[int]):\n",
    "  pairs = make_list_of_pairs(v, c)\n",
    "  print(pairs)\n",
    "\n",
    "def forward_checking(v: list[str], e: list, c: list[int], i: int, j: int, pairs: list):\n",
    "  xi = v[i]\n",
    "  cj = c[j]\n",
    "  pair = (xi, cj)\n",
    "  # check-forward\n",
    "\n",
    "\n",
    "  pass\n",
    "\n",
    "def del_from_pairs(pair: tuple[str, int], pairs: list[tuple[str, int]], c: list[int]):\n",
    "  pass"
   ]
  },
  {
   "cell_type": "code",
   "execution_count": 4,
   "metadata": {},
   "outputs": [],
   "source": [
    "v = ['a', 'b', 'c', 'd', 'e']\n",
    "e = [('a', 'b'), ('c', 'd'), ('e', 'a'), ('e', 'c')]\n",
    "c = [i+1 for i in range(0, len(v))]"
   ]
  },
  {
   "cell_type": "code",
   "execution_count": 6,
   "metadata": {},
   "outputs": [
    {
     "name": "stdout",
     "output_type": "stream",
     "text": [
      "[('a', 1), ('a', 2), ('a', 3), ('a', 4), ('a', 5), ('e', 1), ('e', 2), ('e', 3), ('e', 4), ('e', 5), ('c', 1), ('c', 2), ('c', 3), ('c', 4), ('c', 5), ('b', 1), ('b', 2), ('b', 3), ('b', 4), ('b', 5), ('d', 1), ('d', 2), ('d', 3), ('d', 4), ('d', 5)]\n"
     ]
    }
   ],
   "source": [
    "call_forward_checking(v,e,c)"
   ]
  }
 ],
 "metadata": {
  "kernelspec": {
   "display_name": "Python 3",
   "language": "python",
   "name": "python3"
  },
  "language_info": {
   "codemirror_mode": {
    "name": "ipython",
    "version": 3
   },
   "file_extension": ".py",
   "mimetype": "text/x-python",
   "name": "python",
   "nbconvert_exporter": "python",
   "pygments_lexer": "ipython3",
   "version": "3.12.2"
  }
 },
 "nbformat": 4,
 "nbformat_minor": 2
}
