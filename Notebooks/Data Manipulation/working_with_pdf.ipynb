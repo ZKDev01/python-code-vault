{
 "cells": [
  {
   "cell_type": "code",
   "execution_count": null,
   "metadata": {},
   "outputs": [],
   "source": [
    "import os\n",
    "import io\n",
    "import fitz\n",
    "import copy\n",
    "import base64\n",
    "\n",
    "from PIL import Image\n",
    "\n",
    "from PyPDF2 import PdfReader, PageObject\n",
    "\n",
    "from typing import List,Dict\n",
    "from IPython.display import Image as IPImage\n",
    "from IPython.display import display"
   ]
  },
  {
   "cell_type": "code",
   "execution_count": null,
   "metadata": {},
   "outputs": [],
   "source": [
    "# modificar: tiene 3 for \n",
    "def get_files (directory: str, fmt: List[str]):\n",
    "  dict_files:Dict = { f:[] for f in fmt }\n",
    "\n",
    "  for root,_,files in os.walk (directory):\n",
    "    for file in files:\n",
    "      for f in fmt:\n",
    "        if file.endswith(f):\n",
    "          dict_files[f].append(os.path.join(root,file))\n",
    "\n",
    "  return dict_files\n",
    "\n",
    "data_path_split = os.getcwd().split('\\\\')\n",
    "ROOT_PATH = \"\\\\\".join(data_path_split[:len(data_path_split)-2])\n",
    "DATA_PATH = ROOT_PATH + '\\\\_data\\\\private\\\\'\n",
    "\n",
    "dirs = get_files(DATA_PATH, ['.pdf'])\n",
    "pdf_dirs = dirs.get( '.pdf' )\n",
    "pdf_dirs"
   ]
  },
  {
   "cell_type": "code",
   "execution_count": null,
   "metadata": {},
   "outputs": [],
   "source": [
    "document = PdfReader( pdf_dirs[0] )\n",
    "no_pages = len(document.pages)\n",
    "\n",
    "for i,page in enumerate(document.pages):\n",
    "  print (f\"Page {i+1}\")\n",
    "  print (f\"Number of word: {len(page.extract_text())}\")"
   ]
  },
  {
   "cell_type": "code",
   "execution_count": 92,
   "metadata": {},
   "outputs": [],
   "source": [
    "def pdf_page_to_base64(pdf_path: str, page_number: int):\n",
    "  pdf_document = fitz.open(pdf_path)\n",
    "  page = pdf_document.load_page(page_number)\n",
    "  pix = page.get_pixmap()\n",
    "  img = Image.frombytes(\"RGB\", [pix.width, pix.height], pix.samples)\n",
    "\n",
    "  buffer = io.BytesIO()\n",
    "  img.save(buffer, format=\"PNG\")\n",
    "\n",
    "  base64_image = base64.b64encode(buffer.getvalue()).decode(\"utf-8\")\n",
    "  return base64_image"
   ]
  },
  {
   "cell_type": "code",
   "execution_count": null,
   "metadata": {},
   "outputs": [],
   "source": [
    "# Seleccionar el documento con el que se va a trabajar\n",
    "pdf_dir:str = pdf_dirs[0]\n",
    "pdf_name = pdf_dir.split('\\\\')[-1].split('.')[0]\n",
    "\n",
    "new_folder = 'img\\\\' + pdf_name + '\\\\'\n",
    "folder_path = os.path.join(DATA_PATH, new_folder)\n",
    "try:\n",
    "  os.makedirs(folder_path)\n",
    "except FileExistsError:\n",
    "  print (\"The folder exist\")"
   ]
  },
  {
   "cell_type": "code",
   "execution_count": 94,
   "metadata": {},
   "outputs": [],
   "source": [
    "# por cada pagina del pdf, capturar la pagina como una imagen y guardarla  \n",
    "\n",
    "for i in range(no_pages):\n",
    "  base64_image = pdf_page_to_base64(pdf_dir, i)\n",
    "  with open(folder_path + f'{pdf_name.capitalize()} Page {i}.png', 'wb') as file:\n",
    "    file.write (base64.b64decode(base64_image))\n",
    "\n",
    "## Mostrar una imagen\n",
    "#display(IPImage(data=base64.b64decode(base64_image)))"
   ]
  },
  {
   "cell_type": "code",
   "execution_count": 95,
   "metadata": {},
   "outputs": [],
   "source": [
    "imgs = [ ]\n",
    "for _,_,file in os.walk(folder_path):\n",
    "  for item in file:\n",
    "    if item.endswith('.png'):\n",
    "      imgs.append (item)\n",
    "\n",
    "imgs_path = [ os.path.join( folder_path,img ) for img in imgs ]"
   ]
  },
  {
   "cell_type": "code",
   "execution_count": 96,
   "metadata": {},
   "outputs": [],
   "source": [
    "def display_image_from_dir (img_path: str):  \n",
    "  pil_image = Image.open(img_path)\n",
    "  buffer = io.BytesIO()\n",
    "  pil_image.save(buffer, format=\"PNG\")\n",
    "  base64_image = base64.b64encode(buffer.getvalue()).decode(\"utf-8\")\n",
    "  display(IPImage(data=base64.b64decode( base64_image )))"
   ]
  },
  {
   "cell_type": "code",
   "execution_count": null,
   "metadata": {},
   "outputs": [],
   "source": [
    "for i in range(5):\n",
    "  img_path = imgs_path[i]\n",
    "  display_image_from_dir(img_path) "
   ]
  },
  {
   "cell_type": "code",
   "execution_count": 108,
   "metadata": {},
   "outputs": [],
   "source": [
    "def extract_images_from_page (page: PageObject, document_name: str, folder: str, no_page: int):\n",
    "  #! Error: not enough image data\n",
    "  for i, image_file_object in enumerate(page.images):\n",
    "    with open(f'{folder}\\\\{document_name} Page {no_page} Image {i}.png', 'wb') as fp:\n",
    "      fp.write (image_file_object.data)"
   ]
  },
  {
   "cell_type": "code",
   "execution_count": null,
   "metadata": {},
   "outputs": [],
   "source": [
    "document_name = pdf_dirs[0].split('\\\\')[-1].split('.')[0]\n",
    "\n",
    "for i in range(no_pages):\n",
    "  print (i)\n",
    "  extract_images_from_page (document.pages[i], document_name, folder_path, i )"
   ]
  }
 ],
 "metadata": {
  "kernelspec": {
   "display_name": "env",
   "language": "python",
   "name": "python3"
  },
  "language_info": {
   "codemirror_mode": {
    "name": "ipython",
    "version": 3
   },
   "file_extension": ".py",
   "mimetype": "text/x-python",
   "name": "python",
   "nbconvert_exporter": "python",
   "pygments_lexer": "ipython3",
   "version": "3.10.12"
  }
 },
 "nbformat": 4,
 "nbformat_minor": 2
}
