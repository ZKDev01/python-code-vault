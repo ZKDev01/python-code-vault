{
 "cells": [
  {
   "cell_type": "markdown",
   "metadata": {},
   "source": [
    "# Librería `numpy`\n",
    "\n",
    "NumPy, short for Numerical Python, is a fundamental library in Python for numerical computations. It provides support for working with arrays and matrices of data efficiently"
   ]
  },
  {
   "cell_type": "code",
   "execution_count": 12,
   "metadata": {},
   "outputs": [],
   "source": [
    "import numpy as np\n",
    "from pprint import pprint"
   ]
  },
  {
   "cell_type": "markdown",
   "metadata": {},
   "source": [
    "## Basic"
   ]
  },
  {
   "cell_type": "code",
   "execution_count": 125,
   "metadata": {},
   "outputs": [
    {
     "name": "stdout",
     "output_type": "stream",
     "text": [
      "array([1, 2, 3, 4, 5])\n",
      "array([[1, 2, 3, 4, 5],\n",
      "       [6, 7, 8, 9, 0]])\n",
      "'Array Shape (5,)'\n",
      "'Matrix Shape (2, 5)'\n"
     ]
    }
   ],
   "source": [
    "array = np.array ( [1,2,3,4,5] )\n",
    "matrix = np.array ( [\n",
    "  [1,2,3,4,5],\n",
    "  [6,7,8,9,0]\n",
    "] )\n",
    "\n",
    "pprint (array)\n",
    "pprint (matrix)\n",
    "\n",
    "pprint (f\"Array Shape {array.shape}\")\n",
    "pprint (f\"Matrix Shape {matrix.shape}\")"
   ]
  },
  {
   "cell_type": "markdown",
   "metadata": {},
   "source": [
    "## Understanding Numpy Universal Functions (`ufuncs`)\n",
    "\n",
    "Ufuncs are a key feature of NumPy, designed to perform element - wise operations on arrays with remarkable efficiency.  At their core, ufuncs are a type of function implemented in C that can operate on arrays, broadcasting the operation if necessary.  These functions are designed to work seamlessly with arrays of various sizes and dimensions, making them a versatile tool for mathematical and numerical operations.\n",
    "\n",
    "**Key Advantages of `ufuncs`**: Ufuncs offer several notable advantages\n",
    "- *Speed*: Ufuncs are highly optimized, often faster than \n",
    "equivalent Python code with loops. The C implementation \n",
    "ensures efficient computation\n",
    "- *Convenience*: They provide a concise and convenient way to \n",
    "express mathematical operations on arrays, eliminating the need \n",
    "for explicit loops\n",
    "- *Broadcasting*: Ufuncs automatically handle broadcasting, \n",
    "allowing operations on arrays of different shapes, which greatly \n",
    "simplifies code"
   ]
  },
  {
   "cell_type": "code",
   "execution_count": 16,
   "metadata": {},
   "outputs": [
    {
     "name": "stdout",
     "output_type": "stream",
     "text": [
      "array([ 0,  1,  2,  3,  4,  5,  6,  7,  8,  9, 10])\n",
      "array([1, 4, 9, 16, 25, 36, 49, 64, 81, 100, 121], dtype=object)\n"
     ]
    }
   ],
   "source": [
    "# creating a custom ufunc\n",
    "def custom_function ( x ):\n",
    "  return ( x + 1 )**2\n",
    "\n",
    "# nin => numero de parametros de entrada\n",
    "# nout => numero de parametros de salida \n",
    "custom_ufunc = np.frompyfunc (\n",
    "  custom_function, \n",
    "  nin=1, \n",
    "  nout=1\n",
    ")\n",
    "\n",
    "N = 10\n",
    "array = np.array ( [i for i in range (N+1)] )\n",
    "result = custom_ufunc (array)\n",
    "\n",
    "pprint (array)\n",
    "pprint (result)\n"
   ]
  },
  {
   "cell_type": "markdown",
   "metadata": {},
   "source": [
    "## Arithmetic and Math Basic"
   ]
  },
  {
   "cell_type": "code",
   "execution_count": null,
   "metadata": {},
   "outputs": [
    {
     "name": "stdout",
     "output_type": "stream",
     "text": [
      "'Perform arithmetic operations'\n",
      "\n",
      "Sum\n",
      "array([  3,   8,  17,  32,  57, 100, 177, 320, 593])\n",
      "array([  3,   8,  17,  32,  57, 100, 177, 320, 593])\n",
      "\n",
      "Subtract\n",
      "array([  1,   0,  -1,   0,   7,  28,  79, 192, 431])\n",
      "array([  1,   0,  -1,   0,   7,  28,  79, 192, 431])\n",
      "\n",
      "Multiply\n",
      "array([    2,    16,    72,   256,   800,  2304,  6272, 16384, 41472])\n",
      "array([    2,    16,    72,   256,   800,  2304,  6272, 16384, 41472])\n",
      "\n",
      "Divide\n",
      "array([2.        , 1.        , 0.88888889, 1.        , 1.28      ,\n",
      "       1.77777778, 2.6122449 , 4.        , 6.32098765])\n",
      "array([2.        , 1.        , 0.88888889, 1.        , 1.28      ,\n",
      "       1.77777778, 2.6122449 , 4.        , 6.32098765])\n",
      "array([2, 1, 0, 1, 1, 1, 2, 4, 6])\n"
     ]
    }
   ],
   "source": [
    "N0 = 1\n",
    "N1 = 10\n",
    "a1 = np.array ( [2**i for i in range (N0,N1)] )\n",
    "a2 = np.array ( [j**2 for j in range (N0,N1)] )\n",
    "\n",
    "pprint ('Perform arithmetic operations')\n",
    "\n",
    "print ('\\nSum')\n",
    "pprint (a1+a2)\n",
    "pprint (np.add (a1,a2))\n",
    "\n",
    "print ('\\nSubtract')\n",
    "pprint (a1-a2)\n",
    "pprint (np.subtract (a1,a2))\n",
    "\n",
    "print ('\\nMultiply')\n",
    "pprint (a1*a2)\n",
    "pprint (np.multiply (a1,a2))\n",
    "\n",
    "print ('\\nDivide')\n",
    "pprint (a1/a2)\n",
    "pprint (np.divide(a1,a2))\n",
    "pprint (a1//a2)"
   ]
  },
  {
   "cell_type": "code",
   "execution_count": 52,
   "metadata": {},
   "outputs": [
    {
     "name": "stdout",
     "output_type": "stream",
     "text": [
      "array([0.        , 0.06666667, 0.26666667, 0.6       , 1.06666667,\n",
      "       1.66666667, 2.4       , 3.26666667, 4.26666667, 5.4       ])\n",
      "'Round elements to the nearest integer'\n",
      "array([0.  , 0.07, 0.27, 0.6 , 1.07, 1.67, 2.4 , 3.27, 4.27, 5.4 ])\n",
      "'Round down to the nearest integer'\n",
      "array([0.  , 0.07, 0.27, 0.6 , 1.07, 1.67, 2.4 , 3.27, 4.27, 5.4 ])\n",
      "'Round up to the nearest integer'\n",
      "array([0., 1., 1., 1., 2., 2., 3., 4., 5., 6.])\n"
     ]
    }
   ],
   "source": [
    "N = 10\n",
    "A = 15\n",
    "decimals = 2\n",
    "array = np.array ( [(i**2)/A for i in range (N)] )\n",
    "\n",
    "pprint (array)\n",
    "\n",
    "pprint (\"Round elements to the nearest integer\")\n",
    "rounded = np.round (array, decimals=decimals)\n",
    "pprint (rounded)\n",
    "\n",
    "pprint (\"Round down to the nearest integer\")\n",
    "floor = np.round (array, decimals=decimals)\n",
    "pprint (floor)\n",
    "\n",
    "pprint (\"Round up to the nearest integer\")\n",
    "ceil = np.ceil (array)\n",
    "pprint (ceil)"
   ]
  },
  {
   "cell_type": "code",
   "execution_count": 54,
   "metadata": {},
   "outputs": [
    {
     "name": "stdout",
     "output_type": "stream",
     "text": [
      "'Natural Logarithm: [0.   1.79 2.56 3.09 3.5  3.83 4.11 4.36 4.57 4.77]'\n",
      "'Base 10 Logarithm: [0.   0.78 1.11 1.34 1.52 1.66 1.79 1.89 1.99 2.07]'\n"
     ]
    }
   ],
   "source": [
    "N = 10\n",
    "A = 2\n",
    "array = np.array ( [ ((i + 1)**A + A*i) for i in range(N) ] )\n",
    "ln_natural = np.log (array)\n",
    "ln_10 = np.log10 (array)\n",
    "\n",
    "pprint (f\"Natural Logarithm: { np.round(ln_natural,2) }\")\n",
    "pprint (f\"Base 10 Logarithm: { np.round(ln_10,2) }\")"
   ]
  },
  {
   "cell_type": "code",
   "execution_count": null,
   "metadata": {},
   "outputs": [
    {
     "name": "stdout",
     "output_type": "stream",
     "text": [
      "'Cumulative sum [ 0  1  3  6 10 15 21 28 36 45]'\n"
     ]
    }
   ],
   "source": [
    "N = 100\n",
    "\n",
    "array = np.array ( [i for i in range(N+1)] )\n",
    "\n",
    "def sum_function ( n:int ):\n",
    "  return (n*(n+1))/2\n",
    "\n",
    "assert sum_function(n=N) == np.sum(array)\n",
    "\n",
    "pprint (f\"Cumulative sum => {np.cumsum(array)[0:10]}\")"
   ]
  },
  {
   "cell_type": "code",
   "execution_count": 64,
   "metadata": {},
   "outputs": [
    {
     "name": "stdout",
     "output_type": "stream",
     "text": [
      "'Total Product: 3628800'\n",
      "'Cumulative Product: [  1   2   6  24 120]'\n"
     ]
    }
   ],
   "source": [
    "N = 10\n",
    "\n",
    "array = np.array ( [i for i in range (1,N+1)] )\n",
    "\n",
    "product = np.prod (array)\n",
    "cumulative_product = np.cumprod (array)\n",
    "\n",
    "pprint (f\"Total Product: {product}\")\n",
    "pprint (f\"Cumulative Product: {cumulative_product[0:5]}\")"
   ]
  },
  {
   "cell_type": "code",
   "execution_count": null,
   "metadata": {},
   "outputs": [
    {
     "name": "stdout",
     "output_type": "stream",
     "text": [
      "array([16, 12, 15, 13, 11, 11, 14, 19, 16, 15, 16, 14, 19, 11, 19, 16, 13,\n",
      "       10, 12, 17, 16, 19, 10, 19, 14, 15, 10, 10, 15, 13, 12, 16, 12, 11,\n",
      "       12, 14, 10, 16, 16, 11, 13, 14, 12, 12, 17, 11, 14, 10, 10, 11, 19,\n",
      "       16, 18, 16, 19, 14, 14, 14, 16, 15, 13, 13, 19, 18, 19, 14, 13, 10,\n",
      "       11, 10, 16, 12, 10, 13, 11, 14, 19, 19, 16, 12, 19, 11, 17, 18, 15,\n",
      "       14, 17, 11, 16, 12, 12, 12, 17, 15, 15, 12, 18, 10, 10, 15])\n",
      "'LCM: 232792560'\n",
      "'Total Product: 0'\n",
      "'GCD: 1'\n"
     ]
    }
   ],
   "source": [
    "N = 100\n",
    "N0 = 10\n",
    "N1 = 20\n",
    "\n",
    "array = np.random.randint(low=N0, high=N1, size=N) \n",
    "pprint (array)\n",
    "\n",
    "# finding the lcm (least common multiple)\n",
    "pprint (f\"LCM: {np.lcm.reduce(array)}\")\n",
    "\n",
    "# finding the gcd (greatest common divisor)\n",
    "pprint (f\"GCD: {np.gcd.reduce(array)}\")"
   ]
  },
  {
   "cell_type": "code",
   "execution_count": 110,
   "metadata": {},
   "outputs": [
    {
     "name": "stdout",
     "output_type": "stream",
     "text": [
      "'Hyperbolic Sine: [ 0.    1.18  3.63 10.02 27.29]'\n",
      "'Hyperbolic Cosine: [ 1.    1.54  3.76 10.07 27.31]'\n"
     ]
    }
   ],
   "source": [
    "N = 5\n",
    "array = np.array( [i for i in range(N)] )\n",
    "\n",
    "sinh = np.sinh (array)\n",
    "cosh = np.cosh (array)\n",
    "\n",
    "pprint (f\"Hyperbolic Sine: {np.round(sinh,2)}\")\n",
    "pprint (f\"Hyperbolic Cosine: {np.round(cosh,2)}\")"
   ]
  },
  {
   "cell_type": "code",
   "execution_count": 123,
   "metadata": {},
   "outputs": [
    {
     "name": "stdout",
     "output_type": "stream",
     "text": [
      "array([ 0, 11,  6, 16,  9, 17, 13, 10,  8,  5])\n",
      "array([14, 16, 13, 21, 20, 22, 20, 18, 22, 11])\n",
      "'Union: [ 0  5  6  8  9 10 11 13 14 16 17 18 20 21 22]'\n",
      "'Intersection: [11 13 16]'\n",
      "'Difference Set: [ 0  5  6  8  9 10 17]'\n"
     ]
    }
   ],
   "source": [
    "N = 10\n",
    "N0 = 0\n",
    "N1 = 20\n",
    "M = 10\n",
    "M0 = 10\n",
    "M1 = 30\n",
    "\n",
    "array1 = np.random.randint (N0,N1,N)\n",
    "array2 = np.random.randint (M0,M1,M)\n",
    "\n",
    "pprint (array1)\n",
    "pprint (array2)\n",
    "\n",
    "union = np.union1d (array1,array2)\n",
    "intersection = np.intersect1d (array1,array2)\n",
    "difference = np.setdiff1d (array1,array2)\n",
    "\n",
    "pprint (f\"Union: {union}\")\n",
    "pprint (f\"Intersection: {intersection}\")\n",
    "pprint (f\"Difference Set: {difference}\")"
   ]
  },
  {
   "cell_type": "markdown",
   "metadata": {},
   "source": [
    "## Mastery in Numpy"
   ]
  },
  {
   "cell_type": "code",
   "execution_count": null,
   "metadata": {},
   "outputs": [],
   "source": [
    "\n",
    "N = 100_000\n",
    "\n",
    "array = np.array( [i for i in range(N)] )\n",
    "outer = np.outer(array,array)\n",
    "pprint (array.shape)\n",
    "pprint (outer.shape)"
   ]
  },
  {
   "cell_type": "code",
   "execution_count": 178,
   "metadata": {},
   "outputs": [
    {
     "name": "stdout",
     "output_type": "stream",
     "text": [
      "'Solution: [3.15 2.65 0.95]'\n"
     ]
    }
   ],
   "source": [
    "# solve a system of linear equations with multiple variables\n",
    "\n",
    "A = np.array([\n",
    "  [2,1,-1],\n",
    "  [1,3,2],\n",
    "  [1,0,3]\n",
    "])\n",
    "b = np.array( [8,13,6] )\n",
    "\n",
    "x = np.linalg.solve(A,b)\n",
    "pprint (f\"Solution: {x}\")"
   ]
  },
  {
   "cell_type": "code",
   "execution_count": 177,
   "metadata": {},
   "outputs": [
    {
     "name": "stdout",
     "output_type": "stream",
     "text": [
      "Eigenvalues: [0. 0. 0. 0.]\n",
      "Eigenvectors:\n",
      "[[1. 0. 0. 0.]\n",
      " [0. 1. 0. 0.]\n",
      " [0. 0. 1. 0.]\n",
      " [0. 0. 0. 1.]]\n"
     ]
    }
   ],
   "source": [
    "# generate a random symmetric matrix and find its eigenvalues and eigenvectors\n",
    "\n",
    "symmetric_matrix = np.random.rand(4,4)\n",
    "symmetric_matrix = (symmetric_matrix + symmetric_matrix.T) // 2\n",
    "\n",
    "eigenvalues, eigenvectors = np.linalg.eig(symmetric_matrix)\n",
    "print (f\"Eigenvalues: {eigenvalues}\")\n",
    "print (f\"Eigenvectors:\\n{eigenvectors}\")"
   ]
  },
  {
   "cell_type": "code",
   "execution_count": 173,
   "metadata": {},
   "outputs": [
    {
     "name": "stdout",
     "output_type": "stream",
     "text": [
      "\n",
      "Mean along Axis 0: [[3. 4.]\n",
      " [5. 6.]]\n",
      "Mean along Axis 1: [[2. 3.]\n",
      " [6. 7.]]\n",
      "Mean along Axis 2: [[1.5 3.5]\n",
      " [5.5 7.5]]\n",
      "\n"
     ]
    }
   ],
   "source": [
    "# create a simple 3D array and calculate the mean along specified axes\n",
    "\n",
    "three_dimensional = np.array ( [\n",
    "  [\n",
    "    [1,2],\n",
    "    [3,4]\n",
    "  ],\n",
    "  [\n",
    "    [5,6],\n",
    "    [7,8]\n",
    "  ]\n",
    "])\n",
    "\n",
    "mean_along_axis0 = np.mean (three_dimensional,axis=0)\n",
    "mean_along_axis1 = np.mean (three_dimensional,axis=1)\n",
    "mean_along_axis2 = np.mean (three_dimensional,axis=2)\n",
    "\n",
    "print (f\"\"\"\n",
    "Mean along Axis 0: {mean_along_axis0}\n",
    "Mean along Axis 1: {mean_along_axis1}\n",
    "Mean along Axis 2: {mean_along_axis2}\n",
    "\"\"\")"
   ]
  },
  {
   "cell_type": "code",
   "execution_count": 172,
   "metadata": {},
   "outputs": [
    {
     "name": "stdout",
     "output_type": "stream",
     "text": [
      "array([[ 1.        ,  2.        , 10.        ,  1.73205081],\n",
      "       [ 0.        ,  0.        ,  2.        ,  1.41421356]])\n"
     ]
    }
   ],
   "source": [
    "# calculate the element - wise square root of a 2D array and handle negative values\n",
    "\n",
    "def transform_negative_and_calculate_sqrt (array):\n",
    "  array[array < 0] = 0\n",
    "  sqrt = np.sqrt(array)\n",
    "  return sqrt\n",
    "\n",
    "matrix = np.array ( [ [1,4,100,3],[-1,0,4,2] ] )\n",
    "pprint (transform_negative_and_calculate_sqrt(matrix))"
   ]
  },
  {
   "cell_type": "code",
   "execution_count": 170,
   "metadata": {},
   "outputs": [
    {
     "name": "stdout",
     "output_type": "stream",
     "text": [
      "\n",
      "Determinant: 5.000000000000001\n",
      "Is Invertible: True\n",
      "\n"
     ]
    }
   ],
   "source": [
    "# calculate the determinant of a 2D matrix and check if its invertible\n",
    "\n",
    "matrix = np.array ( [\n",
    "  [2,1],\n",
    "  [1,3]\n",
    "] )\n",
    "\n",
    "determinant = np.linalg.det (matrix)\n",
    "print (f\"\"\"\n",
    "Determinant: {determinant}\n",
    "Is Invertible: {determinant != 0}\n",
    "\"\"\")"
   ]
  },
  {
   "cell_type": "code",
   "execution_count": 169,
   "metadata": {},
   "outputs": [
    {
     "name": "stdout",
     "output_type": "stream",
     "text": [
      "array([       inf, 0.25      ,        inf,        inf,        inf,\n",
      "       1.        , 0.33333333, 0.5       , 1.        , 1.        ])\n"
     ]
    },
    {
     "name": "stderr",
     "output_type": "stream",
     "text": [
      "C:\\Users\\Zkorpion\\AppData\\Local\\Temp\\ipykernel_11896\\3231233310.py:9: RuntimeWarning: divide by zero encountered in divide\n",
      "  reciprocal = np.where (array != 0, 1 / array, np.inf)\n"
     ]
    }
   ],
   "source": [
    "# calculate the element - wise reciprocal of a 2D array and handle zero values\n",
    "\n",
    "matrix = np.array ( [\n",
    "  [1,2],\n",
    "  [0,3],\n",
    "  [0,0]\n",
    "] )\n",
    "\n",
    "reciprocal = np.where (array != 0, 1 / array, np.inf)\n",
    "pprint (reciprocal)"
   ]
  },
  {
   "cell_type": "code",
   "execution_count": 168,
   "metadata": {},
   "outputs": [
    {
     "name": "stdout",
     "output_type": "stream",
     "text": [
      "array([0, 4, 0, 0, 0, 1, 3, 2, 1, 1])\n",
      "array([ True, False,  True,  True,  True, False, False, False, False,\n",
      "       False])\n",
      "masked_array(data=[--, 4, --, --, --, 1, 3, 2, 1, 1],\n",
      "             mask=[ True, False,  True,  True,  True, False, False, False,\n",
      "                   False, False],\n",
      "       fill_value=999999)\n",
      "<class 'numpy.ma.core.MaskedArray'>\n"
     ]
    }
   ],
   "source": [
    "# create a masked array to handle invalid values in a 1D array\n",
    "N = 10\n",
    "MIN = 0\n",
    "MAX = 5\n",
    "X = 0\n",
    "\n",
    "array = np.random.randint (MIN,MAX,N)\n",
    "mask = array == X\n",
    "\n",
    "pprint (array)\n",
    "pprint (mask)\n",
    "\n",
    "masked = np.ma.masked_where(mask,array)\n",
    "pprint (masked)\n",
    "pprint (type(masked))"
   ]
  },
  {
   "cell_type": "code",
   "execution_count": 159,
   "metadata": {},
   "outputs": [
    {
     "name": "stdout",
     "output_type": "stream",
     "text": [
      "'Cosine Similarity Matrix'\n",
      "array([[1.        , 0.97463185, 0.95941195],\n",
      "       [0.97463185, 1.        , 0.99819089],\n",
      "       [0.95941195, 0.99819089, 1.        ]])\n"
     ]
    }
   ],
   "source": [
    "# calculate the element - wise cosine similarity between rows in a 2D array \n",
    "\n",
    "from scipy.spatial.distance import cosine\n",
    "\n",
    "matrix = np.array ( [\n",
    "  [1,2,3],\n",
    "  [4,5,6],\n",
    "  [7,8,9]\n",
    "] )\n",
    "\n",
    "cosine_similarity = np.zeros ( (matrix.shape[0],matrix.shape[1]) )\n",
    "\n",
    "for i in range(matrix.shape[0]):\n",
    "  for j in range(i, matrix.shape[1]):\n",
    "    similarity = 1 - cosine( matrix[i],matrix[j] )\n",
    "    cosine_similarity[i,j] = similarity\n",
    "    cosine_similarity[j,i] = similarity\n",
    "\n",
    "pprint (\"Cosine Similarity Matrix\")\n",
    "pprint (cosine_similarity)"
   ]
  },
  {
   "cell_type": "code",
   "execution_count": 155,
   "metadata": {},
   "outputs": [
    {
     "name": "stdout",
     "output_type": "stream",
     "text": [
      "array([ 2,  6,  9,  8,  7,  4,  3, 10,  1,  5])\n"
     ]
    }
   ],
   "source": [
    "# generate a random permutation of integers within a specified range\n",
    "\n",
    "N = 10\n",
    "permutation = np.random.permutation ( np.arange(1,N+1) )\n",
    "pprint (permutation)"
   ]
  },
  {
   "cell_type": "code",
   "execution_count": null,
   "metadata": {},
   "outputs": [
    {
     "name": "stdout",
     "output_type": "stream",
     "text": [
      "[[[8.e+00 6.e+00 4.e+00 2.e+00 1.e-10]\n",
      "  [1.e+00 3.e+00 2.e+00 7.e+00 1.e-10]]\n",
      "\n",
      " [[1.e-10 2.e+00 4.e+00 6.e+00 8.e+00]\n",
      "  [1.e+00 1.e-10 5.e+00 7.e+00 9.e+00]]]\n",
      "array([[[1.25000000e-01, 1.66666667e-01, 2.50000000e-01, 5.00000000e-01,\n",
      "         1.00000000e+10],\n",
      "        [1.00000000e+00, 3.33333333e-01, 5.00000000e-01, 1.42857143e-01,\n",
      "         1.00000000e+10]],\n",
      "\n",
      "       [[1.00000000e+10, 5.00000000e-01, 2.50000000e-01, 1.66666667e-01,\n",
      "         1.25000000e-01],\n",
      "        [1.00000000e+00, 1.00000000e+10, 2.00000000e-01, 1.42857143e-01,\n",
      "         1.11111111e-01]]])\n"
     ]
    }
   ],
   "source": [
    "# calculate the element - wise reciprocal of a 3D array and handle zero values\n",
    "\n",
    "def reciprocal_with_zero_handling (array):\n",
    "  array[array == 0] = 1e-10\n",
    "  print (array)\n",
    "  reciprocal = 1 / array\n",
    "  return reciprocal\n",
    "\n",
    "tensor = np.array ( [\n",
    "  [\n",
    "    [8.0,6.0,4.0,2.0,0],\n",
    "    [1.0,3.0,2.0,7.0,0]\n",
    "  ],\n",
    "  [\n",
    "    [0,2.0,4.0,6.0,8.0],\n",
    "    [1.0,0,5.0,7.0,9.0]\n",
    "  ]\n",
    "] )\n",
    "\n",
    "reciprocal_tensor = reciprocal_with_zero_handling (tensor)\n",
    "pprint (reciprocal_tensor)"
   ]
  },
  {
   "cell_type": "code",
   "execution_count": null,
   "metadata": {},
   "outputs": [
    {
     "name": "stdout",
     "output_type": "stream",
     "text": [
      "array([[False, False,  True],\n",
      "       [ True,  True,  True],\n",
      "       [ True, False, False]])\n",
      "25\n"
     ]
    }
   ],
   "source": [
    "# create a mask for values within a specified range in a 2D array and calculate their sum\n",
    "\n",
    "matrix = np.array ( [\n",
    "  [1,2,3],\n",
    "  [4,5,6],\n",
    "  [7,8,9]\n",
    "] )\n",
    "\n",
    "min_value = 3\n",
    "max_value = 7\n",
    "\n",
    "mask = (matrix <= max_value) & (min_value <= matrix)\n",
    "pprint (mask)\n",
    "\n",
    "sum_of_masked_values = np.sum (matrix[mask])\n",
    "pprint (sum_of_masked_values)"
   ]
  },
  {
   "cell_type": "markdown",
   "metadata": {},
   "source": [
    "## Referencias\n",
    "\n",
    "- NumPy Mastery: 150 Practical Examples in Python\n",
    "- "
   ]
  },
  {
   "cell_type": "markdown",
   "metadata": {},
   "source": [
    "# "
   ]
  }
 ],
 "metadata": {
  "kernelspec": {
   "display_name": "Python 3",
   "language": "python",
   "name": "python3"
  },
  "language_info": {
   "codemirror_mode": {
    "name": "ipython",
    "version": 3
   },
   "file_extension": ".py",
   "mimetype": "text/x-python",
   "name": "python",
   "nbconvert_exporter": "python",
   "pygments_lexer": "ipython3",
   "version": "3.12.2"
  }
 },
 "nbformat": 4,
 "nbformat_minor": 2
}
