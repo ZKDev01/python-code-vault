{
 "cells": [
  {
   "cell_type": "markdown",
   "metadata": {},
   "source": [
    "### Cargar los datos y las librerías\n",
    "\n",
    "> **¿Qué es un archivo `csv`?**\n",
    "> \n",
    "> Un archivo csv (Comma-Separated Values) es un tipo de archivo de texto plano que almacena datos tabulares, es decir, datos dispuestos en filas y columnas. Cada fila en el archivo representa un registro o una fila de datos, y cada columna representa un campo o característica de los datos. Los valores en cada fila están separados por comas, de ahí el nombre \"Comma-Separated Values\". Este formato es ampliamente utilizado para el intercambio de datos entre diferentes sistemas y aplicaciones debido a su simplicidad y compatibilidad con una amplia gama de software, incluyendo hojas de cálculo como Microsoft Excel y programas de análisis de datos como Python con la biblioteca Pandas.\n",
    "> \n",
    "> Los archivos csv son especialmente útiles en el campo de la ciencia de datos y el análisis de datos porque permiten una fácil importación y exportación de datos para su procesamiento y análisis. Por ejemplo, en Python, la biblioteca Pandas proporciona la función read_csv() para leer archivos csv y convertirlos en DataFrames, que son estructuras de datos bidimensionales que permiten el manejo y análisis de datos de manera eficiente."
   ]
  },
  {
   "cell_type": "code",
   "execution_count": 34,
   "metadata": {},
   "outputs": [],
   "source": [
    "import pandas as pd\n",
    "import numpy as np  \n",
    "import matplotlib.pyplot as plt\n",
    "\n",
    "from sklearn.linear_model import LinearRegression"
   ]
  },
  {
   "cell_type": "code",
   "execution_count": 36,
   "metadata": {},
   "outputs": [
    {
     "data": {
      "text/html": [
       "<div>\n",
       "<style scoped>\n",
       "    .dataframe tbody tr th:only-of-type {\n",
       "        vertical-align: middle;\n",
       "    }\n",
       "\n",
       "    .dataframe tbody tr th {\n",
       "        vertical-align: top;\n",
       "    }\n",
       "\n",
       "    .dataframe thead th {\n",
       "        text-align: right;\n",
       "    }\n",
       "</style>\n",
       "<table border=\"1\" class=\"dataframe\">\n",
       "  <thead>\n",
       "    <tr style=\"text-align: right;\">\n",
       "      <th></th>\n",
       "      <th>Id</th>\n",
       "      <th>MSSubClass</th>\n",
       "      <th>MSZoning</th>\n",
       "      <th>LotFrontage</th>\n",
       "      <th>LotArea</th>\n",
       "      <th>Street</th>\n",
       "      <th>Alley</th>\n",
       "      <th>LotShape</th>\n",
       "      <th>LandContour</th>\n",
       "      <th>Utilities</th>\n",
       "      <th>...</th>\n",
       "      <th>PoolArea</th>\n",
       "      <th>PoolQC</th>\n",
       "      <th>Fence</th>\n",
       "      <th>MiscFeature</th>\n",
       "      <th>MiscVal</th>\n",
       "      <th>MoSold</th>\n",
       "      <th>YrSold</th>\n",
       "      <th>SaleType</th>\n",
       "      <th>SaleCondition</th>\n",
       "      <th>SalePrice</th>\n",
       "    </tr>\n",
       "  </thead>\n",
       "  <tbody>\n",
       "    <tr>\n",
       "      <th>0</th>\n",
       "      <td>1</td>\n",
       "      <td>60</td>\n",
       "      <td>RL</td>\n",
       "      <td>65.0</td>\n",
       "      <td>8450</td>\n",
       "      <td>Pave</td>\n",
       "      <td>NaN</td>\n",
       "      <td>Reg</td>\n",
       "      <td>Lvl</td>\n",
       "      <td>AllPub</td>\n",
       "      <td>...</td>\n",
       "      <td>0</td>\n",
       "      <td>NaN</td>\n",
       "      <td>NaN</td>\n",
       "      <td>NaN</td>\n",
       "      <td>0</td>\n",
       "      <td>2</td>\n",
       "      <td>2008</td>\n",
       "      <td>WD</td>\n",
       "      <td>Normal</td>\n",
       "      <td>208500</td>\n",
       "    </tr>\n",
       "    <tr>\n",
       "      <th>1</th>\n",
       "      <td>2</td>\n",
       "      <td>20</td>\n",
       "      <td>RL</td>\n",
       "      <td>80.0</td>\n",
       "      <td>9600</td>\n",
       "      <td>Pave</td>\n",
       "      <td>NaN</td>\n",
       "      <td>Reg</td>\n",
       "      <td>Lvl</td>\n",
       "      <td>AllPub</td>\n",
       "      <td>...</td>\n",
       "      <td>0</td>\n",
       "      <td>NaN</td>\n",
       "      <td>NaN</td>\n",
       "      <td>NaN</td>\n",
       "      <td>0</td>\n",
       "      <td>5</td>\n",
       "      <td>2007</td>\n",
       "      <td>WD</td>\n",
       "      <td>Normal</td>\n",
       "      <td>181500</td>\n",
       "    </tr>\n",
       "    <tr>\n",
       "      <th>2</th>\n",
       "      <td>3</td>\n",
       "      <td>60</td>\n",
       "      <td>RL</td>\n",
       "      <td>68.0</td>\n",
       "      <td>11250</td>\n",
       "      <td>Pave</td>\n",
       "      <td>NaN</td>\n",
       "      <td>IR1</td>\n",
       "      <td>Lvl</td>\n",
       "      <td>AllPub</td>\n",
       "      <td>...</td>\n",
       "      <td>0</td>\n",
       "      <td>NaN</td>\n",
       "      <td>NaN</td>\n",
       "      <td>NaN</td>\n",
       "      <td>0</td>\n",
       "      <td>9</td>\n",
       "      <td>2008</td>\n",
       "      <td>WD</td>\n",
       "      <td>Normal</td>\n",
       "      <td>223500</td>\n",
       "    </tr>\n",
       "  </tbody>\n",
       "</table>\n",
       "<p>3 rows × 81 columns</p>\n",
       "</div>"
      ],
      "text/plain": [
       "   Id  MSSubClass MSZoning  LotFrontage  LotArea Street Alley LotShape  \\\n",
       "0   1          60       RL         65.0     8450   Pave   NaN      Reg   \n",
       "1   2          20       RL         80.0     9600   Pave   NaN      Reg   \n",
       "2   3          60       RL         68.0    11250   Pave   NaN      IR1   \n",
       "\n",
       "  LandContour Utilities  ... PoolArea PoolQC Fence MiscFeature MiscVal MoSold  \\\n",
       "0         Lvl    AllPub  ...        0    NaN   NaN         NaN       0      2   \n",
       "1         Lvl    AllPub  ...        0    NaN   NaN         NaN       0      5   \n",
       "2         Lvl    AllPub  ...        0    NaN   NaN         NaN       0      9   \n",
       "\n",
       "  YrSold  SaleType  SaleCondition  SalePrice  \n",
       "0   2008        WD         Normal     208500  \n",
       "1   2007        WD         Normal     181500  \n",
       "2   2008        WD         Normal     223500  \n",
       "\n",
       "[3 rows x 81 columns]"
      ]
     },
     "execution_count": 36,
     "metadata": {},
     "output_type": "execute_result"
    }
   ],
   "source": [
    "trainset = pd.read_csv( 'database/house-prices-train.csv' )\n",
    "testset = pd.read_csv( 'database/house-prices-test.csv' )\n",
    "\n",
    "trainset.head(3)"
   ]
  },
  {
   "cell_type": "markdown",
   "metadata": {},
   "source": [
    "> **Función `describe()` de `pandas`**\n",
    ">\n",
    "> Genera estadísticas descriptivas de las columnas numéricas en un DataFrame. Cuando se aplica a un DataFrame que se ha creado a partir de un archivo CSV utilizando `read_csv()`, proporciona un resumen estadístico de las columnas numéricas, incluyendo el conteo, la media, la desviación estándar, los valores mínimos y máximos, y los cuartiles"
   ]
  },
  {
   "cell_type": "code",
   "execution_count": 32,
   "metadata": {},
   "outputs": [
    {
     "data": {
      "text/html": [
       "<div>\n",
       "<style scoped>\n",
       "    .dataframe tbody tr th:only-of-type {\n",
       "        vertical-align: middle;\n",
       "    }\n",
       "\n",
       "    .dataframe tbody tr th {\n",
       "        vertical-align: top;\n",
       "    }\n",
       "\n",
       "    .dataframe thead th {\n",
       "        text-align: right;\n",
       "    }\n",
       "</style>\n",
       "<table border=\"1\" class=\"dataframe\">\n",
       "  <thead>\n",
       "    <tr style=\"text-align: right;\">\n",
       "      <th></th>\n",
       "      <th>Id</th>\n",
       "      <th>MSSubClass</th>\n",
       "      <th>LotFrontage</th>\n",
       "      <th>LotArea</th>\n",
       "      <th>OverallQual</th>\n",
       "      <th>OverallCond</th>\n",
       "      <th>YearBuilt</th>\n",
       "      <th>YearRemodAdd</th>\n",
       "      <th>MasVnrArea</th>\n",
       "      <th>BsmtFinSF1</th>\n",
       "      <th>...</th>\n",
       "      <th>3SsnPorch</th>\n",
       "      <th>ScreenPorch</th>\n",
       "      <th>PoolArea</th>\n",
       "      <th>MiscVal</th>\n",
       "      <th>MoSold</th>\n",
       "      <th>YrSold</th>\n",
       "      <th>SalePrice</th>\n",
       "      <th>pred</th>\n",
       "      <th>diff</th>\n",
       "      <th>cuad</th>\n",
       "    </tr>\n",
       "  </thead>\n",
       "  <tbody>\n",
       "    <tr>\n",
       "      <th>count</th>\n",
       "      <td>1460.000000</td>\n",
       "      <td>1460.000000</td>\n",
       "      <td>1201.000000</td>\n",
       "      <td>1460.000000</td>\n",
       "      <td>1460.000000</td>\n",
       "      <td>1460.000000</td>\n",
       "      <td>1460.000000</td>\n",
       "      <td>1460.000000</td>\n",
       "      <td>1452.000000</td>\n",
       "      <td>1460.000000</td>\n",
       "      <td>...</td>\n",
       "      <td>1460.000000</td>\n",
       "      <td>1460.000000</td>\n",
       "      <td>1460.000000</td>\n",
       "      <td>1460.000000</td>\n",
       "      <td>1460.000000</td>\n",
       "      <td>1460.000000</td>\n",
       "      <td>1460.000000</td>\n",
       "      <td>1460.000000</td>\n",
       "      <td>1460.000000</td>\n",
       "      <td>1.460000e+03</td>\n",
       "    </tr>\n",
       "    <tr>\n",
       "      <th>mean</th>\n",
       "      <td>730.500000</td>\n",
       "      <td>56.897260</td>\n",
       "      <td>70.049958</td>\n",
       "      <td>10516.828082</td>\n",
       "      <td>6.099315</td>\n",
       "      <td>5.575342</td>\n",
       "      <td>1971.267808</td>\n",
       "      <td>1984.865753</td>\n",
       "      <td>103.685262</td>\n",
       "      <td>443.639726</td>\n",
       "      <td>...</td>\n",
       "      <td>3.409589</td>\n",
       "      <td>15.060959</td>\n",
       "      <td>2.758904</td>\n",
       "      <td>43.489041</td>\n",
       "      <td>6.321918</td>\n",
       "      <td>2007.815753</td>\n",
       "      <td>180921.195890</td>\n",
       "      <td>181855.643836</td>\n",
       "      <td>934.447945</td>\n",
       "      <td>3.186420e+09</td>\n",
       "    </tr>\n",
       "    <tr>\n",
       "      <th>std</th>\n",
       "      <td>421.610009</td>\n",
       "      <td>42.300571</td>\n",
       "      <td>24.284752</td>\n",
       "      <td>9981.264932</td>\n",
       "      <td>1.382997</td>\n",
       "      <td>1.112799</td>\n",
       "      <td>30.202904</td>\n",
       "      <td>20.645407</td>\n",
       "      <td>181.066207</td>\n",
       "      <td>456.098091</td>\n",
       "      <td>...</td>\n",
       "      <td>29.317331</td>\n",
       "      <td>55.757415</td>\n",
       "      <td>40.177307</td>\n",
       "      <td>496.123024</td>\n",
       "      <td>2.703626</td>\n",
       "      <td>1.328095</td>\n",
       "      <td>79442.502883</td>\n",
       "      <td>63057.646011</td>\n",
       "      <td>56459.985533</td>\n",
       "      <td>1.043697e+10</td>\n",
       "    </tr>\n",
       "    <tr>\n",
       "      <th>min</th>\n",
       "      <td>1.000000</td>\n",
       "      <td>20.000000</td>\n",
       "      <td>21.000000</td>\n",
       "      <td>1300.000000</td>\n",
       "      <td>1.000000</td>\n",
       "      <td>1.000000</td>\n",
       "      <td>1872.000000</td>\n",
       "      <td>1950.000000</td>\n",
       "      <td>0.000000</td>\n",
       "      <td>0.000000</td>\n",
       "      <td>...</td>\n",
       "      <td>0.000000</td>\n",
       "      <td>0.000000</td>\n",
       "      <td>0.000000</td>\n",
       "      <td>0.000000</td>\n",
       "      <td>1.000000</td>\n",
       "      <td>2006.000000</td>\n",
       "      <td>34900.000000</td>\n",
       "      <td>40080.000000</td>\n",
       "      <td>-327977.000000</td>\n",
       "      <td>0.000000e+00</td>\n",
       "    </tr>\n",
       "    <tr>\n",
       "      <th>25%</th>\n",
       "      <td>365.750000</td>\n",
       "      <td>20.000000</td>\n",
       "      <td>59.000000</td>\n",
       "      <td>7553.500000</td>\n",
       "      <td>5.000000</td>\n",
       "      <td>5.000000</td>\n",
       "      <td>1954.000000</td>\n",
       "      <td>1967.000000</td>\n",
       "      <td>0.000000</td>\n",
       "      <td>0.000000</td>\n",
       "      <td>...</td>\n",
       "      <td>0.000000</td>\n",
       "      <td>0.000000</td>\n",
       "      <td>0.000000</td>\n",
       "      <td>0.000000</td>\n",
       "      <td>5.000000</td>\n",
       "      <td>2007.000000</td>\n",
       "      <td>129975.000000</td>\n",
       "      <td>135540.000000</td>\n",
       "      <td>-23750.000000</td>\n",
       "      <td>1.607824e+08</td>\n",
       "    </tr>\n",
       "    <tr>\n",
       "      <th>50%</th>\n",
       "      <td>730.500000</td>\n",
       "      <td>50.000000</td>\n",
       "      <td>69.000000</td>\n",
       "      <td>9478.500000</td>\n",
       "      <td>6.000000</td>\n",
       "      <td>5.000000</td>\n",
       "      <td>1973.000000</td>\n",
       "      <td>1994.000000</td>\n",
       "      <td>0.000000</td>\n",
       "      <td>383.500000</td>\n",
       "      <td>...</td>\n",
       "      <td>0.000000</td>\n",
       "      <td>0.000000</td>\n",
       "      <td>0.000000</td>\n",
       "      <td>0.000000</td>\n",
       "      <td>6.000000</td>\n",
       "      <td>2008.000000</td>\n",
       "      <td>163000.000000</td>\n",
       "      <td>175680.000000</td>\n",
       "      <td>-148.500000</td>\n",
       "      <td>7.049034e+08</td>\n",
       "    </tr>\n",
       "    <tr>\n",
       "      <th>75%</th>\n",
       "      <td>1095.250000</td>\n",
       "      <td>70.000000</td>\n",
       "      <td>80.000000</td>\n",
       "      <td>11601.500000</td>\n",
       "      <td>7.000000</td>\n",
       "      <td>6.000000</td>\n",
       "      <td>2000.000000</td>\n",
       "      <td>2004.000000</td>\n",
       "      <td>166.000000</td>\n",
       "      <td>712.250000</td>\n",
       "      <td>...</td>\n",
       "      <td>0.000000</td>\n",
       "      <td>0.000000</td>\n",
       "      <td>0.000000</td>\n",
       "      <td>0.000000</td>\n",
       "      <td>8.000000</td>\n",
       "      <td>2009.000000</td>\n",
       "      <td>214000.000000</td>\n",
       "      <td>213210.000000</td>\n",
       "      <td>31135.000000</td>\n",
       "      <td>2.444808e+09</td>\n",
       "    </tr>\n",
       "    <tr>\n",
       "      <th>max</th>\n",
       "      <td>1460.000000</td>\n",
       "      <td>190.000000</td>\n",
       "      <td>313.000000</td>\n",
       "      <td>215245.000000</td>\n",
       "      <td>10.000000</td>\n",
       "      <td>9.000000</td>\n",
       "      <td>2010.000000</td>\n",
       "      <td>2010.000000</td>\n",
       "      <td>1600.000000</td>\n",
       "      <td>5644.000000</td>\n",
       "      <td>...</td>\n",
       "      <td>508.000000</td>\n",
       "      <td>480.000000</td>\n",
       "      <td>738.000000</td>\n",
       "      <td>15500.000000</td>\n",
       "      <td>12.000000</td>\n",
       "      <td>2010.000000</td>\n",
       "      <td>755000.000000</td>\n",
       "      <td>677040.000000</td>\n",
       "      <td>517040.000000</td>\n",
       "      <td>2.673304e+11</td>\n",
       "    </tr>\n",
       "  </tbody>\n",
       "</table>\n",
       "<p>8 rows × 41 columns</p>\n",
       "</div>"
      ],
      "text/plain": [
       "                Id   MSSubClass  LotFrontage        LotArea  OverallQual  \\\n",
       "count  1460.000000  1460.000000  1201.000000    1460.000000  1460.000000   \n",
       "mean    730.500000    56.897260    70.049958   10516.828082     6.099315   \n",
       "std     421.610009    42.300571    24.284752    9981.264932     1.382997   \n",
       "min       1.000000    20.000000    21.000000    1300.000000     1.000000   \n",
       "25%     365.750000    20.000000    59.000000    7553.500000     5.000000   \n",
       "50%     730.500000    50.000000    69.000000    9478.500000     6.000000   \n",
       "75%    1095.250000    70.000000    80.000000   11601.500000     7.000000   \n",
       "max    1460.000000   190.000000   313.000000  215245.000000    10.000000   \n",
       "\n",
       "       OverallCond    YearBuilt  YearRemodAdd   MasVnrArea   BsmtFinSF1  ...  \\\n",
       "count  1460.000000  1460.000000   1460.000000  1452.000000  1460.000000  ...   \n",
       "mean      5.575342  1971.267808   1984.865753   103.685262   443.639726  ...   \n",
       "std       1.112799    30.202904     20.645407   181.066207   456.098091  ...   \n",
       "min       1.000000  1872.000000   1950.000000     0.000000     0.000000  ...   \n",
       "25%       5.000000  1954.000000   1967.000000     0.000000     0.000000  ...   \n",
       "50%       5.000000  1973.000000   1994.000000     0.000000   383.500000  ...   \n",
       "75%       6.000000  2000.000000   2004.000000   166.000000   712.250000  ...   \n",
       "max       9.000000  2010.000000   2010.000000  1600.000000  5644.000000  ...   \n",
       "\n",
       "         3SsnPorch  ScreenPorch     PoolArea       MiscVal       MoSold  \\\n",
       "count  1460.000000  1460.000000  1460.000000   1460.000000  1460.000000   \n",
       "mean      3.409589    15.060959     2.758904     43.489041     6.321918   \n",
       "std      29.317331    55.757415    40.177307    496.123024     2.703626   \n",
       "min       0.000000     0.000000     0.000000      0.000000     1.000000   \n",
       "25%       0.000000     0.000000     0.000000      0.000000     5.000000   \n",
       "50%       0.000000     0.000000     0.000000      0.000000     6.000000   \n",
       "75%       0.000000     0.000000     0.000000      0.000000     8.000000   \n",
       "max     508.000000   480.000000   738.000000  15500.000000    12.000000   \n",
       "\n",
       "            YrSold      SalePrice           pred           diff          cuad  \n",
       "count  1460.000000    1460.000000    1460.000000    1460.000000  1.460000e+03  \n",
       "mean   2007.815753  180921.195890  181855.643836     934.447945  3.186420e+09  \n",
       "std       1.328095   79442.502883   63057.646011   56459.985533  1.043697e+10  \n",
       "min    2006.000000   34900.000000   40080.000000 -327977.000000  0.000000e+00  \n",
       "25%    2007.000000  129975.000000  135540.000000  -23750.000000  1.607824e+08  \n",
       "50%    2008.000000  163000.000000  175680.000000    -148.500000  7.049034e+08  \n",
       "75%    2009.000000  214000.000000  213210.000000   31135.000000  2.444808e+09  \n",
       "max    2010.000000  755000.000000  677040.000000  517040.000000  2.673304e+11  \n",
       "\n",
       "[8 rows x 41 columns]"
      ]
     },
     "execution_count": 32,
     "metadata": {},
     "output_type": "execute_result"
    }
   ],
   "source": [
    "trainset.describe()"
   ]
  },
  {
   "cell_type": "markdown",
   "metadata": {},
   "source": [
    "**Explicación del resultado**\n",
    "\n",
    "`count` $\\to$ significa la cantidad de datos \n",
    "\n",
    "`mean` $\\to$ media\n",
    "\n",
    "`std` $\\to$ desviación estándar\n",
    "\n",
    "`min` $\\to$ valor mínimo\n",
    "\n",
    "`max` $\\to$ valor máximo\n",
    "\n",
    "`25%` $\\to$ valor de la posición del primer cuartil \n",
    "\n",
    "`50%` $\\to$ valor de la posición del segundo cuartil o mediana \n",
    "\n",
    "`75%` $\\to$ valor de la posición del tercer cuartil "
   ]
  },
  {
   "cell_type": "markdown",
   "metadata": {},
   "source": [
    "### Cuartiles y Percentiles\n",
    "Se utilizan para describir la posición de un dato específico con respecto al resto de los datos cuando están en orden por categorías\n",
    "\n",
    "- El primer cuartil es el valor por debajo del cual se encuentra el 25% de los datos. Indica el valor más bajo que no es menor que el 25% de los datos. \n",
    "- El segundo cuartil o mediana es el valor central de un conjunto de datos\n",
    "- El tercer cuartil es el valor por debajo del cual se encuentra el 75% de los datos. Específicamente, indica el valor más bajo que no es menor que el 75% de los datos\n",
    "\n",
    "Los percentiles son puntos que dividen un conjunto de datos en 100 partes iguales. Cada percentil representa el valor por debajo del cual se encuentra un porcentaje específico de los datos. \n",
    "\n",
    "> Para calcular el percentil es ordenar los valores de la tabla y coger el valor que se encuentra en la posición que cae al calcular el porciento\n",
    "> "
   ]
  },
  {
   "cell_type": "markdown",
   "metadata": {},
   "source": [
    "### Desviación Estándar\n",
    "Es un número que describe cuán dispersas están las observaciones"
   ]
  },
  {
   "cell_type": "code",
   "execution_count": 38,
   "metadata": {},
   "outputs": [
    {
     "data": {
      "text/plain": [
       "SalePrice    79415.291886\n",
       "dtype: float64"
      ]
     },
     "execution_count": 38,
     "metadata": {},
     "output_type": "execute_result"
    }
   ],
   "source": [
    "std = np.std( trainset[ ['SalePrice'] ], axis=0 )\n",
    "std"
   ]
  },
  {
   "cell_type": "markdown",
   "metadata": {},
   "source": [
    "### Coeficiente de Variación\n",
    "Se utiliza para tener una idea de qué tan grande es la desviación estándar. El coeficiente de variación se expresa en porcentaje y proporciona una medida de cuánto varína los datos en una relación con su media. \n",
    "\n",
    "Este se calcula con: $cv = std/mean$ "
   ]
  },
  {
   "cell_type": "code",
   "execution_count": 40,
   "metadata": {},
   "outputs": [
    {
     "data": {
      "text/plain": [
       "SalePrice    0.43895\n",
       "dtype: float64"
      ]
     },
     "execution_count": 40,
     "metadata": {},
     "output_type": "execute_result"
    }
   ],
   "source": [
    "cv = np.std( trainset[ ['SalePrice'] ], axis=0 ) / np.mean( trainset[ ['SalePrice'] ] )\n",
    "cv"
   ]
  },
  {
   "cell_type": "markdown",
   "metadata": {},
   "source": [
    "### Varianza\n"
   ]
  },
  {
   "cell_type": "markdown",
   "metadata": {},
   "source": [
    "## Regresión Lineal Simple"
   ]
  },
  {
   "cell_type": "markdown",
   "metadata": {},
   "source": [
    "### Desarrollo"
   ]
  },
  {
   "cell_type": "code",
   "execution_count": 3,
   "metadata": {},
   "outputs": [
    {
     "data": {
      "text/html": [
       "<div>\n",
       "<style scoped>\n",
       "    .dataframe tbody tr th:only-of-type {\n",
       "        vertical-align: middle;\n",
       "    }\n",
       "\n",
       "    .dataframe tbody tr th {\n",
       "        vertical-align: top;\n",
       "    }\n",
       "\n",
       "    .dataframe thead th {\n",
       "        text-align: right;\n",
       "    }\n",
       "</style>\n",
       "<table border=\"1\" class=\"dataframe\">\n",
       "  <thead>\n",
       "    <tr style=\"text-align: right;\">\n",
       "      <th></th>\n",
       "      <th>GrLivArea</th>\n",
       "      <th>SalePrice</th>\n",
       "    </tr>\n",
       "  </thead>\n",
       "  <tbody>\n",
       "    <tr>\n",
       "      <th>0</th>\n",
       "      <td>1710</td>\n",
       "      <td>208500</td>\n",
       "    </tr>\n",
       "    <tr>\n",
       "      <th>1</th>\n",
       "      <td>1262</td>\n",
       "      <td>181500</td>\n",
       "    </tr>\n",
       "    <tr>\n",
       "      <th>2</th>\n",
       "      <td>1786</td>\n",
       "      <td>223500</td>\n",
       "    </tr>\n",
       "    <tr>\n",
       "      <th>3</th>\n",
       "      <td>1717</td>\n",
       "      <td>140000</td>\n",
       "    </tr>\n",
       "    <tr>\n",
       "      <th>4</th>\n",
       "      <td>2198</td>\n",
       "      <td>250000</td>\n",
       "    </tr>\n",
       "  </tbody>\n",
       "</table>\n",
       "</div>"
      ],
      "text/plain": [
       "   GrLivArea  SalePrice\n",
       "0       1710     208500\n",
       "1       1262     181500\n",
       "2       1786     223500\n",
       "3       1717     140000\n",
       "4       2198     250000"
      ]
     },
     "execution_count": 3,
     "metadata": {},
     "output_type": "execute_result"
    }
   ],
   "source": [
    "trainset[ ['GrLivArea', 'SalePrice'] ].head()"
   ]
  },
  {
   "cell_type": "code",
   "execution_count": 4,
   "metadata": {},
   "outputs": [
    {
     "data": {
      "image/png": "[encoded data removed]",
      "text/plain": [
       "<Figure size 640x480 with 1 Axes>"
      ]
     },
     "metadata": {},
     "output_type": "display_data"
    }
   ],
   "source": [
    "trainset.plot.scatter( x='GrLivArea', y='SalePrice' )\n",
    "plt.show()"
   ]
  },
  {
   "cell_type": "markdown",
   "metadata": {},
   "source": [
    "Esta gráfica de datos podría definirse como un primer modelo de regresión (simple). En esta se puede trazar una recta y definir que existe un error. El error viene dado por la diferencia del valor de la recta y el valor correcto. Tomando la suma de estos errores y dividiendolo por la cantidad de errores existentes tenemos el *error cuadrático medio* (ECM)"
   ]
  },
  {
   "cell_type": "code",
   "execution_count": 5,
   "metadata": {},
   "outputs": [
    {
     "data": {
      "image/png": "[encoded data removed]",
      "text/plain": [
       "<Figure size 640x480 with 1 Axes>"
      ]
     },
     "metadata": {},
     "output_type": "display_data"
    }
   ],
   "source": [
    "# Parámetros de la recta\n",
    "w = 120\n",
    "b = 0\n",
    "\n",
    "# Puntos de la recta \n",
    "x = np.linspace(0, trainset['GrLivArea'].max(), 100)\n",
    "y = w*x + b\n",
    "\n",
    "# Gráfica de la recta\n",
    "trainset.plot.scatter(x='GrLivArea', y='SalePrice')\n",
    "plt.plot(x, y, '-r')\n",
    "plt.ylim(0, trainset['SalePrice'].max()*1.1)\n",
    "\n",
    "plt.show()"
   ]
  },
  {
   "cell_type": "markdown",
   "metadata": {},
   "source": [
    "### Cálculo de Predicciones (1er)\n"
   ]
  },
  {
   "cell_type": "code",
   "execution_count": 8,
   "metadata": {},
   "outputs": [
    {
     "data": {
      "text/html": [
       "<div>\n",
       "<style scoped>\n",
       "    .dataframe tbody tr th:only-of-type {\n",
       "        vertical-align: middle;\n",
       "    }\n",
       "\n",
       "    .dataframe tbody tr th {\n",
       "        vertical-align: top;\n",
       "    }\n",
       "\n",
       "    .dataframe thead th {\n",
       "        text-align: right;\n",
       "    }\n",
       "</style>\n",
       "<table border=\"1\" class=\"dataframe\">\n",
       "  <thead>\n",
       "    <tr style=\"text-align: right;\">\n",
       "      <th></th>\n",
       "      <th>GrLivArea</th>\n",
       "      <th>SalePrice</th>\n",
       "      <th>pred</th>\n",
       "      <th>diff</th>\n",
       "      <th>cuad</th>\n",
       "    </tr>\n",
       "  </thead>\n",
       "  <tbody>\n",
       "    <tr>\n",
       "      <th>0</th>\n",
       "      <td>1710</td>\n",
       "      <td>208500</td>\n",
       "      <td>205200</td>\n",
       "      <td>-3300</td>\n",
       "      <td>10890000</td>\n",
       "    </tr>\n",
       "    <tr>\n",
       "      <th>1</th>\n",
       "      <td>1262</td>\n",
       "      <td>181500</td>\n",
       "      <td>151440</td>\n",
       "      <td>-30060</td>\n",
       "      <td>903603600</td>\n",
       "    </tr>\n",
       "    <tr>\n",
       "      <th>2</th>\n",
       "      <td>1786</td>\n",
       "      <td>223500</td>\n",
       "      <td>214320</td>\n",
       "      <td>-9180</td>\n",
       "      <td>84272400</td>\n",
       "    </tr>\n",
       "    <tr>\n",
       "      <th>3</th>\n",
       "      <td>1717</td>\n",
       "      <td>140000</td>\n",
       "      <td>206040</td>\n",
       "      <td>66040</td>\n",
       "      <td>4361281600</td>\n",
       "    </tr>\n",
       "    <tr>\n",
       "      <th>4</th>\n",
       "      <td>2198</td>\n",
       "      <td>250000</td>\n",
       "      <td>263760</td>\n",
       "      <td>13760</td>\n",
       "      <td>189337600</td>\n",
       "    </tr>\n",
       "  </tbody>\n",
       "</table>\n",
       "</div>"
      ],
      "text/plain": [
       "   GrLivArea  SalePrice    pred   diff        cuad\n",
       "0       1710     208500  205200  -3300    10890000\n",
       "1       1262     181500  151440 -30060   903603600\n",
       "2       1786     223500  214320  -9180    84272400\n",
       "3       1717     140000  206040  66040  4361281600\n",
       "4       2198     250000  263760  13760   189337600"
      ]
     },
     "execution_count": 8,
     "metadata": {},
     "output_type": "execute_result"
    }
   ],
   "source": [
    "# Si escogemos esos parametros para el modelo cuál es el error? \n",
    "\n",
    "# calculo de las predicciones\n",
    "trainset['pred'] = trainset['GrLivArea']*w+b\n",
    "\n",
    "# calculo de la funcion de error \n",
    "trainset['diff'] = trainset['pred']-trainset['SalePrice']\n",
    "trainset['cuad'] = trainset['diff']**2\n",
    "trainset[ ['GrLivArea', 'SalePrice', 'pred', 'diff', 'cuad'] ].head()"
   ]
  },
  {
   "cell_type": "markdown",
   "metadata": {},
   "source": [
    "### Usando sklearn para el 2do cálculo de predicciones"
   ]
  },
  {
   "cell_type": "code",
   "execution_count": 10,
   "metadata": {},
   "outputs": [
    {
     "name": "stdout",
     "output_type": "stream",
     "text": [
      "intercepto (b): 18569.025856487307\n",
      "pendiente (w): [107.13035897]\n"
     ]
    }
   ],
   "source": [
    "# definiendo input y output\n",
    "X_train = np.array(trainset[ 'GrLivArea' ]).reshape((-1, 1))\n",
    "Y_train = np.array(trainset[ 'SalePrice' ])\n",
    "\n",
    "# creando modelo\n",
    "model = LinearRegression(fit_intercept=True)\n",
    "model.fit(X_train, Y_train)\n",
    "\n",
    "intercept = model.intercept_\n",
    "coef = model.coef_\n",
    "\n",
    "# imprimiendo parametros\n",
    "print(f\"intercepto (b): {intercept}\")\n",
    "print(f\"pendiente (w): {coef}\")"
   ]
  },
  {
   "cell_type": "code",
   "execution_count": 11,
   "metadata": {},
   "outputs": [
    {
     "data": {
      "image/png": "[encoded data removed]",
      "text/plain": [
       "<Figure size 640x480 with 1 Axes>"
      ]
     },
     "metadata": {},
     "output_type": "display_data"
    }
   ],
   "source": [
    "x = np.linspace(0, trainset['GrLivArea'].max(), 100)\n",
    "y = coef*x + intercept\n",
    "\n",
    "# Gráfica de la recta\n",
    "trainset.plot.scatter(x='GrLivArea', y='SalePrice')\n",
    "plt.plot(x, y, '-r')\n",
    "plt.ylim(0, trainset['SalePrice'].max()*1.1)\n",
    "\n",
    "plt.show()"
   ]
  },
  {
   "cell_type": "markdown",
   "metadata": {},
   "source": [
    "## FAG\n",
    "\n",
    "### Regresión Lineal\n",
    "\n",
    "Este se usa para intentar encontrar la relación entre las variables. La línea que se obtiene a través de la regresión lineal se llama línea de regresión. La idea es que esta línea representa la relación entre las variables de manera que la suma de las diferencias entre los valores observados y los valores predichos por la línea de regresión sea lo más chica posible\n",
    "\n",
    "### Método de los mínimos cuadrados\n",
    "Este método es utilizado para encontrar la mejor línea de ajuste (o modelo) que se ajuste a un conjunto de datos. Este método es método en regresión lineal se utiliza para minimizar la suma de los cuadrados de las diferencias entre los valores observados y los valores predichos por el modelo  "
   ]
  },
  {
   "cell_type": "markdown",
   "metadata": {},
   "source": [
    "## Análisis de los Supuestos\n",
    "\n",
    "### Supuesto de Homocedasticidad \n",
    "\n",
    "La prueba de Breusch-Pagan es una forma de comprobar si existe heterocedasticidad en el análisis de regresión. Una prueba de Breusch-Pagan sigue las siguientes hipótesis:\n",
    "- **Hipótesis nula:** Significa que la homocedasticidad está presente.\n",
    "- **Hipótesis alternativa:** Significa que la homocedasticidad no está presente (es decir, existe heterocedasticidad)"
   ]
  },
  {
   "cell_type": "code",
   "execution_count": 18,
   "metadata": {},
   "outputs": [],
   "source": [
    "import numpy as np\n",
    "import pandas as pd\n",
    "\n",
    "import statsmodels.formula.api as smf\n",
    "from statsmodels.compat import lzip\n",
    "import statsmodels.stats.api as sms"
   ]
  },
  {
   "cell_type": "code",
   "execution_count": 13,
   "metadata": {},
   "outputs": [],
   "source": [
    "# Creando un conjunto de datos\n",
    "dataframe = pd.DataFrame({\n",
    "  'rating': [92, 84, 87, 82, 98, 94, 75, 80, 83, 89],\n",
    "  'points': [27, 30, 15, 26,27, 20, 16, 18,19, 20],\n",
    "  'runs': [5000, 7000, 5102, 8019, 1200, 7210, 6200, 9214, 4012, 3102],\n",
    "  'wickets': [110, 120, 110, 80, 90, 119, 116, 100, 90, 76]\n",
    "})"
   ]
  },
  {
   "cell_type": "code",
   "execution_count": 14,
   "metadata": {},
   "outputs": [
    {
     "name": "stdout",
     "output_type": "stream",
     "text": [
      "                            OLS Regression Results                            \n",
      "==============================================================================\n",
      "Dep. Variable:                 rating   R-squared:                       0.464\n",
      "Model:                            OLS   Adj. R-squared:                  0.196\n",
      "Method:                 Least Squares   F-statistic:                     1.732\n",
      "Date:                Wed, 31 Jul 2024   Prob (F-statistic):              0.259\n",
      "Time:                        10:32:14   Log-Likelihood:                -29.974\n",
      "No. Observations:                  10   AIC:                             67.95\n",
      "Df Residuals:                       6   BIC:                             69.16\n",
      "Df Model:                           3                                         \n",
      "Covariance Type:            nonrobust                                         \n",
      "==============================================================================\n",
      "                 coef    std err          t      P>|t|      [0.025      0.975]\n",
      "------------------------------------------------------------------------------\n",
      "Intercept     79.4786     16.182      4.911      0.003      39.882     119.075\n",
      "points         0.4474      0.400      1.118      0.306      -0.531       1.426\n",
      "runs          -0.0017      0.001     -1.857      0.113      -0.004       0.001\n",
      "wickets        0.0678      0.138      0.492      0.640      -0.269       0.405\n",
      "==============================================================================\n",
      "Omnibus:                        0.888   Durbin-Watson:                   2.918\n",
      "Prob(Omnibus):                  0.641   Jarque-Bera (JB):                0.030\n",
      "Skew:                           0.133   Prob(JB):                        0.985\n",
      "Kurtosis:                       3.040   Cond. No.                     4.95e+04\n",
      "==============================================================================\n",
      "\n",
      "Notes:\n",
      "[1] Standard Errors assume that the covariance matrix of the errors is correctly specified.\n",
      "[2] The condition number is large, 4.95e+04. This might indicate that there are\n",
      "strong multicollinearity or other numerical problems.\n"
     ]
    },
    {
     "name": "stderr",
     "output_type": "stream",
     "text": [
      "c:\\Users\\Zkorpion\\AppData\\Local\\Programs\\Python\\Python312\\Lib\\site-packages\\scipy\\stats\\_axis_nan_policy.py:531: UserWarning: kurtosistest only valid for n>=20 ... continuing anyway, n=10\n",
      "  res = hypotest_fun_out(*samples, **kwds)\n"
     ]
    }
   ],
   "source": [
    "# Ajustar el modelo de regresión lineal múltiple\n",
    "fit = smf.ols('rating ~ points + runs + wickets', data=dataframe).fit()\n",
    "print(fit.summary())"
   ]
  },
  {
   "cell_type": "code",
   "execution_count": 15,
   "metadata": {},
   "outputs": [
    {
     "data": {
      "text/plain": [
       "[('Lagrange multiplier statistic', 4.364731073633534),\n",
       " ('p-value', 0.22467800092772772),\n",
       " ('f-value', 1.5490764081237363),\n",
       " ('f p-value', 0.2961919661957098)]"
      ]
     },
     "execution_count": 15,
     "metadata": {},
     "output_type": "execute_result"
    }
   ],
   "source": [
    "names = ['Lagrange multiplier statistic', 'p-value','f-value', 'f p-value']\n",
    "# Obtener resultados del test\n",
    "test_result = sms.het_breuschpagan(fit.resid, fit.model.exog)\n",
    "lzip(names, test_result)"
   ]
  },
  {
   "cell_type": "markdown",
   "metadata": {},
   "source": [
    "Dado que el valor $p$ es mayor que 0.05, no podemos rechazar la hipótesis nula. Por tanto, no tenemos pruebas suficientes para decir que la heteroscedasticidad está presente en el modelo de regresión "
   ]
  },
  {
   "cell_type": "markdown",
   "metadata": {},
   "source": [
    "#### Información de la Tabla de Regresión\n",
    "##### Básicos\n",
    "- `Dep. Variable` $\\to$ Sería la variable dependiente. En la tabla sería `Calorie_Burnage`. La variable dependiente se explica aquí mediante `Average_Pulse`\n",
    "- `Model` $\\to$ OLS es Ordinary Least Squares. \n",
    "- `Date` and `Time` $\\to$ Muestra la fecha y la hora de salida que fue calculado en Python\n",
    "\n",
    "##### Seción de Coeficientes\n",
    "- `coef` $\\to$ es la abreviatura de coeficiente. Están las salidas de la función de la regresión lineal \n",
    "- `Intercept` y `Average_Pulse` en `coef` $\\to$ hace que la función de regresión lineal pueda reescribirse de la siguiente forma: \n",
    "$$Calorie\\_Burnage = 0.3296 * Average\\_Pulse + 348.8662$$ \n",
    "Esos números significan que si Average_Pulse se incrementa en 1, Calorie_Burnage se incrementa en 0.3296 (0.3 redondeado). Si Average_Pulse = 0, the Calorie_burnage es igual a 346.8662 (346.9 redondeado). \n",
    "- `Intercept` es usada para ajustar el modelo de precisión de la predición \n",
    "\n",
    "##### Seción de las Estadísticas de los Coeficientes \n",
    "Esta seción sirve para testear si los componentes de la función de regresión lineal tiene un impacto significativo en la variable dependiente (`Calorie_Burnage`). En otras palabras, probar si existe una relación entre `Average_Pulse` y `Calorie_Burnage`, usando las pruebas de estadística\n",
    "\n",
    "**Existen 4 componentes que explican las estadísticas de los coeficientes**\n",
    "- `str err` que sería el error estándar \n",
    "- `t` que sería el valor `t` del coeficiente \n",
    "- `P>|t|` que sería el valor `P`\n",
    "- `[0.025 0.975]` representa el intervalo de confianza de los coeficientes\n",
    "\n",
    "##### El valor `P`\n",
    "El valor `P` es el valor `p` asociado con el coeficiente de una variable independiente en el modelo. Este valor `p` es el resultado de una prueba de hipótesis que se utiliza para determinar si el coeficiente de la variable independiente es significativamente diferente de 0. El valor `P` ayuda a responder la pregunta de si la variable independiente tiene un efecto significativo sobre la variable dependiente. \n",
    "\n",
    "Este valor se calcula utilizando los residuos del modelo y los coeficientes estimados. Un valor `p` bajo ($< 0.05$) indica que es muy poco probable que el coeficiente observado se deba al azar, lo que sugiere que hay una relación significativa entre la variable independiente y la variable dependiente. \n",
    "\n",
    "Un valor `p` alto ($> 0.05$) indica que no hay suficiente evidencia para rechazar la hipótesis nula de que el coeficiente es igual a cero, lo que sugiere que la variable independiente no tiene un efecto significativo sobre la variable dependiente \n",
    "\n",
    "> Si el valor `P` es alto también puede llamarse valor `P` insignificante\n",
    "\n",
    "##### `R-squared` y `Adj. R-squared`\n",
    "`R-squared` es una medida estadística que indica la proporción de la variación en la variable dependiente que es explicada por la(s) variable(s) independiente(s) en el modelo. Es el coeficiente de determinación, que mide qué tan bien el modelo de regresión lineal se ajusta a los datos. \n",
    "\n",
    "Este valor varía entre 0 y 1, donde: \n",
    "- El valor de 0 indica que el modelo no explica ninguna de las variaciones en la variable dependiente \n",
    "- El valor de 1 indica que el modelo explica todas las variaciones en la variable dependiente \n",
    "- Un valor entre 0 y 1 indica la proporción de la variación dependiente que es explicada por el modelo\n",
    "\n",
    "**Ejemplo:** un valor de $0.85$ significa que el 85% de la variación en la variable dependiente puede ser explicada por las variables independientes en el modelo \n",
    "\n",
    "> Que el modelo de regresión lineal no explica ninguna de las variaciones en la variable dependiente, significa que el modelo de regresión lineal no puede predecir o explicar ningún cambio o variación en los valores de la variable dependiente basándose en los valores de las variables independientes. El modelo no tiene ninguna relación entre las variables independientes y la variable dependiente \n",
    "\n",
    "Que el valor sea 0 puede ser resultado de varias situaciones: \n",
    "- *Variables independientes irrelevantes:* las variables independientes seleccionadas no tienen ninguna relación con la variable dependiente. Esto podría deberse a que las variables independientes no son predictivas de la variable dependiente o que no se han seleccionado adecuadamente \n",
    "- *Errores en la recopilación de datos:* puede haber errores en la recopilación de datos que hacen que las variables independientes no estén relacionadas con la variable dependiente \n",
    "- *Modelo incorrecto:* el modelo de regresión lineal no es el más adecuado para los datos. "
   ]
  },
  {
   "cell_type": "markdown",
   "metadata": {},
   "source": [
    "### Modelo OLS \n",
    "OLS significa Ordinary Least Squares (Mínimos Cuadrados Ordinarios). En el contexto de una tabla de regresión lineal, el modelo OLS es un método estadístico utilizado para estimar los parámetros de una regresión lineal, como la pendiente y la intersección en el eje `y`, basándose en el conjunto de datos observado. \n",
    "\n",
    "El objetivo del modelo es minimizar la suma de los cuadrados de las diferencias entre los valores observados y los valores predichos por el modelo. Esto se logra encontrando la línea que mejor se ajusta a los datos, es decir, la línea que minimiza la distancia total entre los puntos de datos y la línea \n",
    "\n",
    "### Otros modelos\n",
    "**Regresión de mínimos cuadrados generalizados (GLS):** este modelo es una extensión del modelo OLS que permite manejar errores con varianzas diferentes y autocorrelacionados. Para hacer esto se ajusta una matriz de pesos a los residuos del modelo OLS, lo que resulta en una estimación más precisa de los parámetros \n",
    "\n",
    "**Regresión de mínimos cuadrados robustos (RMS):** modelo similar a OLS, pero utiliza una técnica de estimación de parámetros que es robusta a los errores autocorrelacionados y errores con varianzas diferentes\n",
    "\n",
    "**Regresión de mínimos cuadrados de mínimos residuos (MMR):** modelo que busca minimizar no solo la suma de los cuadrados de los residuos, sino también la suma de los cuadrados de los residuos ponderados por el inverso de la varianza de los errores. Esto puede ser útil cuando los errores tienen una varianza que varía con los valores de `x`\n",
    "\n",
    "**Regresión de mínimos cuadrados de mínimos residuos con ponderación (WMMR):** similar al MMR, pero utiliza una ponderación adicional para los residuos, lo que mejora la precisión de la estimación de los parámetros en ciertos casos \n",
    "\n",
    "**Regresión de mínimos cuadrados de mínimos residuos con ponderación de peso (WWMMR):** modelo, que es una extensión del WMMR, que utiliza una ponderación adicional basada en el peso de los residuos, lo que puede mejorar aún más la precisión de la estimación de los parámetros "
   ]
  },
  {
   "cell_type": "markdown",
   "metadata": {},
   "source": [
    "### Supuesto de Independencia\n",
    "Tenemos un dataset que describe 10 jugadores de baloncesto"
   ]
  },
  {
   "cell_type": "code",
   "execution_count": 22,
   "metadata": {},
   "outputs": [],
   "source": [
    "import numpy as np\n",
    "import pandas as pd\n",
    "\n",
    "from statsmodels.formula.api import ols\n",
    "from statsmodels.stats.stattools import durbin_watson"
   ]
  },
  {
   "cell_type": "code",
   "execution_count": 17,
   "metadata": {},
   "outputs": [
    {
     "name": "stdout",
     "output_type": "stream",
     "text": [
      "   rating  points  assists  rebounds\n",
      "0      90      25        5        11\n",
      "1      85      20        7         8\n",
      "2      82      14        7        10\n",
      "3      88      16        8         6\n",
      "4      94      27        5         6\n",
      "5      90      20        7         9\n",
      "6      76      12        6         6\n",
      "7      75      15        9        10\n",
      "8      87      14        9        10\n",
      "9      86      19        5         7\n"
     ]
    }
   ],
   "source": [
    "# Creando un conjunto de datos\n",
    "df = pd.DataFrame({\n",
    "    'rating': [90, 85, 82, 88, 94, 90, 76, 75, 87, 86],\n",
    "    'points': [25, 20, 14, 16, 27, 20, 12, 15, 14, 19],\n",
    "    'assists': [5, 7, 7, 8, 5, 7, 6, 9, 9, 5],\n",
    "    'rebounds': [11, 8, 10, 6, 6, 9, 6, 10, 10, 7]\n",
    "})\n",
    "print(df)"
   ]
  },
  {
   "cell_type": "markdown",
   "metadata": {},
   "source": [
    "Supongamos que ajustamos un modelo de regresión lineal múltiple utilizando la `rating` como variable dependiente y las otras 3 como variables independientes"
   ]
  },
  {
   "cell_type": "code",
   "execution_count": 21,
   "metadata": {},
   "outputs": [
    {
     "name": "stdout",
     "output_type": "stream",
     "text": [
      "                            OLS Regression Results                            \n",
      "==============================================================================\n",
      "Dep. Variable:                 rating   R-squared:                       0.623\n",
      "Model:                            OLS   Adj. R-squared:                  0.434\n",
      "Method:                 Least Squares   F-statistic:                     3.299\n",
      "Date:                Wed, 31 Jul 2024   Prob (F-statistic):             0.0995\n",
      "Time:                        10:35:19   Log-Likelihood:                -26.862\n",
      "No. Observations:                  10   AIC:                             61.72\n",
      "Df Residuals:                       6   BIC:                             62.93\n",
      "Df Model:                           3                                         \n",
      "Covariance Type:            nonrobust                                         \n",
      "==============================================================================\n",
      "                 coef    std err          t      P>|t|      [0.025      0.975]\n",
      "------------------------------------------------------------------------------\n",
      "Intercept     62.4716     14.588      4.282      0.005      26.776      98.168\n",
      "points         1.1193      0.411      2.724      0.034       0.114       2.125\n",
      "assists        0.8834      1.381      0.640      0.546      -2.495       4.262\n",
      "rebounds      -0.4278      0.851     -0.503      0.633      -2.510       1.655\n",
      "==============================================================================\n",
      "Omnibus:                        2.711   Durbin-Watson:                   2.392\n",
      "Prob(Omnibus):                  0.258   Jarque-Bera (JB):                0.945\n",
      "Skew:                          -0.751   Prob(JB):                        0.624\n",
      "Kurtosis:                       3.115   Cond. No.                         217.\n",
      "==============================================================================\n",
      "\n",
      "Notes:\n",
      "[1] Standard Errors assume that the covariance matrix of the errors is correctly specified.\n"
     ]
    },
    {
     "name": "stderr",
     "output_type": "stream",
     "text": [
      "c:\\Users\\Zkorpion\\AppData\\Local\\Programs\\Python\\Python312\\Lib\\site-packages\\scipy\\stats\\_axis_nan_policy.py:531: UserWarning: kurtosistest only valid for n>=20 ... continuing anyway, n=10\n",
      "  res = hypotest_fun_out(*samples, **kwds)\n"
     ]
    }
   ],
   "source": [
    "#fit multiple linear regression model\n",
    "model = ols('rating ~ points + assists + rebounds', data=df).fit()\n",
    "\n",
    "#view model summary\n",
    "print(model.summary())"
   ]
  },
  {
   "cell_type": "markdown",
   "metadata": {},
   "source": [
    "Ahora podemos aplicar la prueba de Durbin-Watson que trae la biblioteca `statsmodels` para determinar si los residuos del modelo de regresión están autocorrelacionados "
   ]
  },
  {
   "cell_type": "code",
   "execution_count": 23,
   "metadata": {},
   "outputs": [
    {
     "data": {
      "text/plain": [
       "2.3920546872335353"
      ]
     },
     "execution_count": 23,
     "metadata": {},
     "output_type": "execute_result"
    }
   ],
   "source": [
    "#perform Durbin-Watson test\n",
    "durbin_watson(model.resid)"
   ]
  },
  {
   "cell_type": "markdown",
   "metadata": {},
   "source": [
    "El estadístico de la prueba es 2.392 y dado que está dentro del rango de 1.5 y 2.5 consideraríamos que la autocorrelación no es problemática en este modelo de regresión. "
   ]
  },
  {
   "cell_type": "markdown",
   "metadata": {},
   "source": [
    "### Supuesto de Linealidad en parámetros: Prueba de RESET de Ramsey "
   ]
  },
  {
   "cell_type": "code",
   "execution_count": 24,
   "metadata": {},
   "outputs": [],
   "source": [
    "\n",
    "import statsmodels.api as sm\n",
    "import statsmodels.formula.api as smf\n",
    "import statsmodels.stats.diagnostic as smd"
   ]
  },
  {
   "cell_type": "code",
   "execution_count": 25,
   "metadata": {},
   "outputs": [
    {
     "name": "stdout",
     "output_type": "stream",
     "text": [
      "   price  lotsize  bedrooms\n",
      "0  42000     5850         3\n",
      "1  38500     4000         2\n",
      "2  49500     3060         3\n",
      "3  60500     6650         3\n",
      "4  61000     6360         2\n"
     ]
    }
   ],
   "source": [
    "houseprices = sm.datasets.get_rdataset(dataname=\"HousePrices\", package=\"AER\", cache=True).data\n",
    "print(houseprices.iloc[:, 0:3].head())"
   ]
  },
  {
   "cell_type": "markdown",
   "metadata": {},
   "source": [
    "A continuación ajustamos el modelo `ols` utilizando variables dentro del objeto de datos `houseprices` y almacenamos los resultados dentro del objeto `mlr`. Dentro `ols`, la fórmula del parámetro se ajusta al modelo. "
   ]
  },
  {
   "cell_type": "code",
   "execution_count": 26,
   "metadata": {},
   "outputs": [],
   "source": [
    "mlr = smf.ols(formula=\"price ~ lotsize + bedrooms\", data=houseprices).fit()"
   ]
  },
  {
   "cell_type": "markdown",
   "metadata": {},
   "source": [
    "Finalmente hacemos la prueba RESET de Ramsey "
   ]
  },
  {
   "cell_type": "code",
   "execution_count": 27,
   "metadata": {},
   "outputs": [
    {
     "name": "stdout",
     "output_type": "stream",
     "text": [
      "<F test: F=10.634627447787777, p=0.001179652214823055, df_denom=542, df_num=1>\n"
     ]
    }
   ],
   "source": [
    "resettest = smd.linear_reset(res=mlr, power=2, test_type=\"fitted\", use_f=True)\n",
    "print(resettest)"
   ]
  },
  {
   "cell_type": "markdown",
   "metadata": {},
   "source": [
    "### Supuesto de Normalidad: Kolmogorov-Smirnov\n",
    "\n",
    "Esta prueba determina si dos muestras son significativamente diferentes entre sí. \n",
    "\n",
    "El estadístico de Kolmogorov-Smirnov cuantifica una distancia entre la función de distribución empírica de la muestra y la función acumulativa de la distribución de referencia, o entre las funciones de distribución empírica de dos muestras\n",
    "\n",
    "La hipótesis nula supone que los números están distribuidos uniformemente entre 0-1"
   ]
  },
  {
   "cell_type": "code",
   "execution_count": 28,
   "metadata": {},
   "outputs": [
    {
     "name": "stdout",
     "output_type": "stream",
     "text": [
      "Enter outcomes: \n",
      "[0.7917109192107169, 0.3397822111483968, 0.5443898528514236, 0.4239004035743661, 0.09645195097545078]\n",
      "KstestResult(statistic=0.25561014714857644, pvalue=0.8268167379800992, statistic_location=0.5443898528514236, statistic_sign=1)\n"
     ]
    }
   ],
   "source": [
    "from scipy.stats import kstest\n",
    "import random\n",
    "\n",
    "# N = int(input(\"Enter number of random numbers: \"))\n",
    "N = 5\n",
    "\n",
    "actual =[]\n",
    "print(\"Enter outcomes: \")\n",
    "for i in range(N):\n",
    "\t# x = float(input(\"Outcomes of class \"+str(i + 1)+\": \"))\n",
    "\tactual.append(random.random())\n",
    "\n",
    "print(actual)\n",
    "x = kstest(actual, \"uniform\") \n",
    "print(x)"
   ]
  },
  {
   "cell_type": "markdown",
   "metadata": {},
   "source": [
    "**KS Test** es una forma de diferenciar automáticamente muestras de una distribución diferente. La función también se puede utilizar para comprobar si los datos proporcionados siguen la distribución normal o no. Por lo tanto, la hipótesis nula supone que los números siguen la distribución normal "
   ]
  },
  {
   "cell_type": "code",
   "execution_count": 29,
   "metadata": {},
   "outputs": [
    {
     "name": "stdout",
     "output_type": "stream",
     "text": [
      "Enter outcomes: \n",
      "[0.46321338815548685, 0.5423389583949079, 0.8104663172506511, 0.8409409470603031, 0.3836540843229165, 0.7570610247850467, 0.025479774686909762, 0.5031814461154626, 0.3572151142712241, 0.3978029373587424]\n",
      "KstestResult(statistic=0.5395346141003342, pvalue=0.00298567458635222, statistic_location=0.3572151142712241, statistic_sign=-1)\n"
     ]
    }
   ],
   "source": [
    "N = 10\n",
    "\n",
    "actual =[]\n",
    "print(\"Enter outcomes: \")\n",
    "\n",
    "for i in range(N):\n",
    "\t# x = float(input(\"Outcomes of class \"+str(i + 1)+\": \"))\n",
    "\tactual.append(random.random())\n",
    "\n",
    "print(actual)\n",
    "x = kstest(actual, \"norm\") \n",
    "print(x)"
   ]
  },
  {
   "cell_type": "markdown",
   "metadata": {},
   "source": [
    "### Supuesto de Normalidad: Shapiro-Wilk\n",
    "\n",
    "El método `shapiro` tiene como parámetros\n",
    "- `x`: Matrix de datos de muestra \n",
    "\n",
    "Retorna los siguientes valores:\n",
    "- `estadística`: Estadística de prueba \n",
    "- `valor p`: El valor $p$ para la prueba de hipótesis\n",
    "\n",
    "La hipótesis nula dice: *la muestra proviene de distribuciones normales*\n",
    "\n",
    "En este ejemplo se va a realizar una prueba de Shapiro-Wilk en los datos generados aleatoriamente con 500 puntos de datos"
   ]
  },
  {
   "cell_type": "code",
   "execution_count": 30,
   "metadata": {},
   "outputs": [
    {
     "data": {
      "text/plain": [
       "ShapiroResult(statistic=0.9980829726812288, pvalue=0.8541894275329083)"
      ]
     },
     "execution_count": 30,
     "metadata": {},
     "output_type": "execute_result"
    }
   ],
   "source": [
    "# import useful library\n",
    "import numpy as np\n",
    "from scipy.stats import shapiro\n",
    "from numpy.random import randn\n",
    "\n",
    "# Create data\n",
    "gfg_data = randn(500)\n",
    "\n",
    "# conduct the Shapiro-Wilk Test\n",
    "shapiro(gfg_data)"
   ]
  },
  {
   "cell_type": "markdown",
   "metadata": {},
   "source": [
    "Dado que en el ejemplo anterior, el valor $p$ es 0.98, que es mayor que el umbral (0.05), entonces no podemos rechazar la hipótesis nula, es decir, no tenemos evidencia suficiente para decir que la muestra no viene de una distribución normal \n",
    "\n",
    "Realizar una prueba de Shapiro-Wilk a datos generados aleatoriamente a partir de los datos de distribución de Poisson con 100 puntos de datos "
   ]
  },
  {
   "cell_type": "code",
   "execution_count": 31,
   "metadata": {},
   "outputs": [
    {
     "data": {
      "text/plain": [
       "ShapiroResult(statistic=0.966902132312346, pvalue=0.00011927794577221817)"
      ]
     },
     "execution_count": 31,
     "metadata": {},
     "output_type": "execute_result"
    }
   ],
   "source": [
    "# import useful library\n",
    "import numpy as np\n",
    "from numpy.random import poisson\n",
    "from numpy.random import seed\n",
    "from scipy.stats import shapiro\n",
    "from numpy.random import randn\n",
    "\n",
    "seed(0)\n",
    "# Create data\n",
    "gfg_data = poisson(5, 200)\n",
    "\n",
    "# conduct the Shapiro-Wilk Test\n",
    "shapiro(gfg_data)"
   ]
  },
  {
   "cell_type": "markdown",
   "metadata": {},
   "source": [
    "Dado que en el ejemplo anterior, el valor $p$ es 0.0001 rechazamos la hipótesis nula, es decir, tenemos evidencia suficiente para decir que la muestra no proviene de una distribución normal "
   ]
  }
 ],
 "metadata": {
  "kernelspec": {
   "display_name": "Python 3",
   "language": "python",
   "name": "python3"
  },
  "language_info": {
   "codemirror_mode": {
    "name": "ipython",
    "version": 3
   },
   "file_extension": ".py",
   "mimetype": "text/x-python",
   "name": "python",
   "nbconvert_exporter": "python",
   "pygments_lexer": "ipython3",
   "version": "3.12.2"
  }
 },
 "nbformat": 4,
 "nbformat_minor": 2
}
