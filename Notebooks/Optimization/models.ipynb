{
 "cells": [
  {
   "cell_type": "code",
   "execution_count": null,
   "metadata": {},
   "outputs": [],
   "source": [
    "from pulp import (\n",
    "  LpProblem,\n",
    "  LpVariable,\n",
    "  LpStatus, \n",
    "  LpMaximize\n",
    ") "
   ]
  },
  {
   "cell_type": "code",
   "execution_count": 8,
   "metadata": {},
   "outputs": [],
   "source": [
    "p_asignacion_de_recursos = LpProblem(\n",
    "  name=\"Problema-de-Asignacion-de-Recursos\", \n",
    "  sense=LpMaximize\n",
    ")"
   ]
  },
  {
   "cell_type": "code",
   "execution_count": 9,
   "metadata": {},
   "outputs": [],
   "source": [
    "# Variables de decision\n",
    "x1 = LpVariable(\"x1\", lowBound=0, upBound=None)\n",
    "x2 = LpVariable(\"x2\", lowBound=0, upBound=None)\n",
    "x3 = LpVariable(\"x3\", lowBound=0, upBound=None)"
   ]
  },
  {
   "cell_type": "code",
   "execution_count": 10,
   "metadata": {},
   "outputs": [],
   "source": [
    "C11 = 1\n",
    "C12 = 2\n",
    "C13 = 2\n",
    "C21 = 2\n",
    "C22 = 1\n",
    "C23 = 2\n",
    "B1 = 30\n",
    "B2 = 45\n",
    "S1 = 7\n",
    "S2 = 4\n",
    "S3 = 3"
   ]
  },
  {
   "cell_type": "code",
   "execution_count": 11,
   "metadata": {},
   "outputs": [],
   "source": [
    "# restricciones\n",
    "p_asignacion_de_recursos += C11*x1 + C12*x2 + C13*x3 <= 30\n",
    "p_asignacion_de_recursos += C21*x1 + C22*x2 + C23*x3 <= 45\n",
    "\n",
    "# funcion objetivo\n",
    "p_asignacion_de_recursos += S1*x1 + S2*x2 + S3*x3"
   ]
  },
  {
   "cell_type": "code",
   "execution_count": 12,
   "metadata": {},
   "outputs": [
    {
     "name": "stdout",
     "output_type": "stream",
     "text": [
      "Status: Optimal\n",
      "x1 = 20.0\n",
      "x2 = 5.0\n",
      "x3 = 0.0\n",
      "Valor óptimo: 160.0\n"
     ]
    }
   ],
   "source": [
    "p_asignacion_de_recursos.solve()\n",
    "print(\"Status:\", LpStatus[p_asignacion_de_recursos.status])\n",
    "for v in p_asignacion_de_recursos.variables():\n",
    "    print(v.name, \"=\", v.varValue)\n",
    "optimal_value = p_asignacion_de_recursos.objective.value()\n",
    "print(\"Valor óptimo:\", optimal_value)"
   ]
  }
 ],
 "metadata": {
  "kernelspec": {
   "display_name": "Python 3",
   "language": "python",
   "name": "python3"
  },
  "language_info": {
   "codemirror_mode": {
    "name": "ipython",
    "version": 3
   },
   "file_extension": ".py",
   "mimetype": "text/x-python",
   "name": "python",
   "nbconvert_exporter": "python",
   "pygments_lexer": "ipython3",
   "version": "3.12.2"
  }
 },
 "nbformat": 4,
 "nbformat_minor": 2
}
