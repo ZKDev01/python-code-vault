{
 "cells": [
  {
   "cell_type": "markdown",
   "metadata": {},
   "source": [
    "### Definición del Problema\n",
    "\n",
    "Sudoku es un puzzle numérico popular para todas las personas y puede ser modelado como un problema de programación lineal, usando variables binarias\n",
    "\n",
    "La meta (o objetivo principal) del Sudoku es colocar los dígitos del 1 al 9 en un tablero de $9 \\times 9$, donde algunas celdas de este tablero ya tienen fijado un dígito. La solución debe seguir las siguientes reglas:\n",
    "- Los números de 1 al 9 deben estar en cada sub-tablero de $3 \\times 3$\n",
    "- Cada columna debe contener los números del 1 al 9\n",
    "- Cada fila debe contener los números del 1 al 9"
   ]
  },
  {
   "cell_type": "code",
   "execution_count": 9,
   "metadata": {},
   "outputs": [],
   "source": [
    "table = [\n",
    "  [0,0,0, 0,0,0, 0,2,9],\n",
    "  [0,0,0, 0,7,8, 0,0,5],\n",
    "  [0,0,0, 1,9,0, 8,3,0],\n",
    "\n",
    "  [0,6,1, 0,3,9, 2,5,0],\n",
    "  [0,3,0, 0,0,0, 0,9,0],\n",
    "  [0,8,9, 4,6,0, 3,7,0],\n",
    "  \n",
    "  [0,5,2, 0,1,4, 0,0,0],\n",
    "  [1,0,0, 3,5,0, 0,0,0],\n",
    "  [3,7,0, 0,0,0, 0,0,0],\n",
    "]\n",
    "G = [ (i+1,j+1,table[i][j]) for i in range(9) for j in range(9) ]"
   ]
  },
  {
   "cell_type": "code",
   "execution_count": 10,
   "metadata": {},
   "outputs": [],
   "source": [
    "from pulp import *\n",
    "\n",
    "P = LpProblem(\"Sudoku-Problem\", LpMinimize)"
   ]
  },
  {
   "cell_type": "code",
   "execution_count": 11,
   "metadata": {},
   "outputs": [],
   "source": [
    "VALS=ROWS=COLS = range(1, 10)\n",
    "BOXES = [ [(3 *i + k+1, 3*j + l+1) for k in range(3) for l in range(3) ] for i in range(3) for j in range(3) ]"
   ]
  },
  {
   "cell_type": "markdown",
   "metadata": {},
   "source": [
    "Las variables decisión del problema son:\n",
    "$$x_{ijk} = \\bigg\\{ \\begin{matrix}\n",
    "1 & \\text{celda }(i,j) = k\\\\\n",
    "0 & \\text{e.o.c}\n",
    "\\end{matrix}$$"
   ]
  },
  {
   "cell_type": "code",
   "execution_count": 12,
   "metadata": {},
   "outputs": [],
   "source": [
    "x = LpVariable.dicts(\"Variable\", (ROWS,COLS,VALS), cat=\"Binary\")"
   ]
  },
  {
   "cell_type": "markdown",
   "metadata": {},
   "source": [
    "La función objetivo se vuelve irrelevante porque cada punto que satisface las restricciones representará una solución del puzzle\n",
    "$$\\begin{matrix}\n",
    "\\min 0^T x_{ijk} & \\forall i,j,k\n",
    "\\end{matrix}$$"
   ]
  },
  {
   "cell_type": "code",
   "execution_count": 13,
   "metadata": {},
   "outputs": [],
   "source": [
    "P += 0*lpSum( [x[i][j][k] for i in ROWS for j in COLS for k in VALS] )"
   ]
  },
  {
   "cell_type": "markdown",
   "metadata": {},
   "source": [
    "\n",
    "Entonces, tenemos las siguientes restricciones:"
   ]
  },
  {
   "cell_type": "markdown",
   "metadata": {},
   "source": [
    "Cada fila contiene exactamente un numero entero del 1 al 9\n",
    "$$\\begin{matrix}\n",
    "\\displaystyle\\sum_{i=1}^9 x_{ijk} = 1 & \\forall j,k\n",
    "\\end{matrix}$$"
   ]
  },
  {
   "cell_type": "code",
   "execution_count": 14,
   "metadata": {},
   "outputs": [],
   "source": [
    "for k in VALS:\n",
    "  for j in COLS:\n",
    "    P += lpSum([x[i][j][k] for i in ROWS]) == 1"
   ]
  },
  {
   "cell_type": "markdown",
   "metadata": {},
   "source": [
    "Cada columna contiene exactamente un número entero del 1 al 9\n",
    "$$\\begin{matrix}\n",
    "\\displaystyle\\sum_{j=1}^9 x_{ijk} = 1 & \\forall i,k\n",
    "\\end{matrix}$$"
   ]
  },
  {
   "cell_type": "code",
   "execution_count": 15,
   "metadata": {},
   "outputs": [],
   "source": [
    "for k in VALS:\n",
    "  for i in ROWS:\n",
    "    P += lpSum([x[i][j][k] for j in COLS]) == 1"
   ]
  },
  {
   "cell_type": "markdown",
   "metadata": {},
   "source": [
    "Cada celda tiene asignado solamente un numero entero del 1 al 9\n",
    "$$\\begin{matrix}\n",
    "\\displaystyle\\sum_{k=1}^9 x_{ijk} = 1 & \\forall i,j\n",
    "\\end{matrix}$$"
   ]
  },
  {
   "cell_type": "code",
   "execution_count": 16,
   "metadata": {},
   "outputs": [],
   "source": [
    "for i in ROWS:\n",
    "  for j in COLS:\n",
    "    P += lpSum([x[i][j][k] for k in VALS]) == 1"
   ]
  },
  {
   "cell_type": "markdown",
   "metadata": {},
   "source": [
    "Cada sub-tabla o sub-tablero contiene exactamente todos los números del 1 al 9\n",
    "$$\\begin{matrix}\n",
    "\\displaystyle\\sum_{i=3p-2}^{3p} \\sum_{j=3q-2}^{3q} x_{ijk} = 1 & \\forall k \\land \\forall p,q \\in \\{ 1,2,3 \\}\n",
    "\\end{matrix}$$"
   ]
  },
  {
   "cell_type": "code",
   "execution_count": 17,
   "metadata": {},
   "outputs": [],
   "source": [
    "for k in VALS:\n",
    "  for box in BOXES:\n",
    "    P += lpSum( [x[i][j][k] for (i,j) in box] ) == 1\n"
   ]
  },
  {
   "cell_type": "code",
   "execution_count": 18,
   "metadata": {},
   "outputs": [],
   "source": [
    "for (i,j,k) in G:\n",
    "  if k > 0: P += x[i][j][k] == 1 "
   ]
  },
  {
   "cell_type": "markdown",
   "metadata": {},
   "source": [
    "Se debe tener en cuenta que, en la gran mayoría de las tablas, existe una solución única, pero puede existir más de una solución por tabla, e incluso, no tener solución"
   ]
  },
  {
   "cell_type": "code",
   "execution_count": null,
   "metadata": {},
   "outputs": [],
   "source": [
    "P.solve()\n",
    "LpStatus[P.status]"
   ]
  },
  {
   "cell_type": "code",
   "execution_count": null,
   "metadata": {},
   "outputs": [],
   "source": [
    "for v in P.variables():\n",
    "  if v.varValue:\n",
    "    print( f\"{v.name} = {v.varValue}\" )"
   ]
  }
 ],
 "metadata": {
  "kernelspec": {
   "display_name": "env",
   "language": "python",
   "name": "python3"
  },
  "language_info": {
   "codemirror_mode": {
    "name": "ipython",
    "version": 3
   },
   "file_extension": ".py",
   "mimetype": "text/x-python",
   "name": "python",
   "nbconvert_exporter": "python",
   "pygments_lexer": "ipython3",
   "version": "3.10.12"
  }
 },
 "nbformat": 4,
 "nbformat_minor": 2
}
