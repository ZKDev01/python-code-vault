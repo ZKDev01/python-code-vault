{
 "cells": [
  {
   "cell_type": "markdown",
   "metadata": {},
   "source": [
    "### Definición del Problema\n",
    "\n",
    "Sudoku es un puzzle numérico popular para todas las personas y puede ser modelado como un problema de programación lineal, usando variables binarias\n",
    "\n",
    "La meta (o objetivo principal) del Sudoku es colocar los dígitos del 1 al 9 en un tablero de $9 \\times 9$, donde algunas celdas de este tablero ya tienen fijado un dígito. La solución debe seguir las siguientes reglas:\n",
    "- Los números de 1 al 9 deben estar en cada sub-tablero de $3 \\times 3$\n",
    "- Cada columna debe contener los números del 1 al 9\n",
    "- Cada fila debe contener los números del 1 al 9"
   ]
  },
  {
   "cell_type": "code",
   "execution_count": 13,
   "metadata": {},
   "outputs": [],
   "source": [
    "table = [\n",
    "  [0,0,0, 0,0,0, 0,2,9],\n",
    "  [0,0,0, 0,7,8, 0,0,5],\n",
    "  [0,0,0, 1,9,0, 8,3,0],\n",
    "\n",
    "  [0,6,1, 0,3,9, 2,5,0],\n",
    "  [0,3,0, 0,0,0, 0,9,0],\n",
    "  [0,8,9, 4,6,0, 3,7,0],\n",
    "  \n",
    "  [0,5,2, 0,1,4, 0,0,0],\n",
    "  [1,0,0, 3,5,0, 0,0,0],\n",
    "  [3,7,0, 0,0,0, 0,0,0],\n",
    "]\n",
    "G = [ (i+1,j+1,table[i][j]) for i in range(9) for j in range(9) ]"
   ]
  },
  {
   "cell_type": "code",
   "execution_count": 14,
   "metadata": {},
   "outputs": [],
   "source": [
    "from pulp import *\n",
    "\n",
    "P = LpProblem(\"Sudoku-Problem\", LpMinimize)"
   ]
  },
  {
   "cell_type": "code",
   "execution_count": 15,
   "metadata": {},
   "outputs": [],
   "source": [
    "VALS=ROWS=COLS = range(1, 10)\n",
    "BOXES = [ [(3 *i + k+1, 3*j + l+1) for k in range(3) for l in range(3) ] for i in range(3) for j in range(3) ]"
   ]
  },
  {
   "cell_type": "markdown",
   "metadata": {},
   "source": [
    "Las variables decisión del problema son:\n",
    "$$x_{ijk} = \\bigg\\{ \\begin{matrix}\n",
    "1 & \\text{celda }(i,j) = k\\\\\n",
    "0 & \\text{e.o.c}\n",
    "\\end{matrix}$$"
   ]
  },
  {
   "cell_type": "code",
   "execution_count": 16,
   "metadata": {},
   "outputs": [],
   "source": [
    "x = LpVariable.dicts(\"Variable\", (ROWS,COLS,VALS), cat=\"Binary\")"
   ]
  },
  {
   "cell_type": "markdown",
   "metadata": {},
   "source": [
    "La función objetivo se vuelve irrelevante porque cada punto que satisface las restricciones representará una solución del puzzle\n",
    "$$\\begin{matrix}\n",
    "\\min 0^T x_{ijk} & \\forall i,j,k\n",
    "\\end{matrix}$$"
   ]
  },
  {
   "cell_type": "code",
   "execution_count": 17,
   "metadata": {},
   "outputs": [],
   "source": [
    "P += 0*lpSum( [x[i][j][k] for i in ROWS for j in COLS for k in VALS] )"
   ]
  },
  {
   "cell_type": "markdown",
   "metadata": {},
   "source": [
    "\n",
    "Entonces, tenemos las siguientes restricciones:"
   ]
  },
  {
   "cell_type": "markdown",
   "metadata": {},
   "source": [
    "Cada fila contiene exactamente un numero entero del 1 al 9\n",
    "$$\\begin{matrix}\n",
    "\\displaystyle\\sum_{i=1}^9 x_{ijk} = 1 & \\forall j,k\n",
    "\\end{matrix}$$"
   ]
  },
  {
   "cell_type": "code",
   "execution_count": 18,
   "metadata": {},
   "outputs": [],
   "source": [
    "for k in VALS:\n",
    "  for j in COLS:\n",
    "    P += lpSum([x[i][j][k] for i in ROWS]) == 1"
   ]
  },
  {
   "cell_type": "markdown",
   "metadata": {},
   "source": [
    "Cada columna contiene exactamente un número entero del 1 al 9\n",
    "$$\\begin{matrix}\n",
    "\\displaystyle\\sum_{j=1}^9 x_{ijk} = 1 & \\forall i,k\n",
    "\\end{matrix}$$"
   ]
  },
  {
   "cell_type": "code",
   "execution_count": 19,
   "metadata": {},
   "outputs": [],
   "source": [
    "for k in VALS:\n",
    "  for i in ROWS:\n",
    "    P += lpSum([x[i][j][k] for j in COLS]) == 1"
   ]
  },
  {
   "cell_type": "markdown",
   "metadata": {},
   "source": [
    "Cada celda tiene asignado solamente un numero entero del 1 al 9\n",
    "$$\\begin{matrix}\n",
    "\\displaystyle\\sum_{k=1}^9 x_{ijk} = 1 & \\forall i,j\n",
    "\\end{matrix}$$"
   ]
  },
  {
   "cell_type": "code",
   "execution_count": 20,
   "metadata": {},
   "outputs": [],
   "source": [
    "for i in ROWS:\n",
    "  for j in COLS:\n",
    "    P += lpSum([x[i][j][k] for k in VALS]) == 1"
   ]
  },
  {
   "cell_type": "markdown",
   "metadata": {},
   "source": [
    "Cada sub-tabla o sub-tablero contiene exactamente todos los números del 1 al 9\n",
    "$$\\begin{matrix}\n",
    "\\displaystyle\\sum_{i=3p-2}^{3p} \\sum_{j=3q-2}^{3q} x_{ijk} = 1 & \\forall k \\land \\forall p,q \\in \\{ 1,2,3 \\}\n",
    "\\end{matrix}$$"
   ]
  },
  {
   "cell_type": "code",
   "execution_count": 21,
   "metadata": {},
   "outputs": [],
   "source": [
    "for k in VALS:\n",
    "  for box in BOXES:\n",
    "    P += lpSum( [x[i][j][k] for (i,j) in box] ) == 1\n"
   ]
  },
  {
   "cell_type": "code",
   "execution_count": 22,
   "metadata": {},
   "outputs": [],
   "source": [
    "for (i,j,k) in G:\n",
    "  if k > 0: P += x[i][j][k] == 1 "
   ]
  },
  {
   "cell_type": "markdown",
   "metadata": {},
   "source": [
    "Se debe tener en cuenta que, en la gran mayoría de las tablas, existe una solución única, pero puede existir más de una solución por tabla, e incluso, no tener solución"
   ]
  },
  {
   "cell_type": "code",
   "execution_count": 23,
   "metadata": {},
   "outputs": [
    {
     "name": "stdout",
     "output_type": "stream",
     "text": [
      "Welcome to the CBC MILP Solver \n",
      "Version: 2.10.3 \n",
      "Build Date: Dec 15 2019 \n",
      "\n",
      "command line - /home/zkorpion/Personal Folders/Projects/python-vault/env/lib/python3.10/site-packages/pulp/solverdir/cbc/linux/64/cbc /tmp/b9afc17fce2b4d2faf4820547e1376c5-pulp.mps -timeMode elapsed -branch -printingOptions all -solution /tmp/b9afc17fce2b4d2faf4820547e1376c5-pulp.sol (default strategy 1)\n",
      "At line 2 NAME          MODEL\n",
      "At line 3 ROWS\n",
      "At line 361 COLUMNS\n",
      "At line 4769 RHS\n",
      "At line 5126 BOUNDS\n",
      "At line 5857 ENDATA\n",
      "Problem MODEL has 356 rows, 730 columns and 2948 elements\n",
      "Coin0008I MODEL read with 0 errors\n",
      "Option for timeMode changed from cpu to elapsed\n",
      "Continuous objective value is 0 - 0.00 seconds\n",
      "Cgl0004I processed model has 0 rows, 0 columns (0 integer (0 of which binary)) and 0 elements\n",
      "Cbc3007W No integer variables - nothing to do\n",
      "Cuts at root node changed objective from 0 to -1.79769e+308\n",
      "Probing was tried 0 times and created 0 cuts of which 0 were active after adding rounds of cuts (0.000 seconds)\n",
      "Gomory was tried 0 times and created 0 cuts of which 0 were active after adding rounds of cuts (0.000 seconds)\n",
      "Knapsack was tried 0 times and created 0 cuts of which 0 were active after adding rounds of cuts (0.000 seconds)\n",
      "Clique was tried 0 times and created 0 cuts of which 0 were active after adding rounds of cuts (0.000 seconds)\n",
      "MixedIntegerRounding2 was tried 0 times and created 0 cuts of which 0 were active after adding rounds of cuts (0.000 seconds)\n",
      "FlowCover was tried 0 times and created 0 cuts of which 0 were active after adding rounds of cuts (0.000 seconds)\n",
      "TwoMirCuts was tried 0 times and created 0 cuts of which 0 were active after adding rounds of cuts (0.000 seconds)\n",
      "ZeroHalf was tried 0 times and created 0 cuts of which 0 were active after adding rounds of cuts (0.000 seconds)\n",
      "\n",
      "Result - Optimal solution found\n",
      "\n",
      "Objective value:                0.00000000\n",
      "Enumerated nodes:               0\n",
      "Total iterations:               0\n",
      "Time (CPU seconds):             0.01\n",
      "Time (Wallclock seconds):       0.01\n",
      "\n",
      "Option for printingOptions changed from normal to all\n",
      "Total time (CPU seconds):       0.01   (Wallclock seconds):       0.01\n",
      "\n"
     ]
    },
    {
     "data": {
      "text/plain": [
       "'Optimal'"
      ]
     },
     "execution_count": 23,
     "metadata": {},
     "output_type": "execute_result"
    }
   ],
   "source": [
    "P.solve()\n",
    "LpStatus[P.status]"
   ]
  },
  {
   "cell_type": "code",
   "execution_count": 24,
   "metadata": {},
   "outputs": [
    {
     "name": "stdout",
     "output_type": "stream",
     "text": [
      "Variable_1_1_8 = 1.0\n",
      "Variable_1_2_1 = 1.0\n",
      "Variable_1_3_7 = 1.0\n",
      "Variable_1_4_5 = 1.0\n",
      "Variable_1_5_4 = 1.0\n",
      "Variable_1_6_3 = 1.0\n",
      "Variable_1_7_6 = 1.0\n",
      "Variable_1_8_2 = 1.0\n",
      "Variable_1_9_9 = 1.0\n",
      "Variable_2_1_6 = 1.0\n",
      "Variable_2_2_9 = 1.0\n",
      "Variable_2_3_3 = 1.0\n",
      "Variable_2_4_2 = 1.0\n",
      "Variable_2_5_7 = 1.0\n",
      "Variable_2_6_8 = 1.0\n",
      "Variable_2_7_1 = 1.0\n",
      "Variable_2_8_4 = 1.0\n",
      "Variable_2_9_5 = 1.0\n",
      "Variable_3_1_5 = 1.0\n",
      "Variable_3_2_2 = 1.0\n",
      "Variable_3_3_4 = 1.0\n",
      "Variable_3_4_1 = 1.0\n",
      "Variable_3_5_9 = 1.0\n",
      "Variable_3_6_6 = 1.0\n",
      "Variable_3_7_8 = 1.0\n",
      "Variable_3_8_3 = 1.0\n",
      "Variable_3_9_7 = 1.0\n",
      "Variable_4_1_4 = 1.0\n",
      "Variable_4_2_6 = 1.0\n",
      "Variable_4_3_1 = 1.0\n",
      "Variable_4_4_7 = 1.0\n",
      "Variable_4_5_3 = 1.0\n",
      "Variable_4_6_9 = 1.0\n",
      "Variable_4_7_2 = 1.0\n",
      "Variable_4_8_5 = 1.0\n",
      "Variable_4_9_8 = 1.0\n",
      "Variable_5_1_7 = 1.0\n",
      "Variable_5_2_3 = 1.0\n",
      "Variable_5_3_5 = 1.0\n",
      "Variable_5_4_8 = 1.0\n",
      "Variable_5_5_2 = 1.0\n",
      "Variable_5_6_1 = 1.0\n",
      "Variable_5_7_4 = 1.0\n",
      "Variable_5_8_9 = 1.0\n",
      "Variable_5_9_6 = 1.0\n",
      "Variable_6_1_2 = 1.0\n",
      "Variable_6_2_8 = 1.0\n",
      "Variable_6_3_9 = 1.0\n",
      "Variable_6_4_4 = 1.0\n",
      "Variable_6_5_6 = 1.0\n",
      "Variable_6_6_5 = 1.0\n",
      "Variable_6_7_3 = 1.0\n",
      "Variable_6_8_7 = 1.0\n",
      "Variable_6_9_1 = 1.0\n",
      "Variable_7_1_9 = 1.0\n",
      "Variable_7_2_5 = 1.0\n",
      "Variable_7_3_2 = 1.0\n",
      "Variable_7_4_6 = 1.0\n",
      "Variable_7_5_1 = 1.0\n",
      "Variable_7_6_4 = 1.0\n",
      "Variable_7_7_7 = 1.0\n",
      "Variable_7_8_8 = 1.0\n",
      "Variable_7_9_3 = 1.0\n",
      "Variable_8_1_1 = 1.0\n",
      "Variable_8_2_4 = 1.0\n",
      "Variable_8_3_8 = 1.0\n",
      "Variable_8_4_3 = 1.0\n",
      "Variable_8_5_5 = 1.0\n",
      "Variable_8_6_7 = 1.0\n",
      "Variable_8_7_9 = 1.0\n",
      "Variable_8_8_6 = 1.0\n",
      "Variable_8_9_2 = 1.0\n",
      "Variable_9_1_3 = 1.0\n",
      "Variable_9_2_7 = 1.0\n",
      "Variable_9_3_6 = 1.0\n",
      "Variable_9_4_9 = 1.0\n",
      "Variable_9_5_8 = 1.0\n",
      "Variable_9_6_2 = 1.0\n",
      "Variable_9_7_5 = 1.0\n",
      "Variable_9_8_1 = 1.0\n",
      "Variable_9_9_4 = 1.0\n"
     ]
    }
   ],
   "source": [
    "for v in P.variables():\n",
    "  if v.varValue:\n",
    "    print( f\"{v.name} = {v.varValue}\" )"
   ]
  }
 ],
 "metadata": {
  "kernelspec": {
   "display_name": "env",
   "language": "python",
   "name": "python3"
  },
  "language_info": {
   "codemirror_mode": {
    "name": "ipython",
    "version": 3
   },
   "file_extension": ".py",
   "mimetype": "text/x-python",
   "name": "python",
   "nbconvert_exporter": "python",
   "pygments_lexer": "ipython3",
   "version": "3.10.12"
  }
 },
 "nbformat": 4,
 "nbformat_minor": 2
}
