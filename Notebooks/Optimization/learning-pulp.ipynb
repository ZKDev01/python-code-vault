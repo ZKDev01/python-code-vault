{
 "cells": [
  {
   "cell_type": "markdown",
   "metadata": {},
   "source": [
    "## Learning PuLP\n",
    "\n",
    "PuLP es una librería de Python utilizada para modelar y resolver problemas de programación lineal y programación mixta"
   ]
  },
  {
   "cell_type": "code",
   "execution_count": 1,
   "metadata": {},
   "outputs": [],
   "source": [
    "from pulp import *\n",
    "from typing import Dict"
   ]
  },
  {
   "cell_type": "markdown",
   "metadata": {},
   "source": [
    "Es posible especificar un nombre para el problema de optimización y si consiste en minimizar/maximizar la función objetivo"
   ]
  },
  {
   "cell_type": "code",
   "execution_count": 2,
   "metadata": {},
   "outputs": [],
   "source": [
    "problem = LpProblem (\"problem-name\", LpMinimize)\n",
    "# or LpMaximize"
   ]
  },
  {
   "cell_type": "markdown",
   "metadata": {},
   "source": [
    "Para definir una variable se tienen los siguientes parámetros: \n",
    "- `name`: nombre de la variable\n",
    "- `lowBound`: cota inferior\n",
    "- `upBound`: cota superior\n",
    "- `cat`:  categoría de la variable: `Integer` (variable entera), `Binary` (variable binaria), `Continuous` (variable continua)"
   ]
  },
  {
   "cell_type": "code",
   "execution_count": 3,
   "metadata": {},
   "outputs": [],
   "source": [
    "x = LpVariable(\n",
    "  name='1.1',\n",
    "  lowBound=None,\n",
    "  upBound=10,\n",
    "  cat=const.LpInteger,\n",
    ")"
   ]
  },
  {
   "cell_type": "markdown",
   "metadata": {},
   "source": [
    "El estado de la solución se puede mostrar con `LpStatus[problem.status]`"
   ]
  },
  {
   "cell_type": "code",
   "execution_count": null,
   "metadata": {},
   "outputs": [],
   "source": [
    "print(\"Status:\", LpStatus[problem.status])"
   ]
  },
  {
   "cell_type": "markdown",
   "metadata": {},
   "source": [
    "Los posibles valores que puede devolver son: \n",
    "- `Not Solved` __description__\n",
    "- `Optimal` __description__\n",
    "- `Infeasible` __description__ \n",
    "- `Unbounded` __description__\n",
    "- `Undefined` __description__"
   ]
  },
  {
   "cell_type": "markdown",
   "metadata": {},
   "source": [
    "Si se quisiera mostrar cada variable con su posible valor óptimo se tiene:"
   ]
  },
  {
   "cell_type": "code",
   "execution_count": 5,
   "metadata": {},
   "outputs": [],
   "source": [
    "for v in problem.variables():\n",
    "  print(v.name, \"=\", v.varValue)"
   ]
  },
  {
   "cell_type": "markdown",
   "metadata": {},
   "source": [
    "El valor óptimo de la función objetivo se puede mostrar de la siguiente forma:"
   ]
  },
  {
   "cell_type": "code",
   "execution_count": null,
   "metadata": {},
   "outputs": [],
   "source": [
    "print(\"Total Cost of Ingredients per can = \", value(problem.objective))"
   ]
  },
  {
   "cell_type": "markdown",
   "metadata": {},
   "source": [
    "### Ejemplo de un Problema de Mezcla \n",
    "\n",
    "Una fábrica produce aceite mezclando aceites refinados, dos de origen vegetal y tres de origen no vegetal. En un mes sólo es posible refinar 200 toneladas de vegetal y 250 de no vegetal. El aceite resultante debe cumplir un valor de dureza comprendido entre 3 y 6. El costo de una tonelada para cada aceite refinado junto con su dureza aparecen en la siguiente tabla:\n",
    "\n",
    "|        | $Veg_{1}$ | $Veg_{2}$ | $NoVeg_{1}$ | $NoVeg_{2}$ | $NoVeg_{3}$ |\n",
    "| ------ | --------- | --------- | ----------- | ----------- | ----------- |\n",
    "| costo  | 110       | 120       | 130         | 110         | 115         |\n",
    "| dureza | 8.8       | 6.1       | 2.0         | 4.2         | 5.0         |\n",
    "\n",
    "Se trata de refinar las cantidades apropiadas de cada aceite a fin de maximizar el beneficio de la producción final sabiendo que una tonelada del aceite producido se vende a 150\n",
    "\n",
    "**Variables de decisión**\n",
    "- $x_{1}:$ cantidad de aceite refinado $Veg_{1}$\n",
    "- $x_{2}:$ cantidad de aceite refinado $Veg_{2}$\n",
    "- $x_{3}:$ cantidad de aceite refinado $NoVeg_{1}$\n",
    "- $x_{4}:$ cantidad de aceite refinado $NoVeg_{2}$\n",
    "- $x_{5}:$ cantidad de aceite refinado $NoVeg_{3}$\n",
    "- $y:$ cantidad de aceite a producir\n",
    "\n",
    "**Restricciones**\n",
    "$$\\begin{matrix}\n",
    "x_{1}+x_{2} \\leq 200 & (\\text{aceite no vegetal refinado} \\leq \\text{capacidad de refino vegetal}) \\\\\n",
    "x_{3}+x_{4}+x_{5} \\leq 250 & (\\text{aceite no vegetal refinado} \\leq \\text{capacidad de refino no vegetal})  \\\\\n",
    "8.8x_{1}+6.1x_{2}+2x_{3}+4.2x_{4}+5x_{5} \\leq 6y & (\\text{límite superior de dureza del aceite producido}) \\\\\n",
    "8.8x_{1}+6.1x_{2}+2x_{3}+4.2x_{4}+5x_{5} \\geq 3y & (\\text{límite inferior de dureza del aceite producido}) \\\\\n",
    "x_{1}+x_{2}+x_{3}+x_{4}+x_{5}=y & \\text{suma de las cantidades de los aceites refinados = cantidad de aceite producido}\\\\\n",
    "x_{1},x_{2},x_{3},x_{4},x_{5},x_{6},y \\geq 0 & (\\text{no negatividad})\n",
    "\\end{matrix}$$\n",
    "\n",
    "**Función objetivo**\n",
    "$$\\max z = 150y - 110x_{1} - 120x_{2} - 130x_{3} - 110x_{4} - 115x_{5}$$\n",
    "Esta función viene del análisis: valor del aceite producido - coste de los aceites refinados\n"
   ]
  },
  {
   "cell_type": "code",
   "execution_count": null,
   "metadata": {},
   "outputs": [],
   "source": [
    "problem = LpProblem(\"Mezcla\", LpMaximize)\n",
    "\n",
    "veg_materials = [\"Veg_1\",\"Veg_2\"]\n",
    "no_veg_materials = [\"No-Veg_1\",\"No-Veg_2\",\"No-Veg_3\"]\n",
    "materials = veg_materials + no_veg_materials\n",
    "materials_vars:Dict[str,LpVariable] = LpVariable.dicts(\"Materials\",materials,0,cat=const.LpInteger)\n",
    "total = lpSum( [materials_vars[i] for i in materials] )\n"
   ]
  },
  {
   "cell_type": "code",
   "execution_count": 33,
   "metadata": {},
   "outputs": [],
   "source": [
    "costs = {\n",
    "  \"Veg_1\" : 110,\n",
    "  \"Veg_2\" : 120,\n",
    "  \"No-Veg_1\" : 130,\n",
    "  \"No-Veg_2\" : 110,\n",
    "  \"No-Veg_3\" : 115\n",
    "}\n",
    "viscosities = {\n",
    "  \"Veg_1\" : 8.8,\n",
    "  \"Veg_2\" : 6.1,\n",
    "  \"No-Veg_1\" : 2.0,\n",
    "  \"No-Veg_2\" : 4.2,\n",
    "  \"No-Veg_3\" : 5.0\n",
    "} "
   ]
  },
  {
   "cell_type": "code",
   "execution_count": 34,
   "metadata": {},
   "outputs": [],
   "source": [
    "problem += (\n",
    "  150*total - lpSum( [costs[i]*materials_vars[i] for i in materials] ),\n",
    "  \"Objetive Function\"\n",
    ")"
   ]
  },
  {
   "cell_type": "code",
   "execution_count": 35,
   "metadata": {},
   "outputs": [],
   "source": [
    "problem += (\n",
    "  lpSum([materials_vars[i] for i in veg_materials]) <= 200, \n",
    "  \"Constract 1\" )\n",
    "problem += (\n",
    "  lpSum([materials_vars[i] for i in no_veg_materials]) <= 250, \n",
    "  \"Constract 2\" )\n",
    "problem += (\n",
    "  lpSum([materials_vars[i]*viscosities[i] for i in materials]) <= 6*total, \n",
    "  \"Constract 3\" )\n",
    "problem += (\n",
    "  lpSum([materials_vars[i]*viscosities[i] for i in materials]) >= 3*total, \n",
    "  \"Constract 4\" )"
   ]
  },
  {
   "cell_type": "code",
   "execution_count": null,
   "metadata": {},
   "outputs": [],
   "source": [
    "problem.solve()"
   ]
  },
  {
   "cell_type": "code",
   "execution_count": null,
   "metadata": {},
   "outputs": [],
   "source": [
    "LpStatus[problem.status]"
   ]
  },
  {
   "cell_type": "code",
   "execution_count": null,
   "metadata": {},
   "outputs": [],
   "source": [
    "print(\"Total Cost of Ingredients per can = \", value(problem.objective))\n",
    "\n",
    "for v in problem.variables():\n",
    "  print(v.name, \"=\", v.varValue)"
   ]
  },
  {
   "cell_type": "code",
   "execution_count": null,
   "metadata": {},
   "outputs": [],
   "source": [
    "# TODO: Visualización gráfica del problema"
   ]
  }
 ],
 "metadata": {
  "kernelspec": {
   "display_name": "env",
   "language": "python",
   "name": "python3"
  },
  "language_info": {
   "codemirror_mode": {
    "name": "ipython",
    "version": 3
   },
   "file_extension": ".py",
   "mimetype": "text/x-python",
   "name": "python",
   "nbconvert_exporter": "python",
   "pygments_lexer": "ipython3",
   "version": "3.10.12"
  }
 },
 "nbformat": 4,
 "nbformat_minor": 2
}
