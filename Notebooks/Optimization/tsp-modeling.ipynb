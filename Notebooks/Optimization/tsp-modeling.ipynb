{
 "cells": [
  {
   "cell_type": "markdown",
   "metadata": {},
   "source": [
    "## Problema del Viajante de Comercio o TSP\n",
    "\n",
    "$$\\min \\sum_{a \\in A} c_{a}x_{a}$$\n",
    "\n",
    "$$\\sum_{a \\in \\delta^+ (i)} x_{a} = \\sum_{a \\in \\delta^- (i)} s_{a} = 1$$\n",
    "\n",
    "$$\\sum_{a \\in A(S)} x_{a} \\leq |S| - 1$$\n",
    "\n",
    "$$\\forall S \\subset N$$\n",
    "\n",
    "$$0 \\leq x_{a} \\leq 1$$\n",
    "\n",
    "$$x_{a} \\in \\mathbb{Z}$$"
   ]
  },
  {
   "cell_type": "markdown",
   "metadata": {},
   "source": [
    "Primero importamos la librería de optimi ... y numpy para la representación del grafo que conecta los caminos "
   ]
  },
  {
   "cell_type": "code",
   "execution_count": 7,
   "metadata": {},
   "outputs": [],
   "source": [
    "from pulp import *\n",
    "import numpy as np "
   ]
  },
  {
   "cell_type": "code",
   "execution_count": 8,
   "metadata": {},
   "outputs": [],
   "source": [
    "num_cities = 5\n",
    "distances = np.array([\n",
    "  [0, 1, 1, 1, 1],\n",
    "  [1, 0, 1, -1, 12],\n",
    "  [1, 1, 0, -4, 42],\n",
    "  [1, 3, 0, 0, 1],\n",
    "  [1, -2, -1, 1, 0]\n",
    "])\n",
    "\n",
    "prob = LpProblem(\n",
    "  name=\"TSP\",\n",
    "  sense=LpMinimize\n",
    ")"
   ]
  },
  {
   "cell_type": "code",
   "execution_count": 9,
   "metadata": {},
   "outputs": [
    {
     "name": "stdout",
     "output_type": "stream",
     "text": [
      "Welcome to the CBC MILP Solver \n",
      "Version: 2.10.3 \n",
      "Build Date: Dec 15 2019 \n",
      "\n",
      "command line - /home/zkorpion/Projects/python-vault/_env/lib/python3.10/site-packages/pulp/solverdir/cbc/linux/64/cbc /tmp/e0d81a24be3e4055a7f55023480531a8-pulp.mps -timeMode elapsed -branch -printingOptions all -solution /tmp/e0d81a24be3e4055a7f55023480531a8-pulp.sol (default strategy 1)\n",
      "At line 2 NAME          MODEL\n",
      "At line 3 ROWS\n",
      "At line 27 COLUMNS\n",
      "At line 163 RHS\n",
      "At line 186 BOUNDS\n",
      "At line 207 ENDATA\n",
      "Problem MODEL has 22 rows, 24 columns and 76 elements\n",
      "Coin0008I MODEL read with 0 errors\n",
      "Option for timeMode changed from cpu to elapsed\n",
      "Continuous objective value is -3.6 - 0.00 seconds\n",
      "Cgl0004I processed model has 22 rows, 24 columns (20 integer (20 of which binary)) and 76 elements\n",
      "Cutoff increment increased from 1e-05 to 0.9999\n",
      "Cbc0038I Initial state - 4 integers unsatisfied sum - 1.6\n",
      "Cbc0038I Pass   1: suminf.    1.60000 (8) obj. -2.6 iterations 6\n",
      "Cbc0038I Pass   2: suminf.    0.00000 (0) obj. 3 iterations 12\n",
      "Cbc0038I Solution found of 3\n",
      "Cbc0038I Relaxing continuous gives 3\n",
      "Cbc0038I Before mini branch and bound, 11 integers at bound fixed and 0 continuous\n",
      "Cbc0038I Full problem 22 rows 24 columns, reduced to 13 rows 7 columns\n",
      "Cbc0038I Mini branch and bound improved solution from 3 to -3 (0.00 seconds)\n",
      "Cbc0038I After 0.00 seconds - Feasibility pump exiting with objective of -3 - took 0.00 seconds\n",
      "Cbc0012I Integer solution of -3 found by feasibility pump after 0 iterations and 0 nodes (0.00 seconds)\n",
      "Cbc0001I Search completed - best objective -3, took 0 iterations and 0 nodes (0.00 seconds)\n",
      "Cbc0035I Maximum depth 0, 10 variables fixed on reduced cost\n",
      "Cuts at root node changed objective from -3.6 to -3.6\n",
      "Probing was tried 0 times and created 0 cuts of which 0 were active after adding rounds of cuts (0.000 seconds)\n",
      "Gomory was tried 0 times and created 0 cuts of which 0 were active after adding rounds of cuts (0.000 seconds)\n",
      "Knapsack was tried 0 times and created 0 cuts of which 0 were active after adding rounds of cuts (0.000 seconds)\n",
      "Clique was tried 0 times and created 0 cuts of which 0 were active after adding rounds of cuts (0.000 seconds)\n",
      "MixedIntegerRounding2 was tried 0 times and created 0 cuts of which 0 were active after adding rounds of cuts (0.000 seconds)\n",
      "FlowCover was tried 0 times and created 0 cuts of which 0 were active after adding rounds of cuts (0.000 seconds)\n",
      "TwoMirCuts was tried 0 times and created 0 cuts of which 0 were active after adding rounds of cuts (0.000 seconds)\n",
      "ZeroHalf was tried 0 times and created 0 cuts of which 0 were active after adding rounds of cuts (0.000 seconds)\n",
      "\n",
      "Result - Optimal solution found\n",
      "\n",
      "Objective value:                -3.00000000\n",
      "Enumerated nodes:               0\n",
      "Total iterations:               0\n",
      "Time (CPU seconds):             0.00\n",
      "Time (Wallclock seconds):       0.00\n",
      "\n",
      "Option for printingOptions changed from normal to all\n",
      "Total time (CPU seconds):       0.00   (Wallclock seconds):       0.00\n",
      "\n"
     ]
    },
    {
     "data": {
      "text/plain": [
       "1"
      ]
     },
     "execution_count": 9,
     "metadata": {},
     "output_type": "execute_result"
    }
   ],
   "source": [
    "# Decision variables: x[i][j] is 1 if the path goes from city i to city j, 0 otherwise\n",
    "x = LpVariable.dicts(\"x\", (range(num_cities), range(num_cities)), cat='Binary')\n",
    "\n",
    "# Objective function: minimize the total distance\n",
    "prob += lpSum(distances[i][j] * x[i][j] for i in range(num_cities) for j in range(num_cities))\n",
    "\n",
    "# Constraints: each city is visited exactly once\n",
    "for i in range(num_cities):\n",
    "  prob += lpSum(x[i][j] for j in range(num_cities) if i != j) == 1\n",
    "  prob += lpSum(x[j][i] for j in range(num_cities) if i != j) == 1\n",
    "\n",
    "# Subtour elimination constraints\n",
    "u = LpVariable.dicts(\"u\", range(num_cities), lowBound=0, cat='Continuous')\n",
    "for i in range(1, num_cities):\n",
    "  for j in range(1, num_cities):\n",
    "    if i != j:\n",
    "      prob += u[i] - u[j] + num_cities * x[i][j] <= num_cities - 1\n",
    "\n",
    "prob.solve()"
   ]
  },
  {
   "cell_type": "code",
   "execution_count": 11,
   "metadata": {},
   "outputs": [
    {
     "name": "stdout",
     "output_type": "stream",
     "text": [
      "Path:\n",
      "City 1 -> City 3\n",
      "City 2 -> City 1\n",
      "City 3 -> City 4\n",
      "City 4 -> City 5\n",
      "City 5 -> City 2\n"
     ]
    }
   ],
   "source": [
    "print(\"Path:\")\n",
    "for i in range(num_cities):\n",
    "  for j in range(num_cities):\n",
    "    if value(x[i][j]) == 1:\n",
    "      print(f\"City {i+1} -> City {j+1}\")"
   ]
  }
 ],
 "metadata": {
  "kernelspec": {
   "display_name": "_env",
   "language": "python",
   "name": "python3"
  },
  "language_info": {
   "codemirror_mode": {
    "name": "ipython",
    "version": 3
   },
   "file_extension": ".py",
   "mimetype": "text/x-python",
   "name": "python",
   "nbconvert_exporter": "python",
   "pygments_lexer": "ipython3",
   "version": "3.10.12"
  }
 },
 "nbformat": 4,
 "nbformat_minor": 2
}
