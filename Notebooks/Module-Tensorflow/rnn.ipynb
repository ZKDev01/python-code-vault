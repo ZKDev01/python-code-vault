{
 "cells": [
  {
   "cell_type": "markdown",
   "metadata": {},
   "source": [
    "# Red Neuronal Recurrente usando TensorFlow \n",
    "\n",
    "## Explicación sobre el funcionamiento de la RNN\n",
    "\n",
    "La red neuronal recurrente o RNN permite modelar unidades de memoria para conservar datos y modelar dependencias a corto plazo. También se utiliza en pronósticos de series de tiempo para la identificación de correlaciones y patrones de diseño. También ayuda a producir resultados predictivos para datos secuenciales al ofrecer un comportamiento similar al del cerebro humano. \n",
    "\n",
    "La estructura de una red neuronal artificial es relativamente simple y se trata principalmente de multiplicación de matrices. Durante el primer paso, las entradas se multiplican por pesos inicialmente aleatorios y el sesgo se transforma con una función de activación y los valores de salida se utilizan para hacer una predicción. Este paso da una idea de qué tan lejos está la red de la realidad \n",
    "\n",
    "La métrica que se aplica es la pérdida. Cuando mayor sea la función de pérdida, má tonto será el modelo. Para mejorar el conocimiento de la red, se requiere cierta optimización ajustando los pesos de la red. El descenso del gradiente estocástico es el método que se empleayed para cambiar los valores de los pesos en la dirección correcta. Una vez realizado el ajuste, la red puede utilizar otro lote de datos para probar sus nuevos conocimientos\n",
    "\n",
    "El error es menor que antes, aunque no lo suficientemente pequeño. El paso de optimización se realiza de forma iterativa hasta que se minimiza el error, es decir, no se puede extraer más información\n",
    "\n",
    "El problema de este tipo de modelo es que no tiene memoria. Significa que la entrada y la salida son independientes. En otras palabras, al modelo no le importa lo que vino antes. Pero esto resulta un problema porque puede que sea necesario predecir series de tiempo o oraciones porque la red necesita tener información sobre datos históricos o palabras pasadas. Y para superar este problema nace la RNN\n",
    "\n",
    "La RNN es una clase de red neuronal artificial en el que la conexión entre diferentes nodos forma un grafo dirigido para dar un comportamiento dinámico temporal. Ayuda a modelar datos secuenciales que se derivan de redes de alimentación directa. Funciona de manera similar al cerebro humano para ofrecer resultados predictivos. \n",
    "\n",
    "Una RNN es una red neuronal tradicional pero se le agrega un estado de memoria a las neuronas. Este paso es sencillo. \n",
    "\n",
    "Tomemos un modelo simple con una sola neurona alimentada por un lote de datos. En una red neuronal tradicional, el modelo produce la salida multiplicando la entrada por el peso y la función de activación. Con un RNN, esta salida se envía a sí misma varias veces. Llamamos *hora de caminar* la cantidad de tiempo que la salida se convierte en la entrada de la siguiente multiplicación de matrices \n",
    "\n",
    "![alt-img](img/img_1.png)\n",
    "\n",
    "En esta imagen podemos ver que la red está compuesta por una neurona. La red calcula la multiplicación de matrices entre la entrada y el peso y agrega no linealidad con la función de activación. Se convierte en la salida en $t-1$. Esta salida es la entrada de la segunda multiplicación de matrices \n"
   ]
  },
  {
   "cell_type": "markdown",
   "metadata": {},
   "source": [
    "## Codificación\n",
    "\n",
    "### Importación\n",
    "\n",
    "El proyecto requiere de las librerías de `Pandas` y `Numpy` para la manipulación de datos, `Matplotlib.pyplot` para la visualización de datos, `scikit-learn` para el escalado y la evaluación y `TensorFlow` para la modelación"
   ]
  },
  {
   "cell_type": "code",
   "execution_count": 9,
   "metadata": {},
   "outputs": [],
   "source": [
    "import numpy as np\n",
    "import pandas as pd\n",
    "import matplotlib.pyplot as plt \n",
    "import tensorflow.python.keras.layers as layers\n",
    "\n",
    "from pandas import DataFrame\n",
    "\n",
    "from sklearn.preprocessing import MinMaxScaler\n",
    "from sklearn.metrics import mean_squared_error\n",
    "\n",
    "from tensorflow.python.keras.models import Sequential\n",
    "from tensorflow.python.keras.optimizer_v1 import SGD\n",
    "\n",
    "np.random.seed(455)"
   ]
  },
  {
   "cell_type": "markdown",
   "metadata": {},
   "source": [
    "### Análisis de datos"
   ]
  },
  {
   "cell_type": "code",
   "execution_count": 13,
   "metadata": {},
   "outputs": [
    {
     "data": {
      "text/html": [
       "<div>\n",
       "<style scoped>\n",
       "    .dataframe tbody tr th:only-of-type {\n",
       "        vertical-align: middle;\n",
       "    }\n",
       "\n",
       "    .dataframe tbody tr th {\n",
       "        vertical-align: top;\n",
       "    }\n",
       "\n",
       "    .dataframe thead th {\n",
       "        text-align: right;\n",
       "    }\n",
       "</style>\n",
       "<table border=\"1\" class=\"dataframe\">\n",
       "  <thead>\n",
       "    <tr style=\"text-align: right;\">\n",
       "      <th></th>\n",
       "      <th>Open</th>\n",
       "      <th>High</th>\n",
       "      <th>Low</th>\n",
       "      <th>Close</th>\n",
       "      <th>Volume</th>\n",
       "    </tr>\n",
       "    <tr>\n",
       "      <th>Date</th>\n",
       "      <th></th>\n",
       "      <th></th>\n",
       "      <th></th>\n",
       "      <th></th>\n",
       "      <th></th>\n",
       "    </tr>\n",
       "  </thead>\n",
       "  <tbody>\n",
       "    <tr>\n",
       "      <th>2006-05-25</th>\n",
       "      <td>3.748967</td>\n",
       "      <td>4.283869</td>\n",
       "      <td>3.739664</td>\n",
       "      <td>4.279217</td>\n",
       "      <td>395343000</td>\n",
       "    </tr>\n",
       "    <tr>\n",
       "      <th>2006-05-26</th>\n",
       "      <td>4.307126</td>\n",
       "      <td>4.348058</td>\n",
       "      <td>4.103398</td>\n",
       "      <td>4.179680</td>\n",
       "      <td>103044000</td>\n",
       "    </tr>\n",
       "    <tr>\n",
       "      <th>2006-05-30</th>\n",
       "      <td>4.183400</td>\n",
       "      <td>4.184330</td>\n",
       "      <td>3.986184</td>\n",
       "      <td>4.093164</td>\n",
       "      <td>49898000</td>\n",
       "    </tr>\n",
       "    <tr>\n",
       "      <th>2006-05-31</th>\n",
       "      <td>4.125723</td>\n",
       "      <td>4.219679</td>\n",
       "      <td>4.125723</td>\n",
       "      <td>4.180608</td>\n",
       "      <td>30002000</td>\n",
       "    </tr>\n",
       "    <tr>\n",
       "      <th>2006-06-01</th>\n",
       "      <td>4.179678</td>\n",
       "      <td>4.474572</td>\n",
       "      <td>4.176887</td>\n",
       "      <td>4.419686</td>\n",
       "      <td>62344000</td>\n",
       "    </tr>\n",
       "  </tbody>\n",
       "</table>\n",
       "</div>"
      ],
      "text/plain": [
       "                Open      High       Low     Close     Volume\n",
       "Date                                                         \n",
       "2006-05-25  3.748967  4.283869  3.739664  4.279217  395343000\n",
       "2006-05-26  4.307126  4.348058  4.103398  4.179680  103044000\n",
       "2006-05-30  4.183400  4.184330  3.986184  4.093164   49898000\n",
       "2006-05-31  4.125723  4.219679  4.125723  4.180608   30002000\n",
       "2006-06-01  4.179678  4.474572  4.176887  4.419686   62344000"
      ]
     },
     "execution_count": 13,
     "metadata": {},
     "output_type": "execute_result"
    }
   ],
   "source": [
    "dataset = pd.read_csv(\n",
    "  'database/database_1.csv',\n",
    "  index_col='Date',\n",
    "  parse_dates=['Date']\n",
    ").drop( [ 'Dividends', 'Stock Splits' ], axis=1 )\n",
    "dataset.head()"
   ]
  },
  {
   "cell_type": "markdown",
   "metadata": {},
   "source": [
    "La función `describe` nos permite analizar los datos en profundidad"
   ]
  },
  {
   "cell_type": "code",
   "execution_count": 14,
   "metadata": {},
   "outputs": [
    {
     "data": {
      "text/html": [
       "<div>\n",
       "<style scoped>\n",
       "    .dataframe tbody tr th:only-of-type {\n",
       "        vertical-align: middle;\n",
       "    }\n",
       "\n",
       "    .dataframe tbody tr th {\n",
       "        vertical-align: top;\n",
       "    }\n",
       "\n",
       "    .dataframe thead th {\n",
       "        text-align: right;\n",
       "    }\n",
       "</style>\n",
       "<table border=\"1\" class=\"dataframe\">\n",
       "  <thead>\n",
       "    <tr style=\"text-align: right;\">\n",
       "      <th></th>\n",
       "      <th>Open</th>\n",
       "      <th>High</th>\n",
       "      <th>Low</th>\n",
       "      <th>Close</th>\n",
       "      <th>Volume</th>\n",
       "    </tr>\n",
       "  </thead>\n",
       "  <tbody>\n",
       "    <tr>\n",
       "      <th>count</th>\n",
       "      <td>3872.000000</td>\n",
       "      <td>3872.000000</td>\n",
       "      <td>3872.000000</td>\n",
       "      <td>3872.000000</td>\n",
       "      <td>3.872000e+03</td>\n",
       "    </tr>\n",
       "    <tr>\n",
       "      <th>mean</th>\n",
       "      <td>104.896814</td>\n",
       "      <td>105.956054</td>\n",
       "      <td>103.769349</td>\n",
       "      <td>104.882714</td>\n",
       "      <td>1.232250e+07</td>\n",
       "    </tr>\n",
       "    <tr>\n",
       "      <th>std</th>\n",
       "      <td>106.245511</td>\n",
       "      <td>107.303589</td>\n",
       "      <td>105.050064</td>\n",
       "      <td>106.168693</td>\n",
       "      <td>1.759665e+07</td>\n",
       "    </tr>\n",
       "    <tr>\n",
       "      <th>min</th>\n",
       "      <td>3.748967</td>\n",
       "      <td>4.102467</td>\n",
       "      <td>3.739664</td>\n",
       "      <td>4.083861</td>\n",
       "      <td>6.411000e+05</td>\n",
       "    </tr>\n",
       "    <tr>\n",
       "      <th>25%</th>\n",
       "      <td>22.347203</td>\n",
       "      <td>22.637997</td>\n",
       "      <td>22.034458</td>\n",
       "      <td>22.300391</td>\n",
       "      <td>3.529475e+06</td>\n",
       "    </tr>\n",
       "    <tr>\n",
       "      <th>50%</th>\n",
       "      <td>70.810079</td>\n",
       "      <td>71.375896</td>\n",
       "      <td>70.224002</td>\n",
       "      <td>70.856083</td>\n",
       "      <td>5.891750e+06</td>\n",
       "    </tr>\n",
       "    <tr>\n",
       "      <th>75%</th>\n",
       "      <td>147.688448</td>\n",
       "      <td>148.645373</td>\n",
       "      <td>146.822013</td>\n",
       "      <td>147.688438</td>\n",
       "      <td>1.319775e+07</td>\n",
       "    </tr>\n",
       "    <tr>\n",
       "      <th>max</th>\n",
       "      <td>392.653890</td>\n",
       "      <td>400.521479</td>\n",
       "      <td>389.747812</td>\n",
       "      <td>394.685730</td>\n",
       "      <td>3.953430e+08</td>\n",
       "    </tr>\n",
       "  </tbody>\n",
       "</table>\n",
       "</div>"
      ],
      "text/plain": [
       "              Open         High          Low        Close        Volume\n",
       "count  3872.000000  3872.000000  3872.000000  3872.000000  3.872000e+03\n",
       "mean    104.896814   105.956054   103.769349   104.882714  1.232250e+07\n",
       "std     106.245511   107.303589   105.050064   106.168693  1.759665e+07\n",
       "min       3.748967     4.102467     3.739664     4.083861  6.411000e+05\n",
       "25%      22.347203    22.637997    22.034458    22.300391  3.529475e+06\n",
       "50%      70.810079    71.375896    70.224002    70.856083  5.891750e+06\n",
       "75%     147.688448   148.645373   146.822013   147.688438  1.319775e+07\n",
       "max     392.653890   400.521479   389.747812   394.685730  3.953430e+08"
      ]
     },
     "execution_count": 14,
     "metadata": {},
     "output_type": "execute_result"
    }
   ],
   "source": [
    "dataset.describe()"
   ]
  },
  {
   "cell_type": "markdown",
   "metadata": {},
   "source": [
    "Podemos usar `Close` u `Open` pero usaremos `High` para entrenar el modelo. \n",
    "\n",
    "Ahora veremos si en el conjunto de datos falta algún valor\n"
   ]
  },
  {
   "cell_type": "code",
   "execution_count": 15,
   "metadata": {},
   "outputs": [
    {
     "data": {
      "text/plain": [
       "Open      0\n",
       "High      0\n",
       "Low       0\n",
       "Close     0\n",
       "Volume    0\n",
       "dtype: int64"
      ]
     },
     "execution_count": 15,
     "metadata": {},
     "output_type": "execute_result"
    }
   ],
   "source": [
    "dataset.isna().sum()"
   ]
  }
 ],
 "metadata": {
  "kernelspec": {
   "display_name": "Python 3",
   "language": "python",
   "name": "python3"
  },
  "language_info": {
   "codemirror_mode": {
    "name": "ipython",
    "version": 3
   },
   "file_extension": ".py",
   "mimetype": "text/x-python",
   "name": "python",
   "nbconvert_exporter": "python",
   "pygments_lexer": "ipython3",
   "version": "3.12.2"
  }
 },
 "nbformat": 4,
 "nbformat_minor": 2
}
