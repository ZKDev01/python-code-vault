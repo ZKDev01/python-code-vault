{
 "cells": [
  {
   "cell_type": "code",
   "execution_count": null,
   "metadata": {},
   "outputs": [],
   "source": [
    "import os\n",
    "import dotenv\n",
    "import pathlib\n",
    "import textwrap\n",
    "import PIL.Image as pillow\n",
    "import google.generativeai as genai \n",
    "\n",
    "from typing import (\n",
    "  Dict,\n",
    "  List\n",
    ")\n",
    "from IPython.display import (\n",
    "  display,\n",
    "  display_jpeg,\n",
    "  Markdown\n",
    ")\n",
    "\n",
    "def to_markdown(text):\n",
    "  text = text.replace('•', '  *')\n",
    "  return Markdown(textwrap.indent(text, '> ', predicate=lambda _: True))"
   ]
  },
  {
   "cell_type": "code",
   "execution_count": 49,
   "metadata": {},
   "outputs": [],
   "source": [
    "dotenv.load_dotenv()\n",
    "api_key = os.environ.setdefault ('google_api_key', os.getenv('google_api_key'))\n",
    "genai.configure(api_key=api_key)"
   ]
  },
  {
   "cell_type": "code",
   "execution_count": 50,
   "metadata": {},
   "outputs": [],
   "source": [
    "model = genai.GenerativeModel(\n",
    "  model_name='models/gemini-1.5-pro'\n",
    ")"
   ]
  },
  {
   "cell_type": "code",
   "execution_count": 51,
   "metadata": {},
   "outputs": [],
   "source": [
    "messages = [\n",
    "  \"\"\"\n",
    "  Que es un LLM?\n",
    "  \"\"\",\n",
    "  \"\"\"\n",
    "  Un LLM es un modelo de aprendizaje profundo?\n",
    "  \"\"\"\n",
    "]"
   ]
  },
  {
   "cell_type": "code",
   "execution_count": 52,
   "metadata": {},
   "outputs": [],
   "source": [
    "response = model.generate_content(messages)\n",
    "response.resolve()"
   ]
  },
  {
   "cell_type": "code",
   "execution_count": null,
   "metadata": {},
   "outputs": [],
   "source": [
    "to_markdown(response.text)"
   ]
  },
  {
   "cell_type": "code",
   "execution_count": null,
   "metadata": {},
   "outputs": [],
   "source": [
    "data_path_split = os.getcwd().split('\\\\')\n",
    "ROOT_PATH = \"\\\\\".join(data_path_split[:len(data_path_split)-2])\n",
    "DATA_PATH = ROOT_PATH + '\\\\_data\\\\private\\\\'\n",
    "\n",
    "# modificar: tiene 3 for \n",
    "def get_files (directory: str, fmt: List[str]):\n",
    "  dict_files:Dict = { f:[] for f in fmt }\n",
    "\n",
    "  for root,_,files in os.walk (directory):\n",
    "    for file in files:\n",
    "      for f in fmt:\n",
    "        if file.endswith(f):\n",
    "          dict_files[f].append(os.path.join(root,file))\n",
    "\n",
    "  return dict_files\n",
    "\n",
    "files = get_files(DATA_PATH, ['.pdf','.jpg'])\n",
    "files"
   ]
  },
  {
   "cell_type": "code",
   "execution_count": 56,
   "metadata": {},
   "outputs": [],
   "source": [
    "imgs = [\n",
    "  pillow.open( files.get('.jpg')[0] )\n",
    "]"
   ]
  },
  {
   "cell_type": "code",
   "execution_count": null,
   "metadata": {},
   "outputs": [],
   "source": [
    "# display img\n",
    "for i in imgs:\n",
    "  display_jpeg(i)"
   ]
  },
  {
   "cell_type": "code",
   "execution_count": 57,
   "metadata": {},
   "outputs": [],
   "source": [
    "messages = [\n",
    "  \"que nos dice cada imagen?\"\n",
    "]\n",
    "messages = messages + imgs"
   ]
  },
  {
   "cell_type": "code",
   "execution_count": 58,
   "metadata": {},
   "outputs": [],
   "source": [
    "response = model.generate_content( messages )\n",
    "response.resolve ()"
   ]
  },
  {
   "cell_type": "code",
   "execution_count": null,
   "metadata": {},
   "outputs": [],
   "source": [
    "to_markdown(response.text)"
   ]
  }
 ],
 "metadata": {
  "kernelspec": {
   "display_name": "Python 3",
   "language": "python",
   "name": "python3"
  },
  "language_info": {
   "codemirror_mode": {
    "name": "ipython",
    "version": 3
   },
   "file_extension": ".py",
   "mimetype": "text/x-python",
   "name": "python",
   "nbconvert_exporter": "python",
   "pygments_lexer": "ipython3",
   "version": "3.12.2"
  }
 },
 "nbformat": 4,
 "nbformat_minor": 2
}
