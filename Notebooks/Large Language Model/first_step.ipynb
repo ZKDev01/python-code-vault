{
 "cells": [
  {
   "cell_type": "code",
   "execution_count": null,
   "metadata": {},
   "outputs": [],
   "source": [
    "import os\n",
    "import dotenv\n",
    "import pathlib\n",
    "import textwrap\n",
    "import PIL.Image as pillow\n",
    "import google.generativeai as genai \n",
    "\n",
    "from typing import (\n",
    "  Dict,\n",
    "  List\n",
    ")\n",
    "from IPython.display import (\n",
    "  display,\n",
    "  display_jpeg,\n",
    "  Markdown\n",
    ")\n",
    "\n",
    "def to_markdown(text):\n",
    "  text = text.replace('•', '  *')\n",
    "  return Markdown(textwrap.indent(text, '> ', predicate=lambda _: True))"
   ]
  },
  {
   "cell_type": "code",
   "execution_count": 49,
   "metadata": {},
   "outputs": [],
   "source": [
    "dotenv.load_dotenv()\n",
    "api_key = os.environ.setdefault ('google_api_key', os.getenv('google_api_key'))\n",
    "genai.configure(api_key=api_key)"
   ]
  },
  {
   "cell_type": "code",
   "execution_count": 50,
   "metadata": {},
   "outputs": [],
   "source": [
    "model = genai.GenerativeModel(\n",
    "  model_name='models/gemini-1.5-pro'\n",
    ")"
   ]
  },
  {
   "cell_type": "code",
   "execution_count": 51,
   "metadata": {},
   "outputs": [],
   "source": [
    "messages = [\n",
    "  \"\"\"\n",
    "  Que es un LLM?\n",
    "  \"\"\",\n",
    "  \"\"\"\n",
    "  Un LLM es un modelo de aprendizaje profundo?\n",
    "  \"\"\"\n",
    "]"
   ]
  },
  {
   "cell_type": "code",
   "execution_count": 52,
   "metadata": {},
   "outputs": [],
   "source": [
    "response = model.generate_content(messages)\n",
    "response.resolve()"
   ]
  },
  {
   "cell_type": "code",
   "execution_count": 53,
   "metadata": {},
   "outputs": [
    {
     "data": {
      "text/markdown": [
       "> Un LLM, o Modelo de Lenguaje Grande (Large Language Model en inglés), es un modelo de aprendizaje automático que ha sido entrenado con cantidades masivas de datos de texto.  Son capaces de generar texto, traducir idiomas, escribir diferentes tipos de contenido creativo y responder a tus preguntas de forma informativa.\n",
       "> \n",
       "> Sí, un LLM **es** un tipo específico de modelo de aprendizaje profundo. Utiliza una arquitectura de red neuronal profunda, a menudo basada en transformadores, para procesar y generar lenguaje. La \"grandeza\" en LLM se refiere tanto a la gran cantidad de datos con los que se entrena como a la gran cantidad de parámetros que componen su arquitectura de red neuronal, lo que le permite aprender patrones y estructuras complejas en el lenguaje.\n"
      ],
      "text/plain": [
       "<IPython.core.display.Markdown object>"
      ]
     },
     "execution_count": 53,
     "metadata": {},
     "output_type": "execute_result"
    }
   ],
   "source": [
    "to_markdown(response.text)"
   ]
  },
  {
   "cell_type": "code",
   "execution_count": null,
   "metadata": {},
   "outputs": [
    {
     "data": {
      "text/plain": [
       "{'.pdf': ['d:\\\\Study\\\\- PROYECTOS\\\\python-code-vault\\\\main\\\\_data\\\\private\\\\documents\\\\experimental-functions.pdf',\n",
       "  'd:\\\\Study\\\\- PROYECTOS\\\\python-code-vault\\\\main\\\\_data\\\\private\\\\documents\\\\Martin George R R - Cancion De Hielo Y Fuego 01 - Juego de Tronos.pdf',\n",
       "  'd:\\\\Study\\\\- PROYECTOS\\\\python-code-vault\\\\main\\\\_data\\\\private\\\\documents\\\\results_02_acapulco.pdf'],\n",
       " '.jpg': ['d:\\\\Study\\\\- PROYECTOS\\\\python-code-vault\\\\main\\\\_data\\\\private\\\\img\\\\img_1.jpg']}"
      ]
     },
     "execution_count": 54,
     "metadata": {},
     "output_type": "execute_result"
    }
   ],
   "source": [
    "data_path_split = os.getcwd().split('\\\\')\n",
    "ROOT_PATH = \"\\\\\".join(data_path_split[:len(data_path_split)-2])\n",
    "DATA_PATH = ROOT_PATH + '\\\\_data\\\\private\\\\'\n",
    "\n",
    "# modificar: tiene 3 for \n",
    "def get_files (directory: str, fmt: List[str]):\n",
    "  dict_files:Dict = { f:[] for f in fmt }\n",
    "\n",
    "  for root,_,files in os.walk (directory):\n",
    "    for file in files:\n",
    "      for f in fmt:\n",
    "        if file.endswith(f):\n",
    "          dict_files[f].append(os.path.join(root,file))\n",
    "\n",
    "  return dict_files\n",
    "\n",
    "files = get_files(DATA_PATH, ['.pdf','.jpg'])\n",
    "files"
   ]
  },
  {
   "cell_type": "code",
   "execution_count": 56,
   "metadata": {},
   "outputs": [],
   "source": [
    "imgs = [\n",
    "  pillow.open( files.get('.jpg')[0] )\n",
    "]"
   ]
  },
  {
   "cell_type": "code",
   "execution_count": null,
   "metadata": {},
   "outputs": [],
   "source": [
    "# display img\n",
    "for i in imgs:\n",
    "  display_jpeg(i)"
   ]
  },
  {
   "cell_type": "code",
   "execution_count": 57,
   "metadata": {},
   "outputs": [],
   "source": [
    "messages = [\n",
    "  \"que nos dice cada imagen?\"\n",
    "]\n",
    "messages = messages + imgs"
   ]
  },
  {
   "cell_type": "code",
   "execution_count": 58,
   "metadata": {},
   "outputs": [],
   "source": [
    "response = model.generate_content( messages )\n",
    "response.resolve ()"
   ]
  },
  {
   "cell_type": "code",
   "execution_count": 59,
   "metadata": {},
   "outputs": [
    {
     "data": {
      "text/markdown": [
       "> La imagen representa una reunión futurista o un centro de control donde los participantes colaboran utilizando tecnología avanzada.  Aquí te doy un desglose de lo que sugiere la imagen:\n",
       "> \n",
       "> * **Visualización de datos:** Las pantallas muestran una variedad de gráficos, tablas y otros tipos de visualizaciones de datos, lo que indica un enfoque en el análisis y la toma de decisiones basadas en datos.\n",
       "> * **Colaboración:** Las personas están sentadas alrededor de una mesa circular, lo que sugiere un entorno colaborativo donde todos los participantes tienen igual acceso a la información y pueden contribuir a la discusión.\n",
       "> * **Tecnología holográfica:** Las figuras holográficas en el centro de la mesa sugieren el uso de tecnología avanzada para representar datos o información de una manera interactiva y tridimensional.  Podría ser una representación de datos demográficos, perfiles de clientes, o cualquier otra información relevante para la reunión.\n",
       "> * **Futurista:** El diseño general de la sala, con sus pantallas transparentes y la tecnología holográfica, crea una impresión futurista, lo que sugiere que la imagen representa una visión del futuro del trabajo y la colaboración.\n",
       "> * **Diversidad:** La imagen muestra una variedad de personas con diferentes etnias y géneros, lo que sugiere un ambiente de trabajo inclusivo y diverso.\n",
       "> * **Toma de decisiones:** La combinación de datos, colaboración y tecnología sugiere que este espacio está diseñado para facilitar la toma de decisiones informadas y estratégicas.\n",
       "> \n",
       "> En resumen, la imagen nos habla del potencial de la tecnología para transformar la forma en que trabajamos y colaboramos, utilizando la visualización de datos y la interacción holográfica para mejorar la toma de decisiones en un entorno diverso e inclusivo.\n"
      ],
      "text/plain": [
       "<IPython.core.display.Markdown object>"
      ]
     },
     "execution_count": 59,
     "metadata": {},
     "output_type": "execute_result"
    }
   ],
   "source": [
    "to_markdown(response.text)"
   ]
  },
  {
   "cell_type": "code",
   "execution_count": null,
   "metadata": {},
   "outputs": [],
   "source": []
  }
 ],
 "metadata": {
  "kernelspec": {
   "display_name": "Python 3",
   "language": "python",
   "name": "python3"
  },
  "language_info": {
   "codemirror_mode": {
    "name": "ipython",
    "version": 3
   },
   "file_extension": ".py",
   "mimetype": "text/x-python",
   "name": "python",
   "nbconvert_exporter": "python",
   "pygments_lexer": "ipython3",
   "version": "3.12.2"
  }
 },
 "nbformat": 4,
 "nbformat_minor": 2
}
