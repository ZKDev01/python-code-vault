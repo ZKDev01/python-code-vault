{
 "cells": [
  {
   "cell_type": "code",
   "execution_count": 1,
   "metadata": {},
   "outputs": [],
   "source": [
    "import numpy as np \n",
    "import matplotlib.pyplot as plt"
   ]
  },
  {
   "cell_type": "markdown",
   "metadata": {},
   "source": [
    "### Cumulative Distribution Function"
   ]
  },
  {
   "cell_type": "code",
   "execution_count": 2,
   "metadata": {},
   "outputs": [],
   "source": [
    "def show_ecdf(distribution):\n",
    "  n = len(distribution)\n",
    "  x = np.sort(distribution)\n",
    "  y = np.arange(1, n+1) / n\n",
    "\n",
    "  fig, ax = plt.subplots()\n",
    "  plt.plot(x, y)\n",
    "  plt.title('ECDF', size=14)\n",
    "  plt.xlabel('Samples')\n",
    "  plt.ylabel('Cumulative')\n",
    "  plt.axvline(0, color='#3793ef', linestyle='--')\n",
    "  plt.axhline(0.5, color='#3793ef', linestyle='--')\n",
    "  \n",
    "  return plt.show"
   ]
  },
  {
   "cell_type": "markdown",
   "metadata": {},
   "source": [
    "### Uniforme Distribution  "
   ]
  },
  {
   "cell_type": "code",
   "execution_count": null,
   "metadata": {},
   "outputs": [],
   "source": [
    "def show_uniform():\n",
    "  uniform = np.random.uniform(0, 6, size=1000)\n",
    "\n",
    "  fig, aux = plt.subplots()\n",
    "  plt.hist(uniform, density=True, bins=6)\n",
    "  plt.title('Uniform Distribution', size=14)\n",
    "  plt.xlabel('Samples')\n",
    "  plt.ylabel('Density')\n",
    "  plt.axhline(1/6, color='blue', linestyle='--')\n",
    "\n",
    "  return uniform, plt.show\n",
    "\n",
    "distribution, show = show_uniform()\n",
    "show()\n",
    "show = show_ecdf(distribution)\n",
    "show()"
   ]
  },
  {
   "cell_type": "code",
   "execution_count": null,
   "metadata": {},
   "outputs": [],
   "source": [
    "# binomial distribution \n",
    "def show_binomial():\n",
    "  binomial = np.random.binomial(10, 0.5, size=10000)\n",
    "\n",
    "  fig, aux = plt.subplots()\n",
    "  plt.hist(binomial, density=True, bins=11)\n",
    "  plt.title('Binomial Distribution', size=14)\n",
    "  plt.xlabel('Samples')\n",
    "  plt.ylabel('Density')\n",
    "  plt.axhline(10*0.5, color='blue', linestyle='--')\n",
    "  plt.axhline(0, color='red', linestyle='--')\n",
    "  plt.axhline(10, color='#3793ef', linestyle='--')\n",
    "  \n",
    "  return binomial, plt.show"
   ]
  },
  {
   "cell_type": "code",
   "execution_count": null,
   "metadata": {},
   "outputs": [],
   "source": [
    "# poisson distribution \n",
    "def show_poisson():\n",
    "  poisson = np.random.poisson(3, 10000)\n",
    "\n",
    "  fig, ax = plt.subplots()\n",
    "  plt.hist(poisson, density=True, bins=10)\n",
    "  plt.title('Poisson Distribution', size=14)\n",
    "  plt.xlabel('Samples')\n",
    "  plt.ylabel('Density')\n",
    "  plt.axvline(3, color='#3793ef', linestyle='--')\n",
    "  \n",
    "  return poisson, plt.show"
   ]
  },
  {
   "cell_type": "code",
   "execution_count": null,
   "metadata": {},
   "outputs": [],
   "source": [
    "\n",
    "# exponential distribution\n",
    "def show_exponential():\n",
    "  exponential = np.random.exponential(3, 10000)\n",
    "\n",
    "  fig, ax = plt.subplots()\n",
    "  plt.hist(exponential, density=True, bins=1000)\n",
    "  plt.title('Exponential Distribution', size=14)\n",
    "  plt.xlabel('Samples')\n",
    "  plt.ylabel('Density')\n",
    "  \n",
    "  return exponential, plt.show"
   ]
  },
  {
   "cell_type": "code",
   "execution_count": null,
   "metadata": {},
   "outputs": [],
   "source": [
    "# normal distribution\n",
    "def show_normal():\n",
    "  normal = np.random.normal(0, 1, size=10000)\n",
    "\n",
    "  fig, ax = plt.subplots()\n",
    "  plt.hist(normal, density=True, bins=50)\n",
    "  plt.title('Normal Distribution', size=14)\n",
    "  plt.xlabel('Samples')\n",
    "  plt.ylabel('Density')\n",
    "  plt.axvline(0, color='#3793ef', linestyle='--')\n",
    "  plt.axvline(np.std(normal), color='#3793ef', linestyle='--')\n",
    "  plt.axvline(-1*np.std(normal), color='#3793ef', linestyle='--')\n",
    "  \n",
    "  return normal, plt.show"
   ]
  }
 ],
 "metadata": {
  "kernelspec": {
   "display_name": "_env",
   "language": "python",
   "name": "python3"
  },
  "language_info": {
   "codemirror_mode": {
    "name": "ipython",
    "version": 3
   },
   "file_extension": ".py",
   "mimetype": "text/x-python",
   "name": "python",
   "nbconvert_exporter": "python",
   "pygments_lexer": "ipython3",
   "version": "3.10.12"
  }
 },
 "nbformat": 4,
 "nbformat_minor": 2
}
