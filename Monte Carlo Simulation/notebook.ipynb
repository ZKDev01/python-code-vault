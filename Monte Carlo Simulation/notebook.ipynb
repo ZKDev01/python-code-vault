{
 "cells": [
  {
   "cell_type": "code",
   "execution_count": 9,
   "metadata": {},
   "outputs": [],
   "source": [
    "import random\n",
    "\n",
    "def roll_dice(a: int, b: int):\n",
    "  if not (isinstance(a, int) and isinstance(b, int)):\n",
    "    raise Exception(\"Error con los parámetros\")\n",
    "  roll = random.randint(a, b)\n",
    "  return roll\n",
    "\n",
    "def simple_auto_roll_dice(funds, initial_wager, wager_count):\n",
    "  value = funds\n",
    "  wager = initial_wager\n",
    "\n",
    "  current = 0\n",
    "\n",
    "  def evaluate_random():\n",
    "    result = roll_dice(a=1,b=5)\n",
    "    return result == 5 or result == 4\n",
    "\n",
    "  while current < wager_count:\n",
    "    if evaluate_random():\n",
    "      value += wager\n",
    "    else:\n",
    "      value -= wager\n",
    "    \n",
    "    current += 1\n",
    "\n",
    "  return value"
   ]
  },
  {
   "cell_type": "code",
   "execution_count": 10,
   "metadata": {},
   "outputs": [
    {
     "data": {
      "text/plain": [
       "50"
      ]
     },
     "execution_count": 10,
     "metadata": {},
     "output_type": "execute_result"
    }
   ],
   "source": [
    "\n",
    "simple_auto_roll_dice(10, 10, 20)\n"
   ]
  }
 ],
 "metadata": {
  "kernelspec": {
   "display_name": "Python 3",
   "language": "python",
   "name": "python3"
  },
  "language_info": {
   "codemirror_mode": {
    "name": "ipython",
    "version": 3
   },
   "file_extension": ".py",
   "mimetype": "text/x-python",
   "name": "python",
   "nbconvert_exporter": "python",
   "pygments_lexer": "ipython3",
   "version": "3.12.2"
  }
 },
 "nbformat": 4,
 "nbformat_minor": 2
}
