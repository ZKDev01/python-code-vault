{
 "cells": [
  {
   "cell_type": "markdown",
   "metadata": {},
   "source": [
    "## Tipos de Datos en Machine Learning\n",
    "\n",
    "En ML, es importante entender los tipos de datos. Estos se dividen principalmente en: numéricos y categóricos. \n",
    "\n",
    "Cada tipo tiene sus propias características y métodos de procesamiento\n",
    "\n",
    "### Datos Numéricos\n",
    "\n",
    "**Definición**: Los datos numéricos representan cantidades medibles. Permiten operaciones matemáticas y comparaciones directas.\n",
    "\n",
    "**Ejemplos**: Incluyen altura, peso, temperatura, precios y cantidades de inventario.\n",
    "\n",
    "**Ventajas**: Facilitan cálculos estadísticos y son ideales para modelos matemáticos en aprendizaje automático.\n",
    "\n",
    "### Datos Categóricos \n",
    "\n",
    "Los datos categóricos se clasifican en *Nominales* y *Ordinales*\n",
    "\n",
    "#### Datos Categóricos Nominales \n",
    "\n",
    "- *Etiquetas*: Representan categorías sin orden jerárquico. No permiten comparaciones numéricas entre ellas\n",
    "- *Ejemplo*: El ejemplo clásico son los colores de camisetas. No hay un orden intrínseco entre ellos.\n",
    "- *Codificación*: Requieren técnicas especiales como codificación one-hot para su uso en modelos de ML\n",
    "\n",
    "#### Datos Categóricos Ordinales\n",
    "\n",
    "- *Orden natural*: Tienen un orden jerárquico inherente, aunque no representan cantidades exactas\n",
    "- *Ejemplos*: Tallas (las tallas de camisetas se pueden clasificar en S, M, L, XL)\n",
    "- *Aplicación*: Son útiles en modelos que requieren comparaciones relativas, como sistemas de recomendación."
   ]
  },
  {
   "cell_type": "markdown",
   "metadata": {},
   "source": [
    "### Coding: Preparación de Datos"
   ]
  },
  {
   "cell_type": "code",
   "execution_count": 14,
   "metadata": {},
   "outputs": [],
   "source": [
    "import numpy as np\n",
    "import pandas as pd\n",
    "from typing import Dict, List, Any "
   ]
  },
  {
   "cell_type": "code",
   "execution_count": 15,
   "metadata": {},
   "outputs": [
    {
     "data": {
      "text/html": [
       "<div>\n",
       "<style scoped>\n",
       "    .dataframe tbody tr th:only-of-type {\n",
       "        vertical-align: middle;\n",
       "    }\n",
       "\n",
       "    .dataframe tbody tr th {\n",
       "        vertical-align: top;\n",
       "    }\n",
       "\n",
       "    .dataframe thead th {\n",
       "        text-align: right;\n",
       "    }\n",
       "</style>\n",
       "<table border=\"1\" class=\"dataframe\">\n",
       "  <thead>\n",
       "    <tr style=\"text-align: right;\">\n",
       "      <th></th>\n",
       "      <th>color</th>\n",
       "      <th>tamaño</th>\n",
       "      <th>precio</th>\n",
       "      <th>etiqueta</th>\n",
       "    </tr>\n",
       "  </thead>\n",
       "  <tbody>\n",
       "    <tr>\n",
       "      <th>0</th>\n",
       "      <td>verde</td>\n",
       "      <td>M</td>\n",
       "      <td>10.1</td>\n",
       "      <td>clase2</td>\n",
       "    </tr>\n",
       "    <tr>\n",
       "      <th>1</th>\n",
       "      <td>rojo</td>\n",
       "      <td>L</td>\n",
       "      <td>13.5</td>\n",
       "      <td>clase1</td>\n",
       "    </tr>\n",
       "    <tr>\n",
       "      <th>2</th>\n",
       "      <td>azul</td>\n",
       "      <td>XL</td>\n",
       "      <td>15.3</td>\n",
       "      <td>clase2</td>\n",
       "    </tr>\n",
       "  </tbody>\n",
       "</table>\n",
       "</div>"
      ],
      "text/plain": [
       "   color tamaño  precio etiqueta\n",
       "0  verde      M    10.1   clase2\n",
       "1   rojo      L    13.5   clase1\n",
       "2   azul     XL    15.3   clase2"
      ]
     },
     "execution_count": 15,
     "metadata": {},
     "output_type": "execute_result"
    }
   ],
   "source": [
    "df:pd.DataFrame = pd.DataFrame ( [\n",
    "  ['verde', 'M',  10.1, 'clase2'],\n",
    "  ['rojo',  'L',  13.5, 'clase1'],\n",
    "  ['azul',  'XL', 15.3, 'clase2']\n",
    "] )\n",
    "df.columns = ['color','tamaño','precio','etiqueta']\n",
    "df"
   ]
  },
  {
   "cell_type": "markdown",
   "metadata": {},
   "source": [
    "### Mapeo de Datos Ordinales \n",
    "\n",
    "La preparación de datos es crucial en el ML. Una tarea común es convertir datos ordinales de tipo `string` a valores numéricos\n",
    "\n",
    "Esta conversión permite que los algoritmos interpreten correctamente las características. El método `map()` de `pandas` es ideal para esta tarea en `DataFrames`\n",
    "\n",
    "Python también ofrece un método `map()` más genérico para aplicar funciones a elementos iterables."
   ]
  },
  {
   "cell_type": "code",
   "execution_count": 16,
   "metadata": {},
   "outputs": [
    {
     "data": {
      "text/html": [
       "<div>\n",
       "<style scoped>\n",
       "    .dataframe tbody tr th:only-of-type {\n",
       "        vertical-align: middle;\n",
       "    }\n",
       "\n",
       "    .dataframe tbody tr th {\n",
       "        vertical-align: top;\n",
       "    }\n",
       "\n",
       "    .dataframe thead th {\n",
       "        text-align: right;\n",
       "    }\n",
       "</style>\n",
       "<table border=\"1\" class=\"dataframe\">\n",
       "  <thead>\n",
       "    <tr style=\"text-align: right;\">\n",
       "      <th></th>\n",
       "      <th>color</th>\n",
       "      <th>tamaño</th>\n",
       "      <th>precio</th>\n",
       "      <th>etiqueta</th>\n",
       "      <th>tamaño-map</th>\n",
       "    </tr>\n",
       "  </thead>\n",
       "  <tbody>\n",
       "    <tr>\n",
       "      <th>0</th>\n",
       "      <td>verde</td>\n",
       "      <td>M</td>\n",
       "      <td>10.1</td>\n",
       "      <td>clase2</td>\n",
       "      <td>1</td>\n",
       "    </tr>\n",
       "    <tr>\n",
       "      <th>1</th>\n",
       "      <td>rojo</td>\n",
       "      <td>L</td>\n",
       "      <td>13.5</td>\n",
       "      <td>clase1</td>\n",
       "      <td>2</td>\n",
       "    </tr>\n",
       "    <tr>\n",
       "      <th>2</th>\n",
       "      <td>azul</td>\n",
       "      <td>XL</td>\n",
       "      <td>15.3</td>\n",
       "      <td>clase2</td>\n",
       "      <td>3</td>\n",
       "    </tr>\n",
       "  </tbody>\n",
       "</table>\n",
       "</div>"
      ],
      "text/plain": [
       "   color tamaño  precio etiqueta  tamaño-map\n",
       "0  verde      M    10.1   clase2           1\n",
       "1   rojo      L    13.5   clase1           2\n",
       "2   azul     XL    15.3   clase2           3"
      ]
     },
     "execution_count": 16,
     "metadata": {},
     "output_type": "execute_result"
    }
   ],
   "source": [
    "# definicion manual de una asignacion\n",
    "## definimos un diccionario que asigna a cada valor ordinal de la columna tamaño un valor numerico\n",
    "dict_tam = {\n",
    "  'XL' : 3,\n",
    "  'L'  : 2,\n",
    "  'M'  : 1\n",
    "}\n",
    "df['tamaño-map'] = df['tamaño'].map( dict_tam )\n",
    "df"
   ]
  },
  {
   "cell_type": "markdown",
   "metadata": {},
   "source": [
    "### Conversión Numérica en Redes Neuronales\n",
    "\n",
    "Las redes neuronales requieren datos numéricos para su funcionamiento. Esto se debe a sus operaciones matemáticas complejas. \n",
    "\n",
    "La conversión de datos categóricos a numéricos es esencial. El método `map()` juega un papel crucial en este proceso.\n",
    "\n",
    "Esta transformación permite que las redes procesen eficazmente todo tipo de información, sea ordinal o nominal."
   ]
  },
  {
   "cell_type": "markdown",
   "metadata": {},
   "source": [
    "### Inversión de Datos Numéricos a Categóricos Ordinales\n",
    "\n",
    "La conversión de datos numéricos a categóricos ordinales en `pandas` requiere un proceso inverso. Este método utiliza un diccionario de mapeo inverso. \n",
    "\n",
    "El diccionario invertido se aplica a la columna específica del `DataFrame` mediante el método `map` de `pandas`. Este enfoque es crucial para recuperar los valores originales.\n",
    "\n",
    "Esta técnica es especialmente útil en análisis de datos y aprendizaje automático, donde la interpretabilidad de los datos es fundamental."
   ]
  },
  {
   "cell_type": "code",
   "execution_count": 17,
   "metadata": {},
   "outputs": [],
   "source": [
    "dict_tam_inv = { v:k for k,v in dict_tam.items() }\n",
    "# df['tamaño'].map( dict_tam_inv )"
   ]
  },
  {
   "cell_type": "markdown",
   "metadata": {},
   "source": [
    "### Codificación Numérica de Etiquetas de Clase\n",
    "\n",
    "Los datasets para ML a menudo incluyen etiquetas de clase textuales. Sin embargo, las librerías requieren que estas etiquetas se codifiquen numéricamente.\n",
    "\n",
    "Aunque algunos estimadores realizan esta conversión internamente, es una buena práctica proporcionar etiquetas ya codificadas para evitar problemas técnicos.\n",
    "\n",
    "### Proceso de Transformación de Etiquetas\n",
    "\n",
    "1. *Identificación de Etiquetas*: Se analizan las etiquetas de clase presentes en el dataset, identificando todas las categorías únicas. \n",
    "2. *Asignación Numérica*: Se asigna un número entero único a cada etiqueta, generalmente comenzando desde cero\n",
    "3. *Mapeo*: Se crea un diccionario de mapeo que relaciona cada etiqueta textual con su correspondiente valor numérico\n",
    "4. *Transformación*: Se aplica el mapeo al dataset, reemplazando las etiquetas textuales por sus equivalentes numéricos\n",
    "\n",
    "> Las etiquetas de clase suelen ser de tipo categórico nominal"
   ]
  },
  {
   "cell_type": "code",
   "execution_count": 18,
   "metadata": {},
   "outputs": [
    {
     "data": {
      "text/plain": [
       "{'clase1': 0, 'clase2': 1}"
      ]
     },
     "execution_count": 18,
     "metadata": {},
     "output_type": "execute_result"
    }
   ],
   "source": [
    "# creacion automatica de un diccionario de asignacion para convertir \n",
    "# una columna de strings a numeros enteros\n",
    "dict_column_etiqueta = {label:idx for idx,label in enumerate(np.unique(df['etiqueta']))}\n",
    "dict_column_etiqueta"
   ]
  },
  {
   "cell_type": "code",
   "execution_count": 20,
   "metadata": {},
   "outputs": [
    {
     "data": {
      "text/html": [
       "<div>\n",
       "<style scoped>\n",
       "    .dataframe tbody tr th:only-of-type {\n",
       "        vertical-align: middle;\n",
       "    }\n",
       "\n",
       "    .dataframe tbody tr th {\n",
       "        vertical-align: top;\n",
       "    }\n",
       "\n",
       "    .dataframe thead th {\n",
       "        text-align: right;\n",
       "    }\n",
       "</style>\n",
       "<table border=\"1\" class=\"dataframe\">\n",
       "  <thead>\n",
       "    <tr style=\"text-align: right;\">\n",
       "      <th></th>\n",
       "      <th>color</th>\n",
       "      <th>tamaño</th>\n",
       "      <th>precio</th>\n",
       "      <th>etiqueta</th>\n",
       "      <th>tamaño-map</th>\n",
       "      <th>etiqueta-map</th>\n",
       "    </tr>\n",
       "  </thead>\n",
       "  <tbody>\n",
       "    <tr>\n",
       "      <th>0</th>\n",
       "      <td>verde</td>\n",
       "      <td>M</td>\n",
       "      <td>10.1</td>\n",
       "      <td>clase2</td>\n",
       "      <td>1</td>\n",
       "      <td>1</td>\n",
       "    </tr>\n",
       "    <tr>\n",
       "      <th>1</th>\n",
       "      <td>rojo</td>\n",
       "      <td>L</td>\n",
       "      <td>13.5</td>\n",
       "      <td>clase1</td>\n",
       "      <td>2</td>\n",
       "      <td>0</td>\n",
       "    </tr>\n",
       "    <tr>\n",
       "      <th>2</th>\n",
       "      <td>azul</td>\n",
       "      <td>XL</td>\n",
       "      <td>15.3</td>\n",
       "      <td>clase2</td>\n",
       "      <td>3</td>\n",
       "      <td>1</td>\n",
       "    </tr>\n",
       "  </tbody>\n",
       "</table>\n",
       "</div>"
      ],
      "text/plain": [
       "   color tamaño  precio etiqueta  tamaño-map  etiqueta-map\n",
       "0  verde      M    10.1   clase2           1             1\n",
       "1   rojo      L    13.5   clase1           2             0\n",
       "2   azul     XL    15.3   clase2           3             1"
      ]
     },
     "execution_count": 20,
     "metadata": {},
     "output_type": "execute_result"
    }
   ],
   "source": [
    "df['etiqueta-map'] = df['etiqueta'].map( dict_column_etiqueta )\n",
    "df"
   ]
  },
  {
   "cell_type": "markdown",
   "metadata": {},
   "source": [
    "Ahora vamos a mostrar lo anterior, pero con una alternativa `sklearn`"
   ]
  },
  {
   "cell_type": "code",
   "execution_count": 21,
   "metadata": {},
   "outputs": [
    {
     "data": {
      "text/plain": [
       "array([1, 0, 1])"
      ]
     },
     "execution_count": 21,
     "metadata": {},
     "output_type": "execute_result"
    }
   ],
   "source": [
    "from sklearn.preprocessing import LabelEncoder\n",
    "\n",
    "# codificacion de etiquetas con LabelEncoder de sklearn\n",
    "label_encoder = LabelEncoder ()\n",
    "y = label_encoder.fit_transform (df['etiqueta'].values)\n",
    "y "
   ]
  },
  {
   "cell_type": "code",
   "execution_count": 22,
   "metadata": {},
   "outputs": [
    {
     "data": {
      "text/plain": [
       "array(['clase2', 'clase1', 'clase2'], dtype=object)"
      ]
     },
     "execution_count": 22,
     "metadata": {},
     "output_type": "execute_result"
    }
   ],
   "source": [
    "# inversa \n",
    "label_encoder.inverse_transform (y)"
   ]
  },
  {
   "cell_type": "code",
   "execution_count": 24,
   "metadata": {},
   "outputs": [
    {
     "data": {
      "text/html": [
       "<div>\n",
       "<style scoped>\n",
       "    .dataframe tbody tr th:only-of-type {\n",
       "        vertical-align: middle;\n",
       "    }\n",
       "\n",
       "    .dataframe tbody tr th {\n",
       "        vertical-align: top;\n",
       "    }\n",
       "\n",
       "    .dataframe thead th {\n",
       "        text-align: right;\n",
       "    }\n",
       "</style>\n",
       "<table border=\"1\" class=\"dataframe\">\n",
       "  <thead>\n",
       "    <tr style=\"text-align: right;\">\n",
       "      <th></th>\n",
       "      <th>color</th>\n",
       "      <th>tamaño</th>\n",
       "      <th>precio</th>\n",
       "      <th>etiqueta</th>\n",
       "      <th>tamaño-map</th>\n",
       "      <th>etiqueta-map</th>\n",
       "      <th>etiqueta-encoder</th>\n",
       "    </tr>\n",
       "  </thead>\n",
       "  <tbody>\n",
       "    <tr>\n",
       "      <th>0</th>\n",
       "      <td>verde</td>\n",
       "      <td>M</td>\n",
       "      <td>10.1</td>\n",
       "      <td>clase2</td>\n",
       "      <td>1</td>\n",
       "      <td>1</td>\n",
       "      <td>1</td>\n",
       "    </tr>\n",
       "    <tr>\n",
       "      <th>1</th>\n",
       "      <td>rojo</td>\n",
       "      <td>L</td>\n",
       "      <td>13.5</td>\n",
       "      <td>clase1</td>\n",
       "      <td>2</td>\n",
       "      <td>0</td>\n",
       "      <td>0</td>\n",
       "    </tr>\n",
       "    <tr>\n",
       "      <th>2</th>\n",
       "      <td>azul</td>\n",
       "      <td>XL</td>\n",
       "      <td>15.3</td>\n",
       "      <td>clase2</td>\n",
       "      <td>3</td>\n",
       "      <td>1</td>\n",
       "      <td>1</td>\n",
       "    </tr>\n",
       "  </tbody>\n",
       "</table>\n",
       "</div>"
      ],
      "text/plain": [
       "   color tamaño  precio etiqueta  tamaño-map  etiqueta-map  etiqueta-encoder\n",
       "0  verde      M    10.1   clase2           1             1                 1\n",
       "1   rojo      L    13.5   clase1           2             0                 0\n",
       "2   azul     XL    15.3   clase2           3             1                 1"
      ]
     },
     "execution_count": 24,
     "metadata": {},
     "output_type": "execute_result"
    }
   ],
   "source": [
    "df['etiqueta-encoder'] = y\n",
    "df"
   ]
  }
 ],
 "metadata": {
  "kernelspec": {
   "display_name": "Python 3",
   "language": "python",
   "name": "python3"
  },
  "language_info": {
   "codemirror_mode": {
    "name": "ipython",
    "version": 3
   },
   "file_extension": ".py",
   "mimetype": "text/x-python",
   "name": "python",
   "nbconvert_exporter": "python",
   "pygments_lexer": "ipython3",
   "version": "3.12.2"
  }
 },
 "nbformat": 4,
 "nbformat_minor": 2
}
