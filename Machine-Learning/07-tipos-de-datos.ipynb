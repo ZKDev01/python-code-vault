{
 "cells": [
  {
   "cell_type": "markdown",
   "metadata": {},
   "source": [
    "## Convirtiendo Datos Categóricos a Numéricos para ML\n",
    "\n",
    "La conversión de datos categóricos a numéricos es crucial en el ML. Existen diferentes métodos según el tipo de datos categóricos: ordinales o nominales. Esta transformación es esencial para que los algoritmos puedan procesar la información correctamente.\n",
    "\n",
    "**Métodos de Codificación para Datos Categóricos**\n",
    "\n",
    "1. *Datos Ordinales*: se utiliza el método `map()` de `pandas`. Este transforma los datos según un diccionario predefinido, manteniendo el orden jerárquico. \n",
    "2. *Datos Nominales (etiquetas)*: se usa `LabelEncoder` de `scikit-learn`. Este codifica las etiquetas string como enteros, sin implicar orden\n",
    "3. *Datos Nominales (característica)*: se recomienda el uso de técnicas como **one-hot encoding**. Esto crea columnas binarias para cada categoría  "
   ]
  },
  {
   "cell_type": "markdown",
   "metadata": {},
   "source": [
    "### Coding: LabelEncoder"
   ]
  },
  {
   "cell_type": "code",
   "execution_count": 3,
   "metadata": {},
   "outputs": [
    {
     "data": {
      "text/plain": [
       "array([[2, 'M', 10.1],\n",
       "       [1, 'L', 13.5],\n",
       "       [0, 'XL', 15.3]], dtype=object)"
      ]
     },
     "execution_count": 3,
     "metadata": {},
     "output_type": "execute_result"
    }
   ],
   "source": [
    "import pandas as pd\n",
    "from sklearn.preprocessing import LabelEncoder\n",
    "\n",
    "df:pd.DataFrame = pd.DataFrame ( [\n",
    "  ['verde', 'M',  10.1, 'clase2'],\n",
    "  ['rojo',  'L',  13.5, 'clase1'],\n",
    "  ['azul',  'XL', 15.3, 'clase2']\n",
    "] )\n",
    "df.columns = ['color','tamaño','precio','etiqueta']\n",
    "x = df[ ['color','tamaño','precio'] ].values\n",
    "label_encoder_color = LabelEncoder ()\n",
    "x[:,0] = label_encoder_color.fit_transform (x[:,0])\n",
    "x"
   ]
  },
  {
   "cell_type": "markdown",
   "metadata": {},
   "source": [
    "> El método `fit_transform` de `LabelEncoder` aprende cuales son las categorías únicas en las celdas indicadas y le asigna a cada categoría un valor numérico empezando desde cero, siempre en orden alfabético. Nunca usar `LabelEncoder` para convertir valores categóricos ordinales a numéricos, pero tampoco categóricos nominales de características a numéricos"
   ]
  },
  {
   "cell_type": "markdown",
   "metadata": {},
   "source": [
    "### El Problma de los Datos Categóricos\n",
    "\n",
    "**Limitaciones de los Datos Categóricos**: Los algoritmos de ML generalmente requieren datos numéricos. Los datos categóricos nominales no tienen un orden inherente\n",
    "\n",
    "**Necesidad de Transformación**: es crucial convertir datos categóricos a un formato numérico para su uso en modelos de ML\n",
    "\n",
    "**Ejemplo**: Columna de Colores (una columna con valores como azul, verde y rojo, no puede utilizarse directamente en muchos algoritmos)\n",
    "\n",
    "### Codificación One-Hot para Datos Categóricos Nominales\n",
    "\n",
    "La codificación one-hot es una técnica en el ML. Se utiliza para transformar datos categóricos nominales en un formato numérico utilizable por algoritmos de ML. \n",
    "\n",
    "**Concepto de Codificación One-Hot**:\n",
    "\n",
    "1. *Identificación de Categorías Únicas*: Se identifican todos los valores únicos en la columna categórica. Cada valor se convierte en una nueva característica\n",
    "2. *Creación de Columnas Binarias*: Se crea una nueva columna para cada categoría única. Estas columnas contendrán valores binarios (0 o 1)\n",
    "3. *Asignación de Valores*: Se asigna un 1 a la columna correspondiente a la categoría presente, y 0 a las demás"
   ]
  }
 ],
 "metadata": {
  "kernelspec": {
   "display_name": "Python 3",
   "language": "python",
   "name": "python3"
  },
  "language_info": {
   "codemirror_mode": {
    "name": "ipython",
    "version": 3
   },
   "file_extension": ".py",
   "mimetype": "text/x-python",
   "name": "python",
   "nbconvert_exporter": "python",
   "pygments_lexer": "ipython3",
   "version": "3.12.2"
  }
 },
 "nbformat": 4,
 "nbformat_minor": 2
}
