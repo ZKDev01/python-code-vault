{
 "cells": [
  {
   "cell_type": "code",
   "execution_count": 2,
   "metadata": {},
   "outputs": [],
   "source": [
    "DATA = \"database/data.csv\""
   ]
  },
  {
   "cell_type": "markdown",
   "metadata": {},
   "source": [
    "## FAQ\n",
    "\n",
    "> **¿Qué es un archivo `csv`?**\n",
    "> \n",
    "> Un archivo csv (Comma-Separated Values) es un tipo de archivo de texto plano que almacena datos tabulares, es decir, datos dispuestos en filas y columnas. Cada fila en el archivo representa un registro o una fila de datos, y cada columna representa un campo o característica de los datos. Los valores en cada fila están separados por comas, de ahí el nombre \"Comma-Separated Values\". Este formato es ampliamente utilizado para el intercambio de datos entre diferentes sistemas y aplicaciones debido a su simplicidad y compatibilidad con una amplia gama de software, incluyendo hojas de cálculo como Microsoft Excel y programas de análisis de datos como Python con la biblioteca Pandas.\n",
    "> \n",
    "> Los archivos csv son especialmente útiles en el campo de la ciencia de datos y el análisis de datos porque permiten una fácil importación y exportación de datos para su procesamiento y análisis. Por ejemplo, en Python, la biblioteca Pandas proporciona la función read_csv() para leer archivos csv y convertirlos en DataFrames, que son estructuras de datos bidimensionales que permiten el manejo y análisis de datos de manera eficiente.\n",
    "\n"
   ]
  },
  {
   "cell_type": "markdown",
   "metadata": {},
   "source": [
    "## Explicación del código\n",
    "Se utiliza `read_csv()` de `pandas` para leer el archivo CSV. El argumento `header=0` indica que la primera fila del archivo CSV contiene los nombres de las columnas. El argumento `,` especifica que las columnas están separadas\n",
    "\n",
    "## Función `describe()` de `pandas`\n",
    "Genera estadísticas descriptivas de las columnas numéricas en un DataFrame. Cuando se aplica a un DataFrame que se ha creado a partir de un archivo CSV utilizando `read_csv()`, proporciona un resumen estadístico de las columnas numéricas, incluyendo el conteo, la media, la desviación estándar, los valores mínimos y máximos, y los cuartiles\n",
    "\n",
    "## Explicación del resultado\n",
    "`count` $\\to$ significa la cantidad de datos \n",
    "\n",
    "`mean` $\\to$ media\n",
    "\n",
    "`std` $\\to$ desviación estándar\n",
    "\n",
    "`min` $\\to$ valor mínimo\n",
    "\n",
    "`max` $\\to$ valor máximo\n",
    "\n",
    "`25%` $\\to$ valor de la posición del primer cuartil \n",
    "\n",
    "`50%` $\\to$ valor de la posición del segundo cuartil o mediana \n",
    "\n",
    "`75%` $\\to$ valor de la posición del tercer cuartil "
   ]
  },
  {
   "cell_type": "code",
   "execution_count": 3,
   "metadata": {},
   "outputs": [
    {
     "name": "stdout",
     "output_type": "stream",
     "text": [
      "         Duration  Average_Pulse   Max_Pulse  Calorie_Burnage  Hours_Work  \\\n",
      "count  163.000000     163.000000  163.000000       163.000000  163.000000   \n",
      "mean    64.263804     107.723926  134.226994       382.368098    4.386503   \n",
      "std     42.994520      14.625062   16.403967       274.227106    3.923772   \n",
      "min     15.000000      80.000000  100.000000        50.000000    0.000000   \n",
      "25%     45.000000     100.000000  124.000000       256.500000    0.000000   \n",
      "50%     60.000000     105.000000  131.000000       320.000000    5.000000   \n",
      "75%     60.000000     111.000000  141.000000       388.500000    8.000000   \n",
      "max    300.000000     159.000000  184.000000      1860.000000   11.000000   \n",
      "\n",
      "       Hours_Sleep  \n",
      "count   163.000000  \n",
      "mean      7.680982  \n",
      "std       0.663934  \n",
      "min       5.000000  \n",
      "25%       7.500000  \n",
      "50%       8.000000  \n",
      "75%       8.000000  \n",
      "max      12.000000  \n"
     ]
    }
   ],
   "source": [
    "import pandas as pd\n",
    "\n",
    "full_health_data = pd.read_csv(DATA, header=0, sep=\",\")\n",
    "\n",
    "pd.set_option('display.max_columns',None)\n",
    "pd.set_option('display.max_rows',None)\n",
    "\n",
    "print (full_health_data.describe())"
   ]
  },
  {
   "cell_type": "markdown",
   "metadata": {},
   "source": [
    "## Cuartiles y Percentiles\n",
    "Se utilizan para describir la posición de un dato específico con respecto al resto de los datos cuando están en orden por categorías\n",
    "\n",
    "- El primer cuartil es el valor por debajo del cual se encuentra el 25% de los datos. Indica el valor más bajo que no es menor que el 25% de los datos. \n",
    "- El segundo cuartil o mediana es el valor central de un conjunto de datos\n",
    "- El tercer cuartil es el valor por debajo del cual se encuentra el 75% de los datos. Específicamente, indica el valor más bajo que no es menor que el 75% de los datos\n",
    "\n",
    "Los percentiles son puntos que dividen un conjunto de datos en 100 partes iguales. Cada percentil representa el valor por debajo del cual se encuentra un porcentaje específico de los datos. \n",
    "\n",
    "## Explicación del código\n",
    "Aquí lo que sucede es que coge la columna \"Max_Pulse\" y calcula el 10%. Osea, calcula el percentil 10% de la columna. \n",
    "\n",
    "> Para calcular el percentil es ordenar los valores de la tabla y coger el valor que se encuentra en la posición que cae al calcular el porciento"
   ]
  },
  {
   "cell_type": "code",
   "execution_count": 3,
   "metadata": {},
   "outputs": [
    {
     "name": "stdout",
     "output_type": "stream",
     "text": [
      "120.0\n"
     ]
    }
   ],
   "source": [
    "import pandas as pd\n",
    "import numpy as np\n",
    "\n",
    "full_health_data = pd.read_csv(DATA, header=0, sep=\",\")\n",
    "\n",
    "Max_Pulse= full_health_data[\"Max_Pulse\"]\n",
    "percentile10 = np.percentile(Max_Pulse, 10)\n",
    "\n",
    "print(percentile10)"
   ]
  },
  {
   "cell_type": "markdown",
   "metadata": {},
   "source": [
    "## Desviación estándar \n",
    "Es un número que describe cuán dispersas están las observaciones"
   ]
  },
  {
   "cell_type": "code",
   "execution_count": 4,
   "metadata": {},
   "outputs": [
    {
     "name": "stdout",
     "output_type": "stream",
     "text": [
      "Duration            42.862432\n",
      "Average_Pulse       14.580131\n",
      "Max_Pulse           16.353571\n",
      "Calorie_Burnage    273.384624\n",
      "Hours_Work           3.911718\n",
      "Hours_Sleep          0.661895\n",
      "dtype: float64\n"
     ]
    }
   ],
   "source": [
    "import pandas as pd\n",
    "import numpy as np\n",
    "\n",
    "full_health_data = pd.read_csv(DATA, header=0, sep=\",\")\n",
    "\n",
    "std = np.std(full_health_data, axis=0)\n",
    "\n",
    "print(std)"
   ]
  },
  {
   "cell_type": "markdown",
   "metadata": {},
   "source": [
    "## Coeficiente de Variación\n",
    "Se utiliza para tener una idea de qué tan grande es la desviación estándar. El coeficiente de variación se expresa en porcentaje y proporciona una medida de cuánto varína los datos en una relación con su media. \n",
    "\n",
    "Este se calcula con: $cv = std/mean$ "
   ]
  },
  {
   "cell_type": "code",
   "execution_count": 5,
   "metadata": {},
   "outputs": [
    {
     "name": "stdout",
     "output_type": "stream",
     "text": [
      "Duration           0.367051\n",
      "Average_Pulse      0.124857\n",
      "Max_Pulse          0.140043\n",
      "Calorie_Burnage    2.341122\n",
      "Hours_Work         0.033498\n",
      "Hours_Sleep        0.005668\n",
      "dtype: float64\n"
     ]
    }
   ],
   "source": [
    "import pandas as pd\n",
    "import numpy as np\n",
    "\n",
    "full_health_data = pd.read_csv(DATA, header=0, sep=\",\")\n",
    "\n",
    "cv = np.std(full_health_data, axis=0) / np.mean(full_health_data)\n",
    "\n",
    "print(cv)"
   ]
  },
  {
   "cell_type": "markdown",
   "metadata": {},
   "source": [
    "## Varianza\n",
    "Valor numérico que indica qué tan dispersos están los valores. Si tomas la raíz cuadrada de la varianza se obtiene la desviación estándar. \n",
    "\n",
    "**Pasos para calcular la varianza**\n",
    "1. Calcular la media \n",
    "2. Por cada valor encontrar calcular la diferencia de la media ($value - mean$)\n",
    "3. Para cada diferencia, elevar al cuadrado \n",
    "4. La varianza sería el resultado de buscar el promedio de estos datos elevados al cuadrado"
   ]
  },
  {
   "cell_type": "code",
   "execution_count": 6,
   "metadata": {},
   "outputs": [
    {
     "name": "stdout",
     "output_type": "stream",
     "text": [
      "Duration            1837.188076\n",
      "Average_Pulse        212.580225\n",
      "Max_Pulse            267.439271\n",
      "Calorie_Burnage    74739.152847\n",
      "Hours_Work            15.301536\n",
      "Hours_Sleep            0.438105\n",
      "dtype: float64\n"
     ]
    }
   ],
   "source": [
    "import pandas as pd\n",
    "import numpy as np\n",
    "\n",
    "full_health_data = pd.read_csv(DATA, header=0, sep=\",\")\n",
    "\n",
    "var = np.var(full_health_data, axis=0)\n",
    "\n",
    "print(var)"
   ]
  },
  {
   "cell_type": "markdown",
   "metadata": {},
   "source": [
    "## Correlación \n",
    "La correlación mide la relación entre dos variables. Una función tiene el propósito de predecir un valor, convirtiendo la entrada `x` en salida `f(x)`. También se puede decir que una función utiliza la relación entre dos variables para la predicción. "
   ]
  },
  {
   "cell_type": "code",
   "execution_count": 7,
   "metadata": {},
   "outputs": [
    {
     "data": {
      "image/png": "[encoded data removed]",
      "text/plain": [
       "<IPython.core.display.Image object>"
      ]
     },
     "execution_count": 7,
     "metadata": {},
     "output_type": "execute_result"
    }
   ],
   "source": [
    "import matplotlib\n",
    "matplotlib.use('TkAgg')\n",
    "import tempfile\n",
    "import pandas as pd\n",
    "import matplotlib.pyplot as plt\n",
    "\n",
    "full_health_data = pd.read_csv(DATA, header=0, sep=\",\")\n",
    "full_health_data.plot(x ='Duration', y='Max_Pulse', kind='scatter')\n",
    "\n",
    "temp_file = tempfile.NamedTemporaryFile(suffix='.png', delete=False)\n",
    "plt.savefig(temp_file.name)\n",
    "\n",
    "from IPython.display import Image\n",
    "Image(filename=temp_file.name)"
   ]
  },
  {
   "cell_type": "markdown",
   "metadata": {},
   "source": [
    "## Matriz de Correlación \n",
    "Una matriz de correlación es simplemente una tabla que muestra los coeficientes de correlación entre las variables."
   ]
  },
  {
   "cell_type": "code",
   "execution_count": 9,
   "metadata": {},
   "outputs": [
    {
     "name": "stdout",
     "output_type": "stream",
     "text": [
      "                 Duration  Average_Pulse  Max_Pulse  Calorie_Burnage  \\\n",
      "Duration             1.00          -0.17       0.00             0.89   \n",
      "Average_Pulse       -0.17           1.00       0.79             0.02   \n",
      "Max_Pulse            0.00           0.79       1.00             0.20   \n",
      "Calorie_Burnage      0.89           0.02       0.20             1.00   \n",
      "Hours_Work          -0.12          -0.28      -0.27            -0.14   \n",
      "Hours_Sleep          0.07           0.03       0.09             0.08   \n",
      "\n",
      "                 Hours_Work  Hours_Sleep  \n",
      "Duration              -0.12         0.07  \n",
      "Average_Pulse         -0.28         0.03  \n",
      "Max_Pulse             -0.27         0.09  \n",
      "Calorie_Burnage       -0.14         0.08  \n",
      "Hours_Work             1.00        -0.14  \n",
      "Hours_Sleep           -0.14         1.00  \n"
     ]
    }
   ],
   "source": [
    "import pandas as pd\n",
    "\n",
    "full_health_data = pd.read_csv(DATA, header=0, sep=\",\")\n",
    "\n",
    "Corr_Matrix = round(full_health_data.corr(),2)\n",
    "print(Corr_Matrix)"
   ]
  },
  {
   "cell_type": "code",
   "execution_count": 11,
   "metadata": {},
   "outputs": [
    {
     "data": {
      "image/png": "[encoded data removed]",
      "text/plain": [
       "<IPython.core.display.Image object>"
      ]
     },
     "execution_count": 11,
     "metadata": {},
     "output_type": "execute_result"
    }
   ],
   "source": [
    "import matplotlib\n",
    "matplotlib.use('TkAgg')\n",
    "import tempfile\n",
    "\n",
    "import pandas as pd\n",
    "import matplotlib.pyplot as plt\n",
    "import seaborn as sns\n",
    "\n",
    "full_health_data = pd.read_csv(DATA, header=0, sep=\",\")\n",
    "correlation_full_health = full_health_data.corr()\n",
    "\n",
    "axis_corr = sns.heatmap(\n",
    "correlation_full_health,\n",
    "vmin=-1, vmax=1, center=0,\n",
    "cmap=sns.diverging_palette(50, 500, n=500),\n",
    "square=True\n",
    ")\n",
    "\n",
    "temp_file = tempfile.NamedTemporaryFile(suffix='.png', delete=False)\n",
    "plt.savefig(temp_file.name)\n",
    "\n",
    "from IPython.display import Image\n",
    "Image(filename=temp_file.name)"
   ]
  }
 ],
 "metadata": {
  "kernelspec": {
   "display_name": "Python 3",
   "language": "python",
   "name": "python3"
  },
  "language_info": {
   "codemirror_mode": {
    "name": "ipython",
    "version": 3
   },
   "file_extension": ".py",
   "mimetype": "text/x-python",
   "name": "python",
   "nbconvert_exporter": "python",
   "pygments_lexer": "ipython3",
   "version": "3.12.2"
  }
 },
 "nbformat": 4,
 "nbformat_minor": 2
}
