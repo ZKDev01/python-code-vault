{
 "cells": [
  {
   "cell_type": "markdown",
   "metadata": {},
   "source": [
    "# Problema de Optimización: Programación no Lineal\n",
    "\n",
    "Código para hallar las variables $x_1, x_2$ de un problema de programación no lineal:\n",
    "\n",
    "$$\\max f = -2x_1^2 - x_2^2 + 3x_1x_2$$\n",
    "s.a\n",
    "\n",
    "- $2x_1 - x_2 \\geq -1$\n",
    "- $x_1x_2 \\leq 1$\n",
    "- $x_1^2 x_2 + x_1x_2^2 = 2$\n",
    "\n",
    "Pero para encontrar los valores, debemos convertirlo a un programa general de optimización\n",
    "\n",
    "$$\\min f = 2x_2^2 + x_2^2 - 3x_1x_2$$\n",
    "\n",
    "- $2x_1 - x_2 + 1 \\geq 0$\n",
    "- $-x_1x_2 + 1 \\geq 0$\n",
    "- $x_1^2x_2 + x_1x_2^2 - 2 = 0$\n"
   ]
  },
  {
   "cell_type": "code",
   "execution_count": 1,
   "metadata": {},
   "outputs": [],
   "source": [
    "import numpy as np\n",
    "from scipy.optimize import minimize"
   ]
  },
  {
   "cell_type": "code",
   "execution_count": 4,
   "metadata": {},
   "outputs": [],
   "source": [
    "def target_function(x):\n",
    "  x1=x[0]\n",
    "  x2=x[1]\n",
    "  return 2*(x1**2) + (x2**2) - 3*x1*x2"
   ]
  },
  {
   "cell_type": "code",
   "execution_count": 5,
   "metadata": {},
   "outputs": [],
   "source": [
    "def restriction_1(x):\n",
    "  x1=x[0]\n",
    "  x2=x[1]\n",
    "  return 2*x1 - x2 + 1\n",
    "\n",
    "def restriction_2(x):\n",
    "  x1=x[0]\n",
    "  x2=x[1]\n",
    "  return -x1*x2 + 1\n",
    "\n",
    "def restriction_3(x):\n",
    "  x1=x[0]\n",
    "  x2=x[1]\n",
    "  return (x1**2)*x2 + x1*(x2**2) - 2"
   ]
  },
  {
   "cell_type": "code",
   "execution_count": 6,
   "metadata": {},
   "outputs": [],
   "source": [
    "rest1 = {\n",
    "  'type': 'ineq', \n",
    "  'fun': restriction_1\n",
    "}\n",
    "rest2 = {\n",
    "  'type': 'ineq', \n",
    "  'fun': restriction_2\n",
    "}\n",
    "rest3 = {\n",
    "  'type': 'eq', \n",
    "  'fun': restriction_3\n",
    "}\n",
    "rest=[rest1,rest2,rest3]"
   ]
  },
  {
   "cell_type": "code",
   "execution_count": 8,
   "metadata": {},
   "outputs": [
    {
     "name": "stdout",
     "output_type": "stream",
     "text": [
      "           message: `gtol` termination condition is satisfied.\n",
      "           success: True\n",
      "            status: 1\n",
      "               fun: -0.1698892236215337\n",
      "                 x: [ 8.382e-01  1.181e+00]\n",
      "               nit: 20\n",
      "              nfev: 36\n",
      "              njev: 12\n",
      "              nhev: 0\n",
      "          cg_niter: 11\n",
      "      cg_stop_cond: 1\n",
      "              grad: [-1.912e-01 -1.519e-01]\n",
      "   lagrangian_grad: [-2.876e-09  3.619e-09]\n",
      "            constr: [array([ 1.495e+00]), array([ 9.717e-03]), array([-2.122e-12])]\n",
      "               jac: [array([[ 2.000e+00, -1.000e+00]]), array([[-1.181e+00, -8.382e-01]]), array([[ 3.376e+00,  2.683e+00]])]\n",
      "       constr_nfev: [36, 36, 36]\n",
      "       constr_njev: [0, 0, 0]\n",
      "       constr_nhev: [0, 0, 0]\n",
      "                 v: [array([-1.670e-07]), array([-3.020e-05]), array([ 5.662e-02])]\n",
      "            method: tr_interior_point\n",
      "        optimality: 3.619446659053338e-09\n",
      "  constr_violation: 2.1223023338734492e-12\n",
      "    execution_time: 0.0329129695892334\n",
      "         tr_radius: 2140110.45374745\n",
      "    constr_penalty: 1.0\n",
      " barrier_parameter: 2.560000000000001e-07\n",
      " barrier_tolerance: 2.560000000000001e-07\n",
      "             niter: 20\n"
     ]
    },
    {
     "name": "stderr",
     "output_type": "stream",
     "text": [
      "c:\\Users\\Zkorpion\\AppData\\Local\\Programs\\Python\\Python312\\Lib\\site-packages\\scipy\\optimize\\_differentiable_functions.py:504: UserWarning: delta_grad == 0.0. Check if the approximated function is linear. If the function is linear better results can be obtained by defining the Hessian as zero instead of using quasi-Newton approximations.\n",
      "  self.H.update(delta_x, delta_g)\n"
     ]
    }
   ],
   "source": [
    "x0 = np.array([1,1])\n",
    "solution = minimize(target_function, x0, constraints=rest, method='trust-constr')\n",
    "print(solution)"
   ]
  }
 ],
 "metadata": {
  "kernelspec": {
   "display_name": "Python 3",
   "language": "python",
   "name": "python3"
  },
  "language_info": {
   "codemirror_mode": {
    "name": "ipython",
    "version": 3
   },
   "file_extension": ".py",
   "mimetype": "text/x-python",
   "name": "python",
   "nbconvert_exporter": "python",
   "pygments_lexer": "ipython3",
   "version": "3.12.2"
  }
 },
 "nbformat": 4,
 "nbformat_minor": 2
}
