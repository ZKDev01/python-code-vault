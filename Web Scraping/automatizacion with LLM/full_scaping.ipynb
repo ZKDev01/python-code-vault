{
 "cells": [
  {
   "cell_type": "code",
   "execution_count": 2,
   "metadata": {},
   "outputs": [],
   "source": [
    "import os\n",
    "import dotenv\n",
    "import fnmatch\n",
    "import requests\n",
    "import csv\n",
    "\n",
    "import pandas as pd \n",
    "\n",
    "from langchain_google_genai import GoogleGenerativeAI\n",
    "\n",
    "from bs4 import BeautifulSoup\n",
    "\n",
    "from langchain_core.prompts import ChatPromptTemplate\n",
    "from langchain_core.output_parsers import StrOutputParser, CommaSeparatedListOutputParser\n",
    "from langchain_core.pydantic_v1 import BaseModel, Field"
   ]
  },
  {
   "cell_type": "markdown",
   "metadata": {},
   "source": [
    "Proceso de FULL SCRAPING "
   ]
  },
  {
   "cell_type": "code",
   "execution_count": 14,
   "metadata": {},
   "outputs": [],
   "source": [
    "# SCRAPING IN YEARS\n",
    "\n",
    "url = 'https://uww.org/events'\n",
    "\n",
    "response = requests.get(url)\n",
    "if response.status_code == 200:\n",
    "  soup = BeautifulSoup(response.content, 'html.parser')\n",
    "\n",
    "  layout_wrapper_div = soup.find('div', class_='layout-wrapper')\n",
    "  content = ''\n",
    "  if layout_wrapper_div:\n",
    "    content = layout_wrapper_div.prettify()\n",
    "  else:\n",
    "    print(\"ERROR\")\n",
    "\n",
    "  links = []\n",
    "  for link in soup.find_all('a'):\n",
    "    links.append(link.get('href'))\n",
    "\n",
    "  with open('years.html', 'w', encoding='utf-8') as file:\n",
    "    file.write(content)\n",
    "else:\n",
    "  print('Error al acceder')"
   ]
  },
  {
   "cell_type": "code",
   "execution_count": null,
   "metadata": {},
   "outputs": [],
   "source": [
    "message = ''\n",
    "for link in links:\n",
    "  message = message + f'LINK: {link}\\n'\n",
    "\n",
    "with open('links.md', 'w', encoding='utf-8') as file:\n",
    "  file.write(message)"
   ]
  },
  {
   "cell_type": "code",
   "execution_count": null,
   "metadata": {},
   "outputs": [],
   "source": []
  },
  {
   "cell_type": "markdown",
   "metadata": {},
   "source": []
  }
 ],
 "metadata": {
  "kernelspec": {
   "display_name": "Python 3",
   "language": "python",
   "name": "python3"
  },
  "language_info": {
   "codemirror_mode": {
    "name": "ipython",
    "version": 3
   },
   "file_extension": ".py",
   "mimetype": "text/x-python",
   "name": "python",
   "nbconvert_exporter": "python",
   "pygments_lexer": "ipython3",
   "version": "3.12.2"
  }
 },
 "nbformat": 4,
 "nbformat_minor": 2
}
