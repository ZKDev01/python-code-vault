{
 "cells": [
  {
   "cell_type": "code",
   "execution_count": 9,
   "metadata": {},
   "outputs": [],
   "source": [
    "import os\n",
    "import dotenv\n",
    "import fnmatch\n",
    "import requests\n",
    "import csv\n",
    "\n",
    "import pandas as pd \n",
    "\n",
    "from langchain_google_genai import GoogleGenerativeAI\n",
    "\n",
    "from bs4 import BeautifulSoup\n",
    "\n",
    "from langchain_core.prompts import ChatPromptTemplate\n",
    "from langchain_core.output_parsers import StrOutputParser, CommaSeparatedListOutputParser\n",
    "from langchain_core.pydantic_v1 import BaseModel, Field"
   ]
  },
  {
   "cell_type": "code",
   "execution_count": 18,
   "metadata": {},
   "outputs": [],
   "source": [
    "dotenv.load_dotenv()\n",
    "google_api_key = os.getenv('google_api_key')\n",
    "\n",
    "url = 'https://uww.org/event/seniors-pan-american-championships/results'"
   ]
  },
  {
   "cell_type": "code",
   "execution_count": 3,
   "metadata": {},
   "outputs": [
    {
     "name": "stdout",
     "output_type": "stream",
     "text": [
      "models/gemini-1.0-pro\n",
      "models/gemini-1.0-pro-001\n",
      "models/gemini-1.0-pro-latest\n",
      "models/gemini-1.0-pro-vision-latest\n",
      "models/gemini-1.5-flash\n",
      "models/gemini-1.5-flash-001\n",
      "models/gemini-1.5-flash-latest\n",
      "models/gemini-1.5-pro\n",
      "models/gemini-1.5-pro-001\n",
      "models/gemini-1.5-pro-latest\n",
      "models/gemini-pro\n",
      "models/gemini-pro-vision\n"
     ]
    }
   ],
   "source": [
    "import google.generativeai as genai\n",
    "\n",
    "genai.configure(api_key=google_api_key)\n",
    "for m in genai.list_models():\n",
    "  if 'generateContent' in m.supported_generation_methods:\n",
    "    print(m.name)"
   ]
  },
  {
   "cell_type": "markdown",
   "metadata": {},
   "source": [
    "El modelo 'models/gemini-1.5-pro' será usado ya que está optimizado para tareas de razonamiento complejas, como la generación de código y texto, la edición de texto, la resolución de problemas y la extracción y generación de datos"
   ]
  },
  {
   "cell_type": "code",
   "execution_count": 5,
   "metadata": {},
   "outputs": [],
   "source": [
    "model = GoogleGenerativeAI(\n",
    "  model='models/gemini-1.5-pro',\n",
    "  google_api_key=google_api_key\n",
    ")"
   ]
  },
  {
   "cell_type": "code",
   "execution_count": 17,
   "metadata": {},
   "outputs": [],
   "source": [
    "response = requests.get(url)\n",
    "if response.status_code == 200:\n",
    "  soup = BeautifulSoup(response.content, 'html.parser')\n",
    "  with open('index.html', 'w', encoding='utf-8') as file:\n",
    "    file.write(soup.get_text())\n",
    "else:\n",
    "  print(\"Error al acceder a {}: {}\".format(url, response.status_code))\n"
   ]
  },
  {
   "cell_type": "code",
   "execution_count": 22,
   "metadata": {},
   "outputs": [],
   "source": [
    "with open('index.html', 'r', encoding='utf-8') as file:\n",
    "  html_content = file.read()\n",
    "\n",
    "soup = BeautifulSoup(html_content, 'html.parser')\n",
    "\n",
    "for link in soup.select('.card-data a'):\n",
    "  del link['href']\n",
    "  \n",
    "  div = soup.new_tag('div')\n",
    "  div.string = link.get_text()\n",
    "\n",
    "  div['class'] = ''\n",
    "  link.replace_with(div)\n",
    "\n",
    "# Guardar el archivo modificado\n",
    "with open('index_mod.html', 'w', encoding='utf-8') as file:\n",
    "  file.write(str(soup))\n"
   ]
  },
  {
   "cell_type": "code",
   "execution_count": 25,
   "metadata": {},
   "outputs": [],
   "source": [
    "template = \"\"\"\n",
    "Del archivo siguiente, extraeme: Atleta 1, Atleta 2, Resultado, Ganador, Etapa\n",
    "\n",
    "{html_str}\n",
    "\n",
    "Ejemplo 1:\n",
    "\n",
    "<div class=\"tabs-container-wrap\">\n",
    "<div class=\"tabs-container-group\"><!-- -->\n",
    "<h3 class=\"tabs-container-title\">Gold</h3>\n",
    "<div class=\"tabs-container-content\" index=\"0\"><!-- -->\n",
    "<div class=\"waf-accordion-panel\">\n",
    "<div class=\"content-item\" index=\"0\">\n",
    "<div class=\"content-wrapper\">\n",
    "<div class=\"card-meta\"><!-- --> <!-- --> <!-- --> <!-- --></div>\n",
    "<div class=\"card-content\">\n",
    "<div class=\"card-item card-a won\">\n",
    "<div class=\"card-info\">\n",
    "<div class=\"card-data\"><div class=\"\">Spencer Richard\n",
    "                      LEE</div> <!-- --></div>\n",
    "<div class=\"card-img\"><img alt=\"\" class=\"image ls-is-cached lazyloaded\" data-src=\"https://athena.uww.org/public/person/24452/picture.jpg?placeholder=https://uww.org/static-assets/images/players/athlete-men.png?v=2.91\" src=\"https://athena.uww.org/public/person/24452/picture.jpg?placeholder=https://uww.org/static-assets/images/players/athlete-men.png?v=2.91\"/> <img alt=\"\" class=\"logo ls-is-cached lazyloaded\" data-src=\"/static-assets/images/flags/circle/usa.png?v=2.91\" src=\"/static-assets/images/flags/circle/usa.png?v=2.91\"/></div>\n",
    "</div>\n",
    "<div class=\"card-number\">12</div>\n",
    "</div>\n",
    "<div class=\"card-status\"><span class=\"text vs\">-</span> <span class=\"text status\"> by VSU1</span></div>\n",
    "<div class=\"card-item card-b\">\n",
    "<div class=\"card-info\">\n",
    "<div class=\"card-data\"><div class=\"\">Pedro Jesus MEJIAS RODRIGUEZ</div>\n",
    "<!-- --></div>\n",
    "<div class=\"card-img\"><img alt=\"\" class=\"image ls-is-cached lazyloaded\" data-src=\"https://athena.uww.org/public/person/7775/picture.jpg?placeholder=https://uww.org/static-assets/images/players/athlete-men.png?v=2.91\" src=\"https://athena.uww.org/public/person/7775/picture.jpg?placeholder=https://uww.org/static-assets/images/players/athlete-men.png?v=2.91\"/> <img alt=\"\" class=\"logo ls-is-cached lazyloaded\" data-src=\"/static-assets/images/flags/circle/ven.png?v=2.91\" src=\"/static-assets/images/flags/circle/ven.png?v=2.91\"/></div>\n",
    "</div>\n",
    "<div class=\"card-number\">2</div>\n",
    "</div>\n",
    "</div>\n",
    "<div class=\"card-action\"><a class=\"btn-link\" href=\"/results/1eed0571-3f64-6b7e-9feb-53288e213920\"><span class=\"text\"></span></a></div>\n",
    "</div>\n",
    "</div>\n",
    "</div>\n",
    "</div>\n",
    "</div>\n",
    "\n",
    "Respuesta de Ejemplo 1:\n",
    "Atleta 1: Spencer Richard LEE\n",
    "Atleta 2: Pedro Jesus MEJIAS RODRIGUEZ\n",
    "Resultado Atleta 1: 12\n",
    "Resultado Atleta 2: 2\n",
    "Ganador: Spencer Richard LEE\n",
    "Etapa: Gold\n",
    "\n",
    "Ejemplo 2:\n",
    "\n",
    "<div class=\"tabs-container-group\"><!-- -->\n",
    "<h3 class=\"tabs-container-title\">Bronze</h3>\n",
    "<div class=\"tabs-container-content\" index=\"0\"><!-- -->\n",
    "<div class=\"waf-accordion-panel\">\n",
    "<div class=\"content-item\" index=\"0\">\n",
    "<div class=\"content-wrapper\">\n",
    "<div class=\"card-meta\"><!-- --> <!-- --> <!-- --> <!-- --></div>\n",
    "<div class=\"card-content\">\n",
    "<div class=\"card-item card-a won\">\n",
    "<div class=\"card-info\">\n",
    "<div class=\"card-data\"><div class=\"\">Oscar\n",
    "                      Eduardo TIGREROS URBANO</div> <!-- --></div>\n",
    "<div class=\"card-img\"><img alt=\"\" class=\"image ls-is-cached lazyloaded\" data-src=\"https://athena.uww.org/public/person/26594/picture.jpg?placeholder=https://uww.org/static-assets/images/players/athlete-men.png?v=2.91\" src=\"https://athena.uww.org/public/person/26594/picture.jpg?placeholder=https://uww.org/static-assets/images/players/athlete-men.png?v=2.91\"/> <img alt=\"\" class=\"logo ls-is-cached lazyloaded\" data-src=\"/static-assets/images/flags/circle/col.png?v=2.91\" src=\"/static-assets/images/flags/circle/col.png?v=2.91\"/></div>\n",
    "</div>\n",
    "<div class=\"card-number\">13</div>\n",
    "</div>\n",
    "<div class=\"card-status\"><span class=\"text vs\">-</span> <span class=\"text status\"> by VSU1</span></div>\n",
    "<div class=\"card-item card-b\">\n",
    "<div class=\"card-info\">\n",
    "<div class=\"card-data\"><div class=\"\">Davi SILVA GIOVANNETTI</div> <!-- --></div>\n",
    "<div class=\"card-img\"><img alt=\"\" class=\"image lazyloaded\" data-src=\"https://athena.uww.org/public/person/96849/picture.jpg?placeholder=https://uww.org/static-assets/images/players/athlete-men.png?v=2.91\" src=\"https://athena.uww.org/public/person/96849/picture.jpg?placeholder=https://uww.org/static-assets/images/players/athlete-men.png?v=2.91\"/> <img alt=\"\" class=\"logo lazyloaded\" data-src=\"/static-assets/images/flags/circle/bra.png?v=2.91\" src=\"/static-assets/images/flags/circle/bra.png?v=2.91\"/></div>\n",
    "</div>\n",
    "<div class=\"card-number\">2</div>\n",
    "</div>\n",
    "</div>\n",
    "<div class=\"card-action\"><a class=\"btn-link\" href=\"/results/1eed0571-3f54-6dfa-afb2-53288e213920\"><span class=\"text\"></span></a></div>\n",
    "</div>\n",
    "</div>\n",
    "\n",
    "Respuesta de Ejemplo 2:\n",
    "Atleta 1: Eduardo TIGREROS URBANO\n",
    "Atleta 2: Davi SILVA GIOVANNETTI\n",
    "Resultado Atleta 1: 13\n",
    "Resultado Atleta 2: 2\n",
    "Ganador: Eduardo TIGREROS URBANO\n",
    "Etapa: Bronze\n",
    "\n",
    "\n",
    "Respuesta que tienes que devolvermela de la siguiente forma:\n",
    "\n",
    "Atleta 1, Atleta 2, Resultado Atleta 1, Resultado Atleta 2, Ganador, Etapa,\n",
    "Spencer Richard LEE, Pedro Jesus MEJIAS RODRIGUEZ, 12, 2, Spencer Richard LEE, Gold\n",
    "Eduardo TIGREROS URBANO, Davi SILVA GIOVANNETTI, 13, 2, Eduardo TIGREROS URBANO, Bronze\n",
    "\"\"\"\n",
    "\n",
    "def prompt_template_html_to_csv():\n",
    "  prompt = ChatPromptTemplate.from_template(template)\n",
    "  chain = prompt|model\n",
    "  return chain"
   ]
  },
  {
   "cell_type": "code",
   "execution_count": 26,
   "metadata": {},
   "outputs": [
    {
     "name": "stdout",
     "output_type": "stream",
     "text": [
      "Atleta 1, Atleta 2, Resultado Atleta 1, Resultado Atleta 2, Ganador, Etapa,\n",
      "Spencer Richard LEE, Pedro Jesus MEJIAS RODRIGUEZ, 12, 2, Spencer Richard LEE, Gold,\n",
      "Oscar Eduardo TIGREROS URBANO, Davi SILVA GIOVANNETTI, 13, 2, Oscar Eduardo TIGREROS URBANO, Bronze,\n",
      "Guesseppe Ricardo REA VILLARROEL, Jaime Isaac PEREZ CASTELLANOS, - , - , Guesseppe Ricardo REA VILLARROEL, Bronze,\n",
      "Pedro Jesus MEJIAS RODRIGUEZ, Guesseppe Ricardo REA VILLARROEL, - , - , Pedro Jesus MEJIAS RODRIGUEZ, Semifinal,\n",
      "Spencer Richard LEE, Davi SILVA GIOVANNETTI, 10, 0, Spencer Richard LEE, Semifinal,\n",
      "Spencer Richard LEE, Oscar Eduardo TIGREROS URBANO, 10, 0, Spencer Richard LEE, Quarterfinal,\n",
      "Davi SILVA GIOVANNETTI, Jorge Alberto OLVERA RODRIGUEZ, 9, 9, Davi SILVA GIOVANNETTI, Quarterfinal,\n",
      "Pedro Jesus MEJIAS RODRIGUEZ, Jaime Isaac PEREZ CASTELLANOS, 11, 0, Pedro Jesus MEJIAS RODRIGUEZ, Quarterfinal,\n",
      "Guesseppe Ricardo REA VILLARROEL, Peter Lewis HAMMER CUDE, 13, 11, Guesseppe Ricardo REA VILLARROEL, Quarterfinal,\n",
      "Oscar Eduardo TIGREROS URBANO, Enrique Armando HERRERA HUACRE, 12, 8, Oscar Eduardo TIGREROS URBANO, Qualification,\n",
      "Jaime Isaac PEREZ CASTELLANOS, Garette Austin SAUNDERS, 0, 0, Jaime Isaac PEREZ CASTELLANOS, Qualification,\n",
      "Guesseppe Ricardo REA VILLARROEL, Jacob Anthony MORAN, 4, 1, Guesseppe Ricardo REA VILLARROEL, Qualification\n",
      "\n"
     ]
    }
   ],
   "source": [
    "with open('index_mod.html', 'r', encoding='utf-8') as file:\n",
    "  html_content = file.read()\n",
    "\n",
    "chain = prompt_template_html_to_csv()\n",
    "result = chain.invoke({'html_str':html_content})\n",
    "print(result)"
   ]
  }
 ],
 "metadata": {
  "kernelspec": {
   "display_name": "Python 3",
   "language": "python",
   "name": "python3"
  },
  "language_info": {
   "codemirror_mode": {
    "name": "ipython",
    "version": 3
   },
   "file_extension": ".py",
   "mimetype": "text/x-python",
   "name": "python",
   "nbconvert_exporter": "python",
   "pygments_lexer": "ipython3",
   "version": "3.12.2"
  }
 },
 "nbformat": 4,
 "nbformat_minor": 2
}
