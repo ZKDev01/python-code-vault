{
 "cells": [
  {
   "cell_type": "markdown",
   "id": "675d3759",
   "metadata": {},
   "source": [
    "# Vectors in NumPy\n",
    "\n",
    "A **Vector Space** is represented as $(E,\\mathbb{K}, \\oplus, \\odot)$, such that $\\mathbb{K}$ is a set of scalars and $E$ is a non-empty set ($E \\neq \\emptyset$); defined by two operations: $\\oplus$ internal addition in $E$ and $\\odot$ scalar multiplication (internal) that satisfy the following axioms: $\\forall x,y \\in E$, $\\forall \\alpha,\\beta \\in \\mathbb{K}$\n",
    "\n",
    "1. *Commutative addition*: $x \\oplus y = y \\oplus x$\n",
    "2. *Associative addition*: $(x \\oplus y) \\oplus z  = x \\oplus (y \\oplus z)$\n",
    "3. *Zero element*: There exists a unique element in $E$, denoted by $0_{E}$ and called the zero of the space, such that: $x \\oplus 0_{E} = x$\n",
    "4. *Opposite element*: For every element $x \\in E$ there exists a unique element $(-x)$ called the opposite of $x$ which satisfies: $x \\oplus (-x) = 0_{E}$\n",
    "5. *Distributivity of vector addition and scalar multiplication*: $\\alpha \\odot (x \\oplus y) = \\alpha \\odot x \\oplus \\alpha \\odot y$\n",
    "6. *Distributivity of scalar addition and vector multiplication*: $(\\alpha + \\beta) \\odot x = \\alpha \\odot x \\oplus \\beta \\odot x$\n",
    "7. *Associativity of scalar multiplication*: $(\\alpha \\beta) \\odot x = \\alpha \\odot (\\beta \\odot x)$\n",
    "8. *Scalar identity*: $1 \\odot x = x$, where $1 \\in \\mathbb{K}$\n",
    "\n",
    "**NumPy** is a Python library for efficient handling of multidimensional arrays and linear algebra operations. Using the `numpy.array` class, it is possible to represent and manipulate vectors and perform basic operations on them (such as addition, scalar multiplication, dot product, and many others) in a way similar to their definition in linear algebra."
   ]
  },
  {
   "cell_type": "code",
   "execution_count": null,
   "id": "a3afed21",
   "metadata": {},
   "outputs": [],
   "source": [
    "import time \n",
    "import numpy as np \n",
    "import pandas as pd"
   ]
  },
  {
   "cell_type": "markdown",
   "id": "89b5b8b8",
   "metadata": {},
   "source": [
    "## Vectors of One Dimension and Two Dimensions in Vector Spaces\n",
    "\n",
    "A one-dimensional vector, such as `np.array([1.0, 2.0, 3.0])`, is a typical element of a vector space of dimension 3 over the real numbers ($\\mathbb{R}^3$). Each component corresponds to a coordinate in that space. These vectors can be added and multiplied by scalars following the rules of linear algebra.\n",
    "\n",
    "A two-dimensional vector, or matrix, such as `np.array([[1.0, 2.0], [3.0, 4.0], [5.0, 6.0]])`, can be interpreted as a collection of vectors from the space $\\mathbb{R}^2$ or as points in the $3 \\times 2$ space of matrices. Both structures satisfy the properties of a vector space.\n",
    "\n",
    "## Explanation of NumPy Functions\n",
    "\n",
    "- `np.ones(X)`: Generates a vector (or array) of dimension `X` filled with the number 1. These vectors are useful to initialize and represent the constant one vector in a vector space.\n",
    "- `np.zeros(X)`: Generates a vector (or array) of dimension `X` filled with zeros. The zero vector is the neutral element of vector addition in any vector space.\n",
    "- `np.arange(a,b,c)`: Creates a vector with numbers starting at `a`, ending before `b`, and advancing in steps of `c`. It is useful for generating arithmetic sequences, often used in examples of discrete vector spaces.\n",
    "- `np.random.rand(X)`: Generates a vector of dimension `X` with random numbers between 0 and 1, useful to simulate experiments or select arbitrary values in vector spaces.\n"
   ]
  },
  {
   "cell_type": "code",
   "execution_count": null,
   "id": "af6e4470",
   "metadata": {},
   "outputs": [],
   "source": [
    "vector_list = np.array([1.0, 2.0, 3.0]) \n",
    "vector_matrix = np.array( \n",
    "  [\n",
    "    [1.0, 2.0], \n",
    "    [3.0, 4.0], \n",
    "    [5.0, 6.0]\n",
    "  ]\n",
    ")\n",
    "vector_ones = np.ones(4) \n",
    "vector_zeros = np.zeros(4)\n",
    "vector_range = np.arange(2, 11, 2)\n",
    "vector_random = np.random.rand(4) \n",
    "\n",
    "print(\"1D Vector:\", vector_list)\n",
    "print(\"2D Vector (Matrix):\\n\", vector_matrix)\n",
    "print(\"Vector of Ones:\", vector_ones)\n",
    "print(\"Vector of Zeros:\", vector_zeros)\n",
    "print(\"Vector with Range:\", vector_range)\n",
    "print(\"Random Vector:\", vector_random)"
   ]
  },
  {
   "cell_type": "markdown",
   "id": "9fedd298",
   "metadata": {},
   "source": [
    "## Types of Vectors According to the Vector Space in NumPy\n",
    "\n",
    "Vectors in NumPy can be defined over various numeric sets, which correspond to different possible vector spaces depending on the nature of their elements. Each type of vector is distinguished by the `dtype` (data type) of its components in the vector. Common data types include:\n",
    "\n",
    "- **Integers (`int`)**: These represent vectors whose elements are integers of varying bit-widths, such as `int8`, `int16`, `int32`, and `int64`.\n",
    "- **Unsigned Integers (`uint`)**: Non-negative integers like `uint8`, `uint16`, `uint32`, and `uint64`.\n",
    "- **Floating-point numbers (`float`)**: Real numbers with decimals, commonly `float16`, `float32`, and `float64`.\n",
    "- **Complex numbers (`complex`)**: Numbers with real and imaginary parts, typically `complex64` and `complex128`.\n",
    "- **Boolean (`bool`)**: Vectors whose elements are boolean values (`True` or `False`).\n",
    "\n",
    "Each `dtype` defines the type of elements held in the vector, which directly relates to the underlying vector space's field (such as integers, real numbers, complex numbers, or logical values). NumPy provides flexibility to create vectors with any of these types depending on the application."
   ]
  },
  {
   "cell_type": "code",
   "execution_count": null,
   "id": "5e121a24",
   "metadata": {},
   "outputs": [],
   "source": [
    "vector_int = np.array([1, 2, 3], dtype=np.int32)\n",
    "vector_float64 = np.array([1.0, 2.0, 3.0], dtype=np.float64)\n",
    "vector_complex = np.array([1 + 2j, 3 - 1j, 5 + 0j], dtype=complex)\n",
    "vector_bool = np.array([True, False, True], dtype=np.bool_)\n",
    "\n",
    "print(\"Type Integer Vector:\", vector_int)\n",
    "print(\"Type Float Vector:\", vector_float64)\n",
    "print(\"Type Complex Vector:\", vector_complex)\n",
    "print(\"Type Boolean Vector:\", vector_bool)"
   ]
  },
  {
   "cell_type": "markdown",
   "id": "7831640f",
   "metadata": {},
   "source": [
    "## Properties of a Vector in NumPy\n",
    "\n",
    "A vector in NumPy offers several important properties including:\n",
    "\n",
    "- *Size* (`size`): The total number of elements contained in the vector.\n",
    "- *Shape* (`shape`): A tuple indicating the dimensions of the vector, such as the length for a 1D vector, or rows and columns for a matrix.\n",
    "- *Number of Dimensions* (`ndim`): The number of dimensions of the array (for a vector, ndim is typically 1).\n",
    "- *Data Type* (`dtype`): The data type of the elements contained in the vector.\n",
    "- *Number of Bytes* (`nbytes`): The total memory used by the vector in bytes.\n",
    "\n",
    "These properties allow you to inspect the structure and type characteristics of vectors (and arrays in general) in NumPy. By using these same properties, it is also possible to create new vectors and matrices with desired characteristics."
   ]
  },
  {
   "cell_type": "code",
   "execution_count": null,
   "id": "6e785790",
   "metadata": {},
   "outputs": [],
   "source": [
    "vector = np.array([1, 2, 3, 4, 5])\n",
    "vector_properties = pd.DataFrame(\n",
    "  {\n",
    "    \"Properties\": [\n",
    "      \"Vector\",\n",
    "      \"Size\",\n",
    "      \"Shape\",\n",
    "      \"Dimensions\",\n",
    "      \"Data Type\",\n",
    "      \"Bytes\"\n",
    "    ],\n",
    "    \"Values\": [\n",
    "      vector,\n",
    "      vector.size,\n",
    "      vector.shape,\n",
    "      vector.ndim,\n",
    "      str(vector.dtype),\n",
    "      vector.nbytes\n",
    "    ]\n",
    "  }\n",
    ")\n",
    "\n",
    "print(vector_properties)\n",
    "\n",
    "# using vector properties to create zeros vector, ones vector, and identity matrix\n",
    "dimension = vector.size\n",
    "vector_zeros = np.zeros(dimension)\n",
    "vector_ones = np.ones(dimension)\n",
    "vector_identity = np.eye(dimension)\n",
    "\n",
    "print(\"Zeros Vector:\", vector_zeros)\n",
    "print(\"Ones Vector:\", vector_ones)\n",
    "print(\"Identity Matrix:\\n\", vector_identity)\n"
   ]
  },
  {
   "cell_type": "markdown",
   "id": "057f45f8",
   "metadata": {},
   "source": [
    "## Basis of a Vector Space. Canonical Basis\n",
    "\n",
    "**Basis**: A system of vectors of a vector space $E$ over $\\mathbb{K}$ that is both a generating system and linearly independent.\n",
    "\n",
    "The canonical basis is the set formed by the unit vectors whose only non-zero component is a 1 in a specific position and zeros in the others. In notation, in $\\mathbb{R}^n$:\n",
    "$$B = \\{ e_1 = (1, 0, ..., 0), e_2 = (0, 1, 0, ..., 0), ... , e_n = (0,0,...,1)\\}$$\n",
    "\n",
    "This canonical basis is linearly independent and generates the entire vector space. It is sometimes called the **standard basis** or **usual basis**, where every vector in the space can be uniquely expressed as a linear combination of these basis vectors. Each $e_i$ is a vector with 1 in the $i$-th position and 0 elsewhere, which makes them orthonormal under the usual dot product in $\\mathbb{R}^n$.\n",
    "\n",
    "For example, in $\\mathbb{R}^3$, the canonical basis is:\n",
    "$$\\{ e_1 = (1,0,0), e_2 = (0,1,0), e_3 = (0,0,1) \\}$$\n",
    "and any vector $v = (x,y,z)$ can be uniquely decomposed as:\n",
    "$$v = x e_1 + y e_2 + z e_3$$\n"
   ]
  },
  {
   "cell_type": "code",
   "execution_count": null,
   "id": "fdf16616",
   "metadata": {},
   "outputs": [],
   "source": [
    "# basis of a vector space: canonical basis\n",
    "for i in range(dimension):\n",
    "  e_i = np.zeros(dimension)\n",
    "  e_i[i] = 1\n",
    "  print(f\"e_{i+1} = {e_i}\")"
   ]
  },
  {
   "cell_type": "markdown",
   "id": "345e2bd8",
   "metadata": {},
   "source": [
    "## Vector Operations\n",
    "\n",
    "The basic operations on vectors in a vector space are: addition, scalar multiplication, and dot product. Addition and scalar multiplication satisfy the property that the result is a vector belonging to the same vector space.\n",
    "\n",
    "- *Vector Addition*: Given two vectors $v, w$ in a vector space $V$, their sum $v + w$ is also in $V$. Addition is performed component-wise.\n",
    "- *Scalar Multiplication*: Given a scalar $\\alpha$ and a vector $v$, the vector $\\alpha v$ belongs to $V$. Each component of the vector is multiplied by $\\alpha$.\n",
    "- *Dot Product*: This is an inner product that results in a scalar, not a vector. However, it is a fundamental operation for measuring angles and projections in a vector space.\n",
    "- *Linear Combination*: Expressed as $\\alpha_1 v_1 + \\alpha_2 v_2 + \\cdots + \\alpha_n v_n$, it is the sum of scaled vectors resulting in another vector in $V$."
   ]
  },
  {
   "cell_type": "code",
   "execution_count": null,
   "id": "0e8f3675",
   "metadata": {},
   "outputs": [],
   "source": [
    "v1 = np.random.rand(5)\n",
    "v2 = np.random.rand(5)\n",
    "scalar = np.random.rand(1)[0]\n",
    "\n",
    "print(f\"\"\"Information \n",
    "Vector v1: {v1}\n",
    "Vector v2: {v2}\n",
    "Scalar: {scalar}\n",
    "\"\"\")\n",
    "\n",
    "vector_sum = v1 + v2\n",
    "vector_scalar_mult = scalar * v1\n",
    "vector_dot_product = np.dot(v1, v2)\n",
    "vector_lineal_combination = 2.0 * v1 + 3.0 * v2\n",
    "\n",
    "print(f\"\"\"Results\n",
    "Sum: {vector_sum}\n",
    "Scalar Multiplication: {vector_scalar_mult} \n",
    "Dot Product: {vector_dot_product}\n",
    "Linear Combination: {vector_lineal_combination}\n",
    "  where alpha_1 = 2.0, alpha_2 = 3.0\n",
    "\"\"\")\n",
    "\n",
    "# check if result vectors are valid\n",
    "assert vector_sum.shape == v1.shape, \"Sum vector shape mismatch\"\n",
    "assert vector_scalar_mult.shape == v1.shape, \"Scalar multiplication vector shape mismatch\"\n",
    "assert vector_dot_product.shape == (), \"Dot product result should be a scalar\"\n",
    "assert vector_lineal_combination.shape == v1.shape, \"Linear combination vector shape mismatch\""
   ]
  },
  {
   "cell_type": "markdown",
   "id": "8c8c36da",
   "metadata": {},
   "source": [
    "## Rank of a Matrix Formed by a Set of Vectors\n",
    "\n",
    "The rank of a matrix (also called the rank of a set of vectors) is the dimension of the vector space generated by the rows (or columns) of the matrix. In other words, the rank indicates the maximum number of linearly independent vectors within the given set.\n",
    "\n",
    "## Linear Independence vs. Linear Dependence\n",
    "\n",
    "Let $E$ be a vector space over $\\mathbb{K}$, and let $S = \\{ v_{1},\\dots,v_{n} \\}$ be a system of vectors in $E$. The set $S$ is said to be **linearly dependent** if \n",
    "$$\\exists v_{j} = \\sum_{i \\neq j} \\alpha_{i} v_{i}$$\n",
    "otherwise, the system is said to be **linearly independent**. \n"
   ]
  },
  {
   "cell_type": "code",
   "execution_count": null,
   "id": "1ca773b9",
   "metadata": {},
   "outputs": [],
   "source": [
    "vectors = np.array(\n",
    "  [\n",
    "    [1, 0, 1],\n",
    "    [0, 1, 1],\n",
    "    [1, 1, 0]\n",
    "  ]\n",
    ")\n",
    "print(vectors)\n",
    "\n",
    "vector_range = np.linalg.matrix_rank(vectors)\n",
    "print(\"Rank of the vector matrix:\", vector_range)\n",
    "print(f\"N vectors: {vectors.shape[0]}\")\n",
    "print(f\"N dimensions: {vectors.shape[1]}\")\n",
    "\n",
    "# lineal independence\n",
    "if vector_range == vectors.shape[0]: print(\"The vectors are linearly independent.\")\n",
    "else: print(\"The vectors are linearly dependent.\")"
   ]
  },
  {
   "cell_type": "markdown",
   "id": "bd85242b",
   "metadata": {},
   "source": [
    "## Comparison of Time Complexity of Vector Operations Using NumPy and Native Python (Lists)"
   ]
  },
  {
   "cell_type": "code",
   "execution_count": null,
   "id": "a9f03038",
   "metadata": {},
   "outputs": [],
   "source": [
    "lambda_np_sum = lambda v1, v2: v1 + v2\n",
    "lambda_np_scalar_mult = lambda scalar, v: scalar * v\n",
    "\n",
    "lambda_py_sum = lambda v1, v2: [x + y for x, y in zip(v1, v2)]\n",
    "lambda_py_scalar_mult = lambda scalar, v: [scalar * x for x in v]\n",
    "\n",
    "def measure_time(func, *args, **kwargs):\n",
    "  t_start = time.time()\n",
    "  result = func(*args, **kwargs)\n",
    "  t_end = time.time()\n",
    "  elapsed_time = t_end - t_start\n",
    "  return result, elapsed_time\n",
    "\n",
    "dimensions = [100, 1000, 10000, 50000, 100000]\n",
    "benchmark_results = {\n",
    "  'dimensions': dimensions,\n",
    "  'np_sum': [], 'py_sum': [],\n",
    "  'np_scalar_mult': [], 'py_scalar_mult': []\n",
    "}\n",
    "\n",
    "n_samples = 100\n",
    "scalar = np.random.rand(1)[0]\n",
    "\n",
    "for dim in dimensions:\n",
    "  np_v1 = np.random.rand(dim)\n",
    "  np_v2 = np.random.rand(dim)\n",
    "  py_v1 = list(np_v1)\n",
    "  py_v2 = list(np_v2)\n",
    "  \n",
    "  time_np_sum = sum(measure_time(lambda_np_sum, np_v1, np_v2)[1] for _ in range(n_samples)) / n_samples\n",
    "  time_py_sum = sum(measure_time(lambda_py_sum, py_v1, py_v2)[1] for _ in range(n_samples)) / n_samples\n",
    "  time_np_scalar_mult = sum(measure_time(lambda_np_scalar_mult, scalar, np_v1)[1] for _ in range(n_samples)) / n_samples\n",
    "  time_py_scalar_mult = sum(measure_time(lambda_py_scalar_mult, scalar, py_v1)[1] for _ in range(n_samples)) / n_samples\n",
    "  \n",
    "  # save results\n",
    "  benchmark_results['np_sum'].append(time_np_sum)\n",
    "  benchmark_results['py_sum'].append(time_py_sum)\n",
    "  benchmark_results['np_scalar_mult'].append(time_np_scalar_mult)\n",
    "  benchmark_results['py_scalar_mult'].append(time_py_scalar_mult)\n",
    "\n",
    "df = pd.DataFrame(benchmark_results)\n",
    "df.set_index('dimensions', inplace=True)\n",
    "print(df)"
   ]
  }
 ],
 "metadata": {
  "kernelspec": {
   "display_name": "env (3.12.2)",
   "language": "python",
   "name": "python3"
  },
  "language_info": {
   "codemirror_mode": {
    "name": "ipython",
    "version": 3
   },
   "file_extension": ".py",
   "mimetype": "text/x-python",
   "name": "python",
   "nbconvert_exporter": "python",
   "pygments_lexer": "ipython3",
   "version": "3.12.2"
  }
 },
 "nbformat": 4,
 "nbformat_minor": 5
}
